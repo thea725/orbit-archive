{
  "nbformat": 4,
  "nbformat_minor": 5,
  "metadata": {
    "kernelspec": {
      "display_name": "Python 3",
      "language": "python",
      "name": "python3"
    },
    "language_info": {
      "codemirror_mode": {
        "name": "ipython",
        "version": 3
      },
      "file_extension": ".py",
      "mimetype": "text/x-python",
      "name": "python",
      "nbconvert_exporter": "python",
      "pygments_lexer": "ipython3",
      "version": "3.8.8"
    },
    "colab": {
      "name": "Salinan dari KM-09-DATA PREPROCESSING.ipynb",
      "provenance": [],
      "collapsed_sections": [],
      "include_colab_link": true
    }
  },
  "cells": [
    {
      "cell_type": "markdown",
      "metadata": {
        "id": "view-in-github",
        "colab_type": "text"
      },
      "source": [
        "<a href=\"https://colab.research.google.com/github/thea725/orbit-archive/blob/main/notebook/Data%20Preprocessing.ipynb\" target=\"_parent\"><img src=\"https://colab.research.google.com/assets/colab-badge.svg\" alt=\"Open In Colab\"/></a>"
      ]
    },
    {
      "cell_type": "code",
      "metadata": {
        "id": "Y6xSbUxu6kBI"
      },
      "source": [
        "# Import Library yang dibutuhkan\n",
        "import requests   # Library untuk melakukan request dari website tertentu\n",
        "from bs4 import BeautifulSoup # Library untuk ekstraksi konten dalam website"
      ],
      "id": "Y6xSbUxu6kBI",
      "execution_count": null,
      "outputs": []
    },
    {
      "cell_type": "code",
      "metadata": {
        "id": "-NUU0XFM8VgK"
      },
      "source": [
        "result = requests.get(\"https://warstek.com/kabel-laut/\")"
      ],
      "id": "-NUU0XFM8VgK",
      "execution_count": null,
      "outputs": []
    },
    {
      "cell_type": "code",
      "metadata": {
        "colab": {
          "base_uri": "https://localhost:8080/",
          "height": 238
        },
        "id": "hAn7hf6csiE7",
        "outputId": "19ff9024-bd12-43ce-b536-8a28db5eae1c"
      },
      "source": [
        "result.text"
      ],
      "id": "hAn7hf6csiE7",
      "execution_count": null,
      "outputs": [
        {
          "output_type": "execute_result",
          "data": {
            "application/vnd.google.colaboratory.intrinsic+json": {
              "type": "string"
            },
            "text/plain": [
              "'<!DOCTYPE html>\\n<html lang=\"id-ID\">\\n<head>\\n<script data-ad-client=\"ca-pub-9638064869561472\" async src=\"https://pagead2.googlesyndication.com/pagead/js/adsbygoogle.js\"></script>\\n<meta charset=\"UTF-8\">\\n<meta name=\"viewport\" content=\"width=device-width, initial-scale=1, minimum-scale=1\">\\n<link rel=\"profile\" href=\"http://gmpg.org/xfn/11\">\\n<meta name=\\'robots\\' content=\\'index, follow, max-image-preview:large, max-snippet:-1, max-video-preview:-1\\'/>\\n<link rel=\"preload\" href=\"https://warstek.com/wp-content/plugins/rate-my-post/public/css/fonts/ratemypost.ttf\" type=\"font/ttf\" as=\"font\" crossorigin=\"anonymous\">\\n<title>Mengenal Kabel Laut - Bagian Utama dari Internet</title>\\n<meta name=\"description\" content=\"Hampir seluruh internet kita melewati kabel laut, bukan satelit. Namun, meski jauh lebih murah dan cepat, kabel laut juga memiliki kelemahan\"/>\\n<link rel=\"canonical\" href=\"https://warstek.com/kabel-laut/\"/>\\n<meta property=\"og:locale\" content=\"id_ID\"/>\\n<meta property=\"og:type\" content=\"article\"/>\\n<meta property=\"og:title\" content=\"Mengenal Kabel Laut - Bagian Utama dari Internet\"/>\\n<meta property=\"og:description\" content=\"Hampir seluruh internet kita melewati kabel laut, bukan satelit. Namun, meski jauh lebih murah dan cepat, kabel laut juga memiliki kelemahan\"/>\\n<meta property=\"og:url\" content=\"https://warstek.com/kabel-laut/\"/>\\n<meta property=\"og:site_name\" content=\"Warung Sains Teknologi\"/>\\n<meta property=\"article:publisher\" content=\"http://fb.com/warstek\"/>\\n<meta property=\"article:published_time\" content=\"2021-09-25T12:23:06+00:00\"/>\\n<meta property=\"article:modified_time\" content=\"2021-09-25T12:23:09+00:00\"/>\\n<meta property=\"og:image\" content=\"https://warstek.com/wp-content/uploads/2021/09/image-12.png\"/>\\n<meta property=\"og:image:width\" content=\"982\"/>\\n<meta property=\"og:image:height\" content=\"360\"/>\\n<meta name=\"twitter:card\" content=\"summary\"/>\\n<meta name=\"twitter:creator\" content=\"@KimiaWarstek\"/>\\n<meta name=\"twitter:site\" content=\"@KimiaWarstek\"/>\\n<meta name=\"twitter:label1\" content=\"Ditulis oleh\"/>\\n<meta name=\"twitter:data1\" content=\"Pandega Abyan Zumarsyah\"/>\\n<meta name=\"twitter:label2\" content=\"Estimasi waktu membaca\"/>\\n<meta name=\"twitter:data2\" content=\"6 menit\"/>\\n<script type=\"application/ld+json\" class=\"yoast-schema-graph\">{\"@context\":\"https://schema.org\",\"@graph\":[{\"@type\":\"WebSite\",\"@id\":\"https://warstek.com/#website\",\"url\":\"https://warstek.com/\",\"name\":\"Warung Sains Teknologi\",\"description\":\"Sains dan Teknologi yang Seru dan Menyenangkan\",\"potentialAction\":[{\"@type\":\"SearchAction\",\"target\":{\"@type\":\"EntryPoint\",\"urlTemplate\":\"https://warstek.com/?s={search_term_string}\"},\"query-input\":\"required name=search_term_string\"}],\"inLanguage\":\"id-ID\"},{\"@type\":\"ImageObject\",\"@id\":\"https://warstek.com/kabel-laut/#primaryimage\",\"inLanguage\":\"id-ID\",\"url\":\"https://warstek.com/wp-content/uploads/2021/09/image-12.png\",\"contentUrl\":\"https://warstek.com/wp-content/uploads/2021/09/image-12.png\",\"width\":982,\"height\":360,\"caption\":\"Mengenal Kabel Laut - Bagian Utama dari Internet\"},{\"@type\":\"WebPage\",\"@id\":\"https://warstek.com/kabel-laut/#webpage\",\"url\":\"https://warstek.com/kabel-laut/\",\"name\":\"Mengenal Kabel Laut - Bagian Utama dari Internet\",\"isPartOf\":{\"@id\":\"https://warstek.com/#website\"},\"primaryImageOfPage\":{\"@id\":\"https://warstek.com/kabel-laut/#primaryimage\"},\"datePublished\":\"2021-09-25T12:23:06+00:00\",\"dateModified\":\"2021-09-25T12:23:09+00:00\",\"author\":{\"@id\":\"https://warstek.com/#/schema/person/2f7479aaba211e0befcf8dbaf62d3312\"},\"description\":\"Hampir seluruh internet kita melewati kabel laut, bukan satelit. Namun, meski jauh lebih murah dan cepat, kabel laut juga memiliki kelemahan\",\"breadcrumb\":{\"@id\":\"https://warstek.com/kabel-laut/#breadcrumb\"},\"inLanguage\":\"id-ID\",\"potentialAction\":[{\"@type\":\"ReadAction\",\"target\":[\"https://warstek.com/kabel-laut/\"]}]},{\"@type\":\"BreadcrumbList\",\"@id\":\"https://warstek.com/kabel-laut/#breadcrumb\",\"itemListElement\":[{\"@type\":\"ListItem\",\"position\":1,\"name\":\"Home\",\"item\":\"https://warstek.com/\"},{\"@type\":\"ListItem\",\"position\":2,\"name\":\"Mengenal Kabel Laut &#8211; Bagian Utama dari Internet\"}]},{\"@type\":\"Person\",\"@id\":\"https://warstek.com/#/schema/person/2f7479aaba211e0befcf8dbaf62d3312\",\"name\":\"Pandega Abyan Zumarsyah\",\"image\":{\"@type\":\"ImageObject\",\"@id\":\"https://warstek.com/#personlogo\",\"inLanguage\":\"id-ID\",\"url\":\"https://secure.gravatar.com/avatar/71620aaaf0c8f7cc91705d7587a28b59?s=96&d=retro&r=g\",\"contentUrl\":\"https://secure.gravatar.com/avatar/71620aaaf0c8f7cc91705d7587a28b59?s=96&d=retro&r=g\",\"caption\":\"Pandega Abyan Zumarsyah\"},\"description\":\"Mahasiswa S-1 Teknik Elektro di Universitas Gadjah Mada. Tertarik pada semua bidang sains dan teknologi secara umum; terutama bidang Fisika, Sejarah Sains, dan Teknik Elektro\",\"sameAs\":[\"http://pandegaaz101.blogspot.com\",\"https://www.instagram.com/pandegaaz/\",\"https://www.linkedin.com/in/pandega-abyan-zumarsyah-43910a152\"],\"url\":\"https://warstek.com/author/pandegaabyan/\"}]}</script>\\n<link rel=\"alternate\" type=\"application/rss+xml\" title=\"Warung Sains Teknologi &raquo; Feed\" href=\"https://warstek.com/feed/\"/>\\n<link rel=\"alternate\" type=\"application/rss+xml\" title=\"Warung Sains Teknologi &raquo; Umpan Komentar\" href=\"https://warstek.com/comments/feed/\"/>\\n<link rel=\"alternate\" type=\"application/rss+xml\" title=\"Warung Sains Teknologi &raquo; Mengenal Kabel Laut &#8211; Bagian Utama dari Internet Umpan Komentar\" href=\"https://warstek.com/kabel-laut/feed/\"/>\\n<link rel=\"stylesheet\" type=\"text/css\" href=\"//warstek.com/wp-content/cache/wpfc-minified/e4buso0a/dx2m4.css\" media=\"all\"/>\\n<style id=\\'wp-block-library-inline-css\\'>.has-text-align-justify{text-align:justify;}</style>\\n<link rel=\"stylesheet\" type=\"text/css\" href=\"//warstek.com/wp-content/cache/wpfc-minified/lbfp6j25/e4tew.css\" media=\"all\"/>\\n<style id=\\'neve-style-inline-css\\'>.header-menu-sidebar-inner li.menu-item-nav-search{display:none;}\\n.container{max-width:748px;}\\n.has-neve-button-color-color{color:var(--nv-primary-accent)!important;}\\n.has-neve-button-color-background-color{background-color:var(--nv-primary-accent)!important;}\\n.single-post-container .alignfull > [class*=\"__inner-container\"], .single-post-container .alignwide > [class*=\"__inner-container\"]{max-width:718px}\\n.button.button-primary, button, input[type=button], .btn, input[type=\"submit\"], \\nul[id^=\"nv-primary-navigation\"] li.button.button-primary > a, .menu li.button.button-primary > a, .wp-block-button.is-style-primary .wp-block-button__link, .wc-block-grid .wp-block-button .wp-block-button__link, form input[type=\"submit\"], form button[type=\"submit\"], #comments input[type=\"submit\"]{background-color:var(--nv-primary-accent);color:#ffffff;border-radius:3px;border:none;border-width:1px 1px 1px 1px;}\\n.button.button-primary:hover, ul[id^=\"nv-primary-navigation\"] li.button.button-primary > a:hover, .menu li.button.button-primary > a:hover, .wp-block-button.is-style-primary .wp-block-button__link:hover, .wc-block-grid .wp-block-button .wp-block-button__link:hover, form input[type=\"submit\"]:hover, form button[type=\"submit\"]:hover, #comments input[type=\"submit\"]:hover{background-color:var(--nv-primary-accent);color:#ffffff;}\\n.button.button-secondary:not(.secondary-default), .wp-block-button.is-style-secondary .wp-block-button__link{background-color:rgba(0,0,0,0);color:var(--nv-text-color);border-radius:3px;border:1px solid;border-width:1px 1px 1px 1px;}\\n.button.button-secondary.secondary-default{background-color:rgba(0,0,0,0);color:var(--nv-text-color);border-radius:3px;border:1px solid;border-width:1px 1px 1px 1px;}\\n.button.button-secondary:not(.secondary-default):hover, .wp-block-button.is-style-secondary .wp-block-button__link:hover{background-color:rgba(0,0,0,0);color:var(--nv-text-color);}\\n.button.button-secondary.secondary-default:hover{background-color:rgba(0,0,0,0);color:var(--nv-text-color);}\\nbody, .site-title{font-size:16px;}\\nform:not([role=\"search\"]):not(.woocommerce-cart-form):not(.woocommerce-ordering):not(.cart) input:read-write:not(#coupon_code), form textarea, form select, .widget select{margin-bottom:10px;}\\nform input:read-write, form textarea, form select, form select option, form.wp-block-search input.wp-block-search__input, .widget select{color:var(--nv-text-color);}\\nform label, .wpforms-container .wpforms-field-label{margin-bottom:10px;}\\nform.search-form input:read-write{padding-right:45px !important;}\\n.header-main-inner,.header-main-inner a:not(.button),.header-main-inner .navbar-toggle{color:var(--nv-text-color);}\\n.header-main-inner .nv-icon svg,.header-main-inner .nv-contact-list svg{fill:var(--nv-text-color);}\\n.header-main-inner .icon-bar{background-color:var(--nv-text-color);}\\n.hfg_header .header-main-inner .nav-ul .sub-menu{background-color:#ffffff;}\\n.hfg_header .header-main-inner{background-color:#ffffff;}\\n.header-bottom-inner,.header-bottom-inner a:not(.button),.header-bottom-inner .navbar-toggle{color:var(--nv-text-dark-bg);}\\n.header-bottom-inner .nv-icon svg,.header-bottom-inner .nv-contact-list svg{fill:var(--nv-text-dark-bg);}\\n.header-bottom-inner .icon-bar{background-color:var(--nv-text-dark-bg);}\\n.hfg_header .header-bottom-inner .nav-ul .sub-menu{background-color:#fba912;}\\n.hfg_header .header-bottom-inner{background-color:#fba912;}\\n.header-menu-sidebar .header-menu-sidebar-bg,.header-menu-sidebar .header-menu-sidebar-bg a:not(.button),.header-menu-sidebar .header-menu-sidebar-bg .navbar-toggle{color:var(--nv-text-color);}\\n.header-menu-sidebar .header-menu-sidebar-bg .nv-icon svg,.header-menu-sidebar .header-menu-sidebar-bg .nv-contact-list svg{fill:var(--nv-text-color);}\\n.header-menu-sidebar .header-menu-sidebar-bg .icon-bar{background-color:var(--nv-text-color);}\\n.hfg_header .header-menu-sidebar .header-menu-sidebar-bg .nav-ul .sub-menu{background-color:#ffffff;}\\n.hfg_header .header-menu-sidebar .header-menu-sidebar-bg{background-color:#ffffff;}\\n.header-menu-sidebar{width:360px;}\\n.builder-item--logo .site-logo img{max-width:120px;}\\n.builder-item--logo .site-logo{padding:10px 0px 10px 0px;}\\n.builder-item--logo{margin:0px 0px 0px 0px;}\\n.builder-item--nav-icon .navbar-toggle{padding:10px 15px 10px 15px;}\\n.builder-item--nav-icon{margin:0px 0px 0px 0px;}\\n.builder-item--primary-menu .nav-menu-primary > .nav-ul li:not(.woocommerce-mini-cart-item) > a,.builder-item--primary-menu .nav-menu-primary > .nav-ul .has-caret > a,.builder-item--primary-menu .nav-menu-primary > .nav-ul .neve-mm-heading span,.builder-item--primary-menu .nav-menu-primary > .nav-ul .has-caret{color:var(--nv-text-color);}\\n.builder-item--primary-menu .nav-menu-primary > .nav-ul li:not(.woocommerce-mini-cart-item) > a:after,.builder-item--primary-menu .nav-menu-primary > .nav-ul li > .has-caret > a:after{background-color:var(--nv-secondary-accent);}\\n.builder-item--primary-menu .nav-menu-primary > .nav-ul li:not(.woocommerce-mini-cart-item):hover > a,.builder-item--primary-menu .nav-menu-primary > .nav-ul li:hover > .has-caret > a,.builder-item--primary-menu .nav-menu-primary > .nav-ul li:hover > .has-caret{color:var(--nv-secondary-accent);}\\n.builder-item--primary-menu .nav-menu-primary > .nav-ul li:hover > .has-caret svg{fill:var(--nv-secondary-accent);}\\n.builder-item--primary-menu .nav-menu-primary > .nav-ul li.current-menu-item > a,.builder-item--primary-menu .nav-menu-primary > .nav-ul li.current_page_item > a,.builder-item--primary-menu .nav-menu-primary > .nav-ul li.current_page_item > .has-caret > a{color:var(--nv-primary-accent);}\\n.builder-item--primary-menu .nav-menu-primary > .nav-ul li.current-menu-item > .has-caret svg{fill:var(--nv-primary-accent);}\\n.builder-item--primary-menu .nav-ul > li:not(:last-of-type){margin-right:20px;}\\n.builder-item--primary-menu .style-full-height .nav-ul li:not(.menu-item-nav-search):not(.menu-item-nav-cart):hover > a:after{width:calc(100% + 20px);}\\n.builder-item--primary-menu .nav-ul li a, .builder-item--primary-menu .neve-mm-heading span{min-height:25px;}\\n.builder-item--primary-menu{font-size:1em;line-height:1.6em;letter-spacing:0px;font-weight:500;text-transform:none;padding:0px 0px 0px 0px;margin:0px 0px 0px 0px;}\\n.builder-item--primary-menu svg{width:1em;height:1em;}\\n.builder-item--custom_html .nv-html-content{font-size:1em;line-height:1.6em;letter-spacing:0px;font-weight:900;text-transform:none;}\\n.builder-item--custom_html .nv-html-content svg{width:1em;height:1em;}\\n.builder-item--custom_html{padding:0px 0px 0px 0px;margin:0px 0px 0px 0px;}\\n.footer-top-inner{background-color:#ffffff;}\\n.footer-top-inner,.footer-top-inner a:not(.button),.footer-top-inner .navbar-toggle{color:var(--nv-text-color);}\\n.footer-top-inner .nv-icon svg,.footer-top-inner .nv-contact-list svg{fill:var(--nv-text-color);}\\n.footer-top-inner .icon-bar{background-color:var(--nv-text-color);}\\n.footer-top-inner .nav-ul .sub-menu{background-color:#ffffff;}\\n.footer-bottom-inner{background-color:#24292e;}\\n.footer-bottom-inner,.footer-bottom-inner a:not(.button),.footer-bottom-inner .navbar-toggle{color:#ffffff;}\\n.footer-bottom-inner .nv-icon svg,.footer-bottom-inner .nv-contact-list svg{fill:#ffffff;}\\n.footer-bottom-inner .icon-bar{background-color:#ffffff;}\\n.footer-bottom-inner .nav-ul .sub-menu{background-color:#24292e;}\\n.builder-item--footer-one-widgets{padding:0px 0px 0px 0px;margin:0px 0px 0px 0px;}\\n.builder-item--footer-two-widgets{padding:0px 0px 0px 0px;margin:0px 0px 0px 0px;}\\n.builder-item--footer_copyright{font-size:1em;line-height:1.6em;letter-spacing:0px;font-weight:500;text-transform:none;padding:0px 0px 0px 0px;margin:0px 0px 0px 0px;}\\n.builder-item--footer_copyright svg{width:1em;height:1em;}\\n@media(min-width:576px){ .container{max-width:992px;}\\n.single-post-container .alignfull > [class*=\"__inner-container\"], .single-post-container .alignwide > [class*=\"__inner-container\"]{max-width:962px}\\nbody, .site-title{font-size:16px;}\\n.header-menu-sidebar{width:360px;}\\n.builder-item--logo .site-logo img{max-width:120px;}\\n.builder-item--logo .site-logo{padding:10px 0px 10px 0px;}\\n.builder-item--logo{margin:0px 0px 0px 0px;}\\n.builder-item--nav-icon .navbar-toggle{padding:10px 15px 10px 15px;}\\n.builder-item--nav-icon{margin:0px 0px 0px 0px;}\\n.builder-item--primary-menu .nav-ul > li:not(:last-of-type){margin-right:20px;}\\n.builder-item--primary-menu .style-full-height .nav-ul li:not(.menu-item-nav-search):not(.menu-item-nav-cart):hover > a:after{width:calc(100% + 20px);}\\n.builder-item--primary-menu .nav-ul li a, .builder-item--primary-menu .neve-mm-heading span{min-height:25px;}\\n.builder-item--primary-menu{font-size:1em;line-height:1.6em;letter-spacing:0px;padding:0px 0px 0px 0px;margin:0px 0px 0px 0px;}\\n.builder-item--primary-menu svg{width:1em;height:1em;}\\n.builder-item--custom_html .nv-html-content{font-size:1em;line-height:1.6em;letter-spacing:0px;}\\n.builder-item--custom_html .nv-html-content svg{width:1em;height:1em;}\\n.builder-item--custom_html{padding:0px 0px 0px 0px;margin:0px 0px 0px 0px;}\\n.builder-item--footer-one-widgets{padding:0px 0px 0px 0px;margin:0px 0px 0px 0px;}\\n.builder-item--footer-two-widgets{padding:0px 0px 0px 0px;margin:0px 0px 0px 0px;}\\n.builder-item--footer_copyright{font-size:1em;line-height:1.6em;letter-spacing:0px;padding:0px 0px 0px 0px;margin:0px 0px 0px 0px;}\\n.builder-item--footer_copyright svg{width:1em;height:1em;}\\n}@media(min-width:960px){ .container{max-width:1170px;}\\n.neve-main > .archive-container .nv-index-posts.col{max-width:75%;}\\n.neve-main > .archive-container .nv-sidebar-wrap{max-width:25%;}\\n.neve-main > .single-post-container .nv-single-post-wrap.col{max-width:70%;}\\n.single-post-container .alignfull > [class*=\"__inner-container\"], .single-post-container .alignwide > [class*=\"__inner-container\"]{max-width:789px}\\n.container-fluid.single-post-container .alignfull > [class*=\"__inner-container\"], .container-fluid.single-post-container .alignwide > [class*=\"__inner-container\"]{max-width:calc(70% + 15px)}\\n.neve-main > .single-post-container .nv-sidebar-wrap{max-width:30%;}\\nbody, .site-title{font-size:15px;}\\n.header-menu-sidebar{width:360px;}\\n.builder-item--logo .site-logo img{max-width:210px;}\\n.builder-item--logo .site-logo{padding:10px 0px 10px 0px;}\\n.builder-item--logo{margin:0px 0px 0px 0px;}\\n.builder-item--nav-icon .navbar-toggle{padding:10px 15px 10px 15px;}\\n.builder-item--nav-icon{margin:0px 0px 0px 0px;}\\n.builder-item--primary-menu .nav-ul > li:not(:last-of-type){margin-right:20px;}\\n.builder-item--primary-menu .style-full-height .nav-ul li:not(.menu-item-nav-search):not(.menu-item-nav-cart) > a:after{left:-10px;right:-10px}\\n.builder-item--primary-menu .style-full-height .nav-ul li:not(.menu-item-nav-search):not(.menu-item-nav-cart):hover > a:after{width:calc(100% + 20px);}\\n.builder-item--primary-menu .nav-ul li a, .builder-item--primary-menu .neve-mm-heading span{min-height:25px;}\\n.builder-item--primary-menu{font-size:1em;line-height:1.6em;letter-spacing:0px;padding:0px 0px 0px 0px;margin:0px 0px 0px 0px;}\\n.builder-item--primary-menu svg{width:1em;height:1em;}\\n.builder-item--custom_html .nv-html-content{font-size:1.7em;line-height:1.6em;letter-spacing:0px;}\\n.builder-item--custom_html .nv-html-content svg{width:1.7em;height:1.7em;}\\n.builder-item--custom_html{padding:0px 0px 0px 0px;margin:0px 0px 0px 0px;}\\n.builder-item--footer-one-widgets{padding:0px 0px 0px 0px;margin:0px 0px 0px 0px;}\\n.builder-item--footer-two-widgets{padding:0px 0px 0px 0px;margin:0px 0px 0px 0px;}\\n.builder-item--footer_copyright{font-size:1em;line-height:1.6em;letter-spacing:0px;padding:0px 0px 0px 0px;margin:0px 0px 0px 0px;}\\n.builder-item--footer_copyright svg{width:1em;height:1em;}\\n}.nv-content-wrap .elementor a:not(.button):not(.wp-block-file__button){text-decoration:none;}:root{--nv-primary-accent:#ffa500;--nv-secondary-accent:#ffa500;--nv-site-bg:#ffffff;--nv-light-bg:#ededed;--nv-dark-bg:#14171c;--nv-text-color:#393939;--nv-text-dark-bg:#ffffff;--nv-c-1:#77b978;--nv-c-2:#f37262;--nv-fallback-ff:Arial, Helvetica, sans-serif;}:root{--e-global-color-nvprimaryaccent:#ffa500;--e-global-color-nvsecondaryaccent:#ffa500;--e-global-color-nvsitebg:#;--e-global-color-nvlightbg:#ededed;--e-global-color-nvdarkbg:#14171c;--e-global-color-nvtextcolor:#393939;--e-global-color-nvtextdarkbg:#ffffff;--e-global-color-nvc1:#77b978;--e-global-color-nvc2:#f37262;}</style>\\n<link rel=\"stylesheet\" type=\"text/css\" href=\"//warstek.com/wp-content/cache/wpfc-minified/1e3worhh/dx2m4.css\" media=\"all\"/>\\n<style id=\\'quads-styles-inline-css\\'>.quads-location ins.adsbygoogle{background:transparent !important;}\\n.quads-ad-label{font-size:12px;text-align:center;color:#333;}</style>\\n<link rel=\"https://api.w.org/\" href=\"https://warstek.com/wp-json/\"/><link rel=\"alternate\" type=\"application/json\" href=\"https://warstek.com/wp-json/wp/v2/posts/53058\"/><link rel=\"EditURI\" type=\"application/rsd+xml\" title=\"RSD\" href=\"https://warstek.com/xmlrpc.php?rsd\"/>\\n<link rel=\"wlwmanifest\" type=\"application/wlwmanifest+xml\" href=\"https://warstek.com/wp-includes/wlwmanifest.xml\"/> \\n<meta name=\"generator\" content=\"WordPress 5.8.1\"/>\\n<link rel=\\'shortlink\\' href=\\'https://warstek.com/?p=53058\\'/>\\n<link rel=\"alternate\" type=\"application/json+oembed\" href=\"https://warstek.com/wp-json/oembed/1.0/embed?url=https%3A%2F%2Fwarstek.com%2Fkabel-laut%2F\"/>\\n<link rel=\"alternate\" type=\"text/xml+oembed\" href=\"https://warstek.com/wp-json/oembed/1.0/embed?url=https%3A%2F%2Fwarstek.com%2Fkabel-laut%2F&#038;format=xml\"/>\\n<style>.abh_tab_content .abh_text .abh_name,section.abh_tab{padding:0!important;margin:0!important}.abh_box,.abh_tabs{width:100%!important}.abh_box{clear:both!important;position:relative!important;padding:25px 0!important}.abh_tabs{list-style:none!important;padding:5px 0 1px!important;margin:0!important;font:13px arial!important;border-bottom:1px solid #ccc!important}.abh_tab_content .abh_text ul,.abh_tabs li{list-style:none!important;padding:0!important}.abh_tabs li{display:inline!important;margin:0!important}.abh_tabs li:after,.abh_tabs li:before{content:\"\"!important;padding:0!important;margin:0!important}.abh_tab_content .abh_tab,.abh_tabs li i{display:none}.abh_tabs li a,.abh_tabs li a:hover{padding:4px 10px 5px!important;box-shadow:none!important;-webkit-box-shadow:none!important}.abh_tabs li a{background-color:transparent!important;border:0 solid #ccc!important;text-decoration:none!important;border-bottom:none!important;outline:0!important;font-size:100%!important;line-height:23px!important}.abh_tabs li a:hover{background-color:#ddd!important}.abh_tabs li a,.abh_tabs li.abh_active a{color:#333!important}.abh_tabs li.abh_active a,.abh_tabs li.abh_active a:hover{background-color:#eee!important;padding:4px 10px 5px!important;border-bottom:none!important;box-shadow:none!important;-webkit-box-shadow:none!important}.abh_tabs li a.icon_accept:hover{padding-left:24px!important}.abh_tabs_content_container{border:2px solid #ccc!important;border-top:none!important;padding:10px!important;width:400px!important}.abh_tab_content{padding:20px 12px!important;min-height:80px!important;overflow:hidden!important;border-bottom:1px solid #ccc!important}.abh_tab_content .abh_image{display:block;float:left!important;width:80px!important;margin-top:10px!important}.abh_tab_content .abh_image img{max-width:80px!important;height:auto;box-shadow:0 1px 4px rgba(0,0,0,.2)!important;overflow:hidden!important;-webkit-border-radius:50% 50% 50% 50%!important;-moz-border-radius:50% 50% 50% 50%!important;border-radius:50% 50% 50% 50%!important}.abh_tab_content .abh_image a{border:0!important;box-shadow:0 1px 4px rgba(0,0,0,.2)!important;-webkit-box-shadow:none!important}.abh_tab_content .abh_text{margin-left:96px!important;font-size:100%!important;line-height:1.5!important}.abh_tab_content .abh_text .abh_name{font-size:20px!important;clear:none!important;font-weight:700!important;text-align:left!important;line-height:20px!important}.abh_tab_content .abh_text .fn{text-transform:capitalize!important;clear:none!important;font-size:18px!important;line-height:24px!important;margin:0!important;padding:0!important;border:0!important}.abh_tab_content .abh_text a{font-size:100%!important}.abh_tab_content .abh_text .abh_job{line-height:20px!important;font-size:100%!important}.abh_tab_content .abh_text .abh_job span{vertical-align:top!important;font-size:13px!important;background-image:none!important;padding:0!important;margin:0!important}.abh_tab_content .abh_text .abh_description{position:static!important;padding-top:6px!important;font-size:14px!important;width:100%!important}.abh_tab_content .abh_text .abh_allposts{font-size:11px!important;vertical-align:middle!important}.abh_tab_content .abh_text ul{margin:5px 0 0 15px!important}.abh_tab_content .abh_text ul li,.abh_tab_content .abh_text ul li span{font-size:13px!important;line-height:20px!important;margin:0!important}.abh_tab_content .abh_social{display:block;float:right!important;line-height:1px!important;padding:0!important;margin:3px 0 0!important;text-align:right!important}.abh_tab_content .abh_social div{width:140px!important;margin:0 0 0 auto!important}.abh_box .abh_pwb a,.abh_tab_content .abh_social a,.abh_tab_content .abh_text a{text-decoration:none!important;box-shadow:none!important;-webkit-box-shadow:none!important}.abh_tab_content .abh_social a{display:inline-block;background:url(//warstek.com/wp-content/plugins/starbox/themes/business/img/sprite.png) no-repeat!important;width:24px!important;height:24px!important;margin:1px!important;padding:0!important;opacity:.5!important;transition:opacity .2s!important;-moz-transition:opacity .2s!important;-webkit-transition:opacity .2s!important;-o-transition:opacity .2s!important;border-radius:5px!important;-webkit-border-radius:5px!important;-moz-border-radius:5px!important}.abh_tab_content .abh_social a:hover{opacity:1!important}.abh_tab_content .abh_social a.abh_facebook{background-position:0 0!important}.abh_tab_content .abh_social a.abh_flickr{background-position:-24px 0!important}.abh_tab_content .abh_social a.abh_google{background-position:-48px 0!important}.abh_tab_content .abh_social a.abh_instagram{background-position:-72px 0!important}.abh_tab_content .abh_social a.abh_linkedin{background-position:-96px 0!important}.abh_tab_content .abh_social a.abh_pinterest{background-position:-120px 0!important}.abh_tab_content .abh_social a.abh_tumblr{background-position:-144px 0!important}.abh_tab_content .abh_social a.abh_twitter{background-position:-168px 0!important}.abh_tab_content .abh_social a.abh_vimeo{background-position:-192px 0!important}.abh_tab_content .abh_social a.abh_youtube{background-position:-216px 0!important}.abh_box .vcard{background:0 0!important;font-size:100%!important;border:0!important}.abh_box .abh_pwb a{position:absolute!important;font-size:9px!important;color:#999!important;right:0!important;bottom:5px!important}#author-bio-box,#authorarea,#cab-author,#entry-author-info,#post-author,.article-author,.author-bio,.author-box,.author-info,.author-wrap,.autore,.card-profile{display:none}</style>\\n<style>.um_request_name{display:none !important;}</style>\\n<script>!function(e,n){\"function\"==typeof define&&define.amd?define([],n(\"adsenseLoader\")):\"object\"==typeof exports?module.exports=n(\"adsenseLoader\"):e.adsenseLoader=n(\"adsenseLoader\")}(this,function(e){\"use strict\";var n=250,t={laziness:1,onLoad:!1},o=function(e,n){var t,o={};for(t in e)Object.prototype.hasOwnProperty.call(e,t)&&(o[t]=e[t]);for(t in n)Object.prototype.hasOwnProperty.call(n,t)&&(o[t]=n[t]);return o},r=function(e,n){var t,o;return function(){var r=this,a=arguments,i=+new Date;t&&i<t+e?(clearTimeout(o),o=setTimeout(function(){t=i,n.apply(r,a)},e)):(t=i,n.apply(r,a))}},a=[],i=[],s=[],d=function(){if(!a.length)return!0;var e=window.pageYOffset,n=window.innerHeight;a.forEach(function(t){var o,r,d=(o=t,r=o.getBoundingClientRect(),{top:r.top+document.body.scrollTop,left:r.left+document.body.scrollLeft}).top,f=t._adsenseLoaderData.options.laziness+1;if(d-e>n*f||e-d-t.offsetHeight-n*f>0)return!0;a=u(a,t),t._adsenseLoaderData.width=c(t),function(e,n){e.classList?e.classList.add(n):e.className+=\" \"+n}(t.querySelector(\"ins\"),\"adsbygoogle\"),i.push(t),\"undefined\"!=typeof adsbygoogle?function(e){(adsbygoogle=window.adsbygoogle||[]).push({});var n=e._adsenseLoaderData.options.onLoad;\"function\"==typeof n&&e.querySelector(\"iframe\")&&e.querySelector(\"iframe\").addEventListener(\"load\",function(){n(e)})}(t):s.push(t)})},c=function(e){return parseInt(window.getComputedStyle(e,\":before\").getPropertyValue(\"content\").slice(1,-1)||9999)},u=function(e,n){return e.filter(function(e){return e!==n})},f=function(e,n){return e._adsenseLoaderData={originalHTML:e.innerHTML,options:n},e.adsenseLoader=function(n){\"destroy\"==n&&(a=u(a,e),i=u(i,e),s=u(i,e),e.innerHTML=e._adsenseLoaderData.originalHTML)},e};function l(e,n){\"string\"==typeof e?e=document.querySelectorAll(e):void 0===e.length&&(e=[e]),n=o(t,n),[].forEach.call(e,function(e){e=f(e,n),a.push(e)}),this.elements=e,d()}return window.addEventListener(\"scroll\",r(n,d)),window.addEventListener(\"resize\",r(n,d)),window.addEventListener(\"resize\",r(n,function(){if(!i.length)return!0;var e=!1;i.forEach(function(n){n.querySelector(\"ins\").classList.contains(\"adsbygoogle\")||n._adsenseLoaderData.width==c(n)||(e=!0,i=u(i,n),n.innerHTML=n._adsenseLoaderData.originalHTML,a.push(n))}),e&&d()})),l.prototype={destroy:function(){this.elements.forEach(function(e){e.adsenseLoader(\"destroy\")})}},window.adsenseLoaderConfig=function(e){void 0!==e.throttle&&(n=e.throttle)},l});</script>\\n<style>img#wpstats{display:none}</style>\\n<link rel=\"icon\" href=\"https://warstek.com/wp-content/uploads/2018/12/cropped-logo-kecil-32x32.png\" sizes=\"32x32\"/>\\n<link rel=\"icon\" href=\"https://warstek.com/wp-content/uploads/2018/12/cropped-logo-kecil-192x192.png\" sizes=\"192x192\"/>\\n<link rel=\"apple-touch-icon\" href=\"https://warstek.com/wp-content/uploads/2018/12/cropped-logo-kecil-180x180.png\"/>\\n<meta name=\"msapplication-TileImage\" content=\"https://warstek.com/wp-content/uploads/2018/12/cropped-logo-kecil-270x270.png\"/>\\n<style id=\"wp-custom-css\">.entry-date{display:none;}</style>\\n<script data-wpfc-render=\"false\">var Wpfcll={s:[],osl:0,scroll:false,i:function(){Wpfcll.ss();window.addEventListener(\\'load\\',function(){window.addEventListener(\"DOMSubtreeModified\",function(e){Wpfcll.osl=Wpfcll.s.length;Wpfcll.ss();if(Wpfcll.s.length > Wpfcll.osl){Wpfcll.ls(false);}},false);Wpfcll.ls(true);});window.addEventListener(\\'scroll\\',function(){Wpfcll.scroll=true;Wpfcll.ls(false);});window.addEventListener(\\'resize\\',function(){Wpfcll.scroll=true;Wpfcll.ls(false);});window.addEventListener(\\'click\\',function(){Wpfcll.scroll=true;Wpfcll.ls(false);});},c:function(e,pageload){var w=document.documentElement.clientHeight || body.clientHeight;var n=0;if(pageload){n=0;}else{n=(w > 800) ? 800:200;n=Wpfcll.scroll ? 800:n;}var er=e.getBoundingClientRect();var t=0;var p=e.parentNode ? e.parentNode:false;if(typeof p.getBoundingClientRect==\"undefined\"){var pr=false;}else{var pr=p.getBoundingClientRect();}if(er.x==0 && er.y==0){for(var i=0;i < 10;i++){if(p){if(pr.x==0 && pr.y==0){if(p.parentNode){p=p.parentNode;}if(typeof p.getBoundingClientRect==\"undefined\"){pr=false;}else{pr=p.getBoundingClientRect();}}else{t=pr.top;break;}}};}else{t=er.top;}if(w - t+n > 0){return true;}return false;},r:function(e,pageload){var s=this;var oc,ot;try{oc=e.getAttribute(\"data-wpfc-original-src\");ot=e.getAttribute(\"data-wpfc-original-srcset\");originalsizes=e.getAttribute(\"data-wpfc-original-sizes\");if(s.c(e,pageload)){if(oc || ot){if(e.tagName==\"DIV\" || e.tagName==\"A\" || e.tagName==\"SPAN\"){e.style.backgroundImage=\"url(\"+oc+\")\";e.removeAttribute(\"data-wpfc-original-src\");e.removeAttribute(\"data-wpfc-original-srcset\");e.removeAttribute(\"onload\");}else{if(oc){e.setAttribute(\\'src\\',oc);}if(ot){e.setAttribute(\\'srcset\\',ot);}if(originalsizes){e.setAttribute(\\'sizes\\',originalsizes);}if(e.getAttribute(\"alt\") && e.getAttribute(\"alt\")==\"blank\"){e.removeAttribute(\"alt\");}e.removeAttribute(\"data-wpfc-original-src\");e.removeAttribute(\"data-wpfc-original-srcset\");e.removeAttribute(\"data-wpfc-original-sizes\");e.removeAttribute(\"onload\");if(e.tagName==\"IFRAME\"){var y=\"https://www.youtube.com/embed/\";if(navigator.userAgent.match(/\\\\sEdge?\\\\/\\\\d/i)){e.setAttribute(\\'src\\',e.getAttribute(\"src\").replace(/.+\\\\/templates\\\\/youtube\\\\.html\\\\#/,y));}e.onload=function(){if(typeof window.jQuery !=\"undefined\"){if(jQuery.fn.fitVids){jQuery(e).parent().fitVids({customSelector:\"iframe[src]\"});}}var s=e.getAttribute(\"src\").match(/templates\\\\/youtube\\\\.html\\\\#(.+)/);if(s){try{var i=e.contentDocument || e.contentWindow;if(i.location.href==\"about:blank\"){e.setAttribute(\\'src\\',y+s[1]);}}catch(err){e.setAttribute(\\'src\\',y+s[1]);}}}}}}else{if(e.tagName==\"NOSCRIPT\"){if(jQuery(e).attr(\"data-type\")==\"wpfc\"){e.removeAttribute(\"data-type\");jQuery(e).after(jQuery(e).text());}}}}}catch(error){console.log(error);console.log(\"==>\",e);}},ss:function(){var i=Array.prototype.slice.call(document.getElementsByTagName(\"img\"));var f=Array.prototype.slice.call(document.getElementsByTagName(\"iframe\"));var d=Array.prototype.slice.call(document.getElementsByTagName(\"div\"));var a=Array.prototype.slice.call(document.getElementsByTagName(\"a\"));var s=Array.prototype.slice.call(document.getElementsByTagName(\"span\"));var n=Array.prototype.slice.call(document.getElementsByTagName(\"noscript\"));this.s=i.concat(f).concat(d).concat(a).concat(s).concat(n);},ls:function(pageload){var s=this;[].forEach.call(s.s,function(e,index){s.r(e,pageload);});}};document.addEventListener(\\'DOMContentLoaded\\',function(){wpfci();});function wpfci(){Wpfcll.i();}</script>\\n</head>\\n<body class=\"post-template-default single single-post postid-53058 single-format-standard wp-custom-logo nv-sidebar-right menu_sidebar_slide_left elementor-default elementor-kit-47276\" id=\"neve_body\">\\n<div class=\"wrapper\">\\n<header class=\"header\" role=\"banner\">\\n<a class=\"neve-skip-link show-on-focus\" href=\"#content\" tabindex=\"0\">\\nLompat ke konten\\t\\t</a>\\n<div id=\"header-grid\" class=\"hfg_header site-header\">\\n<nav class=\"header--row header-main hide-on-mobile hide-on-tablet layout-full-contained nv-navbar header--row\" data-row-id=\"main\" data-show-on=\"desktop\">\\n<div class=\"header--row-inner header-main-inner\">\\n<div class=\"container\">\\n<div class=\"row row--wrapper\" data-section=\"hfg_header_layout_main\">\\n<div class=\"builder-item hfg-item-first col-4 desktop-left\"><div class=\"item--inner builder-item--logo\" data-section=\"title_tagline\" data-item-id=\"logo\">\\n<div class=\"site-logo\"> <a class=\"brand\" href=\"https://warstek.com/\" title=\"Warung Sains Teknologi\" aria-label=\"Warung Sains Teknologi\"><img width=\"296\" height=\"90\" src=\"https://warstek.com/wp-content/uploads/2017/08/footer-logo-copy-1.png\" class=\"skip-lazy\" alt=\"\" loading=\"lazy\"/></a></div></div></div><div class=\"builder-item has-nav hfg-item-last col-8 desktop-right\"><div class=\"item--inner builder-item--primary-menu has_menu\" data-section=\"header_menu_primary\" data-item-id=\"primary-menu\">\\n<div class=\"nv-nav-wrap\">\\n<div role=\"navigation\" class=\"style-plain nav-menu-primary\" aria-label=\"Menu Utama\">\\n<ul id=\"nv-primary-navigation-main\" class=\"primary-menu-ul nav-ul\"><li id=\"menu-item-32620\" class=\"menu-item menu-item-type-custom menu-item-object-custom menu-item-home menu-item-32620\"><a href=\"https://warstek.com\">Beranda</a></li>\\n<li id=\"menu-item-43746\" class=\"menu-item menu-item-type-custom menu-item-object-custom menu-item-has-children menu-item-43746\"><a href=\"#\"><span class=\"menu-item-title-wrap\">Sains</span><div class=\"caret-wrap 2\" tabindex=\"0\"><span class=\"caret\"><svg xmlns=\"http://www.w3.org/2000/svg\" viewBox=\"0 0 448 512\"><path d=\"M207.029 381.476L12.686 187.132c-9.373-9.373-9.373-24.569 0-33.941l22.667-22.667c9.357-9.357 24.522-9.375 33.901-.04L224 284.505l154.745-154.021c9.379-9.335 24.544-9.317 33.901.04l22.667 22.667c9.373 9.373 9.373 24.569 0 33.941L240.971 381.476c-9.373 9.372-24.569 9.372-33.942 0z\"/></svg></span></div></a>\\n<ul class=\"sub-menu\">\\n<li id=\"menu-item-32644\" class=\"menu-item menu-item-type-taxonomy menu-item-object-category menu-item-32644\"><a href=\"https://warstek.com/category/sains-alam/\">Sains Alam</a></li>\\n<li id=\"menu-item-32645\" class=\"menu-item menu-item-type-taxonomy menu-item-object-category menu-item-32645\"><a href=\"https://warstek.com/category/sains-sosial/\">Sains Sosial</a></li>\\n</ul>\\n</li>\\n<li id=\"menu-item-32646\" class=\"menu-item menu-item-type-taxonomy menu-item-object-category current-post-ancestor current-menu-parent current-post-parent menu-item-32646\"><a href=\"https://warstek.com/category/teknologi/\">Teknologi</a></li>\\n<li id=\"menu-item-44128\" class=\"menu-item menu-item-type-custom menu-item-object-custom menu-item-44128\"><a href=\"https://warstek.com/materi/\">Materi Sekolah</a></li>\\n<li id=\"menu-item-43747\" class=\"menu-item menu-item-type-custom menu-item-object-custom menu-item-43747\"><a href=\"https://warstek.com/dashboard\">Kontributor</a></li>\\n<li id=\"menu-item-32647\" class=\"menu-item menu-item-type-post_type menu-item-object-page menu-item-32647\"><a href=\"https://warstek.com/kontak/\">Kontak</a></li>\\n<li class=\"menu-item-nav-search minimal\" id=\"nv-menu-item-search-1\" tabindex=\"0\" aria-label=\"search\"><a href=\"#\" class=\"nv-nav-search-icon\"><div class=\"nv-icon nv-search\"> <svg width=\"15\" height=\"15\" viewBox=\"0 0 1792 1792\" xmlns=\"http://www.w3.org/2000/svg\"><path d=\"M1216 832q0-185-131.5-316.5t-316.5-131.5-316.5 131.5-131.5 316.5 131.5 316.5 316.5 131.5 316.5-131.5 131.5-316.5zm512 832q0 52-38 90t-90 38q-54 0-90-38l-343-342q-179 124-399 124-143 0-273.5-55.5t-225-150-150-225-55.5-273.5 55.5-273.5 150-225 225-150 273.5-55.5 273.5 55.5 225 150 150 225 55.5 273.5q0 220-124 399l343 343q37 37 37 90z\"/></svg></div></a><div class=\"nv-nav-search\"><form role=\"search\" method=\"get\" class=\"search-form\" action=\"https://warstek.com/\"> <label> <span class=\"screen-reader-text\">Cari untuk:</span> <input type=\"search\" class=\"search-field\" placeholder=\"Cari &hellip;\" value=\"\" name=\"s\" /> </label> <input type=\"submit\" class=\"search-submit\" value=\"Cari\" /> <div class=\"nv-search-icon-wrap\"><div class=\"nv-icon nv-search\"> <svg width=\"15\" height=\"15\" viewBox=\"0 0 1792 1792\" xmlns=\"http://www.w3.org/2000/svg\"><path d=\"M1216 832q0-185-131.5-316.5t-316.5-131.5-316.5 131.5-131.5 316.5 131.5 316.5 316.5 131.5 316.5-131.5 131.5-316.5zm512 832q0 52-38 90t-90 38q-54 0-90-38l-343-342q-179 124-399 124-143 0-273.5-55.5t-225-150-150-225-55.5-273.5 55.5-273.5 150-225 225-150 273.5-55.5 273.5 55.5 225 150 150 225 55.5 273.5q0 220-124 399l343 343q37 37 37 90z\"/></svg></div></div></form></div></li></ul></div></div></div></div></div></div></div></nav>\\n<div class=\"header--row header-bottom hide-on-mobile hide-on-tablet layout-fullwidth header--row\" data-row-id=\"bottom\" data-show-on=\"desktop\">\\n<div class=\"header--row-inner header-bottom-inner\">\\n<div class=\"container\">\\n<div class=\"row row--wrapper\" data-section=\"hfg_header_layout_bottom\">\\n<div class=\"builder-item hfg-item-last hfg-item-first col-12 desktop-center\"><div class=\"item--inner builder-item--custom_html\" data-section=\"custom_html\" data-item-id=\"custom_html\">\\n<div class=\"nv-html-content\"> <p>Sains dan Teknologi yang Seru dan Menyenangkan</p></div></div></div></div></div></div></div><nav class=\"header--row header-main hide-on-desktop layout-full-contained nv-navbar header--row\" data-row-id=\"main\" data-show-on=\"mobile\">\\n<div class=\"header--row-inner header-main-inner\">\\n<div class=\"container\">\\n<div class=\"row row--wrapper\" data-section=\"hfg_header_layout_main\">\\n<div class=\"builder-item hfg-item-first col-8 tablet-left mobile-left\"><div class=\"item--inner builder-item--logo\" data-section=\"title_tagline\" data-item-id=\"logo\">\\n<div class=\"site-logo\"> <a class=\"brand\" href=\"https://warstek.com/\" title=\"Warung Sains Teknologi\" aria-label=\"Warung Sains Teknologi\"><img width=\"296\" height=\"90\" src=\"https://warstek.com/wp-content/uploads/2017/08/footer-logo-copy-1.png\" class=\"skip-lazy\" alt=\"\" loading=\"lazy\"/></a></div></div></div><div class=\"builder-item hfg-item-last col-4 tablet-right mobile-right\"><div class=\"item--inner builder-item--nav-icon\" data-section=\"header_menu_icon\" data-item-id=\"nav-icon\">\\n<div class=\"menu-mobile-toggle item-button navbar-toggle-wrapper\">\\n<button class=\"navbar-toggle\"\\naria-label=\"\\nMenu Navigasi\\t\\t\\t\">\\n<div class=\"bars\"> <span class=\"icon-bar\"></span> <span class=\"icon-bar\"></span> <span class=\"icon-bar\"></span></div><span class=\"screen-reader-text\">Tombol Navigasi</span>\\n</button></div></div></div></div></div></div></nav>\\n<div id=\"header-menu-sidebar\" class=\"header-menu-sidebar menu-sidebar-panel slide_left\">\\n<div id=\"header-menu-sidebar-bg\" class=\"header-menu-sidebar-bg\">\\n<div class=\"close-sidebar-panel navbar-toggle-wrapper\">\\n<button class=\"navbar-toggle active\" \\t\\t\\t\\t\\taria-label=\"\\nMenu Navigasi\\t\\t\\t\\t\">\\n<div class=\"bars\"> <span class=\"icon-bar\"></span> <span class=\"icon-bar\"></span> <span class=\"icon-bar\"></span></div><span class=\"screen-reader-text\">\\nTombol Navigasi\\t\\t\\t\\t\\t</span>\\n</button></div><div id=\"header-menu-sidebar-inner\" class=\"header-menu-sidebar-inner\">\\n<div class=\"builder-item has-nav hfg-item-last hfg-item-first col-12 desktop-right tablet-left mobile-left\"><div class=\"item--inner builder-item--primary-menu has_menu\" data-section=\"header_menu_primary\" data-item-id=\"primary-menu\">\\n<div class=\"nv-nav-wrap\">\\n<div role=\"navigation\" class=\"style-plain nav-menu-primary\" aria-label=\"Menu Utama\">\\n<ul id=\"nv-primary-navigation-sidebar\" class=\"primary-menu-ul nav-ul\"><li class=\"menu-item menu-item-type-custom menu-item-object-custom menu-item-home menu-item-32620\"><a href=\"https://warstek.com\">Beranda</a></li>\\n<li class=\"menu-item menu-item-type-custom menu-item-object-custom menu-item-has-children menu-item-43746\"><a href=\"#\"><span class=\"menu-item-title-wrap\">Sains</span><div class=\"caret-wrap 2\" tabindex=\"0\"><span class=\"caret\"><svg xmlns=\"http://www.w3.org/2000/svg\" viewBox=\"0 0 448 512\"><path d=\"M207.029 381.476L12.686 187.132c-9.373-9.373-9.373-24.569 0-33.941l22.667-22.667c9.357-9.357 24.522-9.375 33.901-.04L224 284.505l154.745-154.021c9.379-9.335 24.544-9.317 33.901.04l22.667 22.667c9.373 9.373 9.373 24.569 0 33.941L240.971 381.476c-9.373 9.372-24.569 9.372-33.942 0z\"/></svg></span></div></a>\\n<ul class=\"sub-menu\">\\n<li class=\"menu-item menu-item-type-taxonomy menu-item-object-category menu-item-32644\"><a href=\"https://warstek.com/category/sains-alam/\">Sains Alam</a></li>\\n<li class=\"menu-item menu-item-type-taxonomy menu-item-object-category menu-item-32645\"><a href=\"https://warstek.com/category/sains-sosial/\">Sains Sosial</a></li>\\n</ul>\\n</li>\\n<li class=\"menu-item menu-item-type-taxonomy menu-item-object-category current-post-ancestor current-menu-parent current-post-parent menu-item-32646\"><a href=\"https://warstek.com/category/teknologi/\">Teknologi</a></li>\\n<li class=\"menu-item menu-item-type-custom menu-item-object-custom menu-item-44128\"><a href=\"https://warstek.com/materi/\">Materi Sekolah</a></li>\\n<li class=\"menu-item menu-item-type-custom menu-item-object-custom menu-item-43747\"><a href=\"https://warstek.com/dashboard\">Kontributor</a></li>\\n<li class=\"menu-item menu-item-type-post_type menu-item-object-page menu-item-32647\"><a href=\"https://warstek.com/kontak/\">Kontak</a></li>\\n<li class=\"menu-item-nav-search minimal\" id=\"nv-menu-item-search-2\" tabindex=\"0\" aria-label=\"search\"><a href=\"#\" class=\"nv-nav-search-icon\"><div class=\"nv-icon nv-search\"> <svg width=\"15\" height=\"15\" viewBox=\"0 0 1792 1792\" xmlns=\"http://www.w3.org/2000/svg\"><path d=\"M1216 832q0-185-131.5-316.5t-316.5-131.5-316.5 131.5-131.5 316.5 131.5 316.5 316.5 131.5 316.5-131.5 131.5-316.5zm512 832q0 52-38 90t-90 38q-54 0-90-38l-343-342q-179 124-399 124-143 0-273.5-55.5t-225-150-150-225-55.5-273.5 55.5-273.5 150-225 225-150 273.5-55.5 273.5 55.5 225 150 150 225 55.5 273.5q0 220-124 399l343 343q37 37 37 90z\"/></svg></div></a><div class=\"nv-nav-search\"><form role=\"search\" method=\"get\" class=\"search-form\" action=\"https://warstek.com/\"> <label> <span class=\"screen-reader-text\">Cari untuk:</span> <input type=\"search\" class=\"search-field\" placeholder=\"Cari &hellip;\" value=\"\" name=\"s\" /> </label> <input type=\"submit\" class=\"search-submit\" value=\"Cari\" /> <div class=\"nv-search-icon-wrap\"><div class=\"nv-icon nv-search\"> <svg width=\"15\" height=\"15\" viewBox=\"0 0 1792 1792\" xmlns=\"http://www.w3.org/2000/svg\"><path d=\"M1216 832q0-185-131.5-316.5t-316.5-131.5-316.5 131.5-131.5 316.5 131.5 316.5 316.5 131.5 316.5-131.5 131.5-316.5zm512 832q0 52-38 90t-90 38q-54 0-90-38l-343-342q-179 124-399 124-143 0-273.5-55.5t-225-150-150-225-55.5-273.5 55.5-273.5 150-225 225-150 273.5-55.5 273.5 55.5 225 150 150 225 55.5 273.5q0 220-124 399l343 343q37 37 37 90z\"/></svg></div></div></form></div></li></ul></div></div></div></div></div></div></div><div class=\"header-menu-sidebar-overlay\"></div></div></header>\\n<main id=\"content\" class=\"neve-main\" role=\"main\">\\n<div class=\"container single-post-container\">\\n<div class=\"row\">\\n<article id=\"post-53058\" class=\"nv-single-post-wrap col post-53058 post type-post status-publish format-standard has-post-thumbnail hentry category-pilihan-editor category-teknologi tag-fiber-optic tag-internet tag-jasuka tag-kabel-laut tag-telkomsel\">\\n<div class=\"entry-header\"><div class=\"nv-title-meta-wrap\"><h1 class=\"title entry-title \">Mengenal Kabel Laut &#8211; Bagian Utama dari Internet</h1><ul class=\"nv-meta-list\"><li class=\"meta author vcard\"><span class=\"author-name fn\">by <a href=\"https://warstek.com/author/pandegaabyan/\" title=\"Posts by Pandega Abyan Zumarsyah\" rel=\"author\">Pandega Abyan Zumarsyah</a></span></li><li class=\"meta date posted-on\"><time class=\"entry-date published\" datetime=\"2021-09-25T19:23:06+07:00\" content=\"2021-09-25\">25 September 2021</time><time class=\"updated\" datetime=\"2021-09-25T19:23:09+07:00\">25 September 2021</time></li></ul></div></div><div class=\"nv-thumb-wrap\"><img width=\"930\" height=\"360\" src=\"https://warstek.com/wp-content/uploads/2021/09/image-12-930x360.png\" class=\"skip-lazy wp-post-image\" alt=\"Mengenal Kabel Laut - Bagian Utama dari Internet\" loading=\"lazy\"/></div><div class=\"nv-content-wrap entry-content\">\\n<div class=\"quads-location quads-ad1\" id=\"quads-ad1\" style=\"float:none;margin:0px 0 0px 0;text-align:center;\">\\n<script async src=\"//pagead2.googlesyndication.com/pagead/js/adsbygoogle.js\"></script>\\n<ins class=\"adsbygoogle\" style=\"display:block; text-align:center;\" data-ad-layout=\"in-article\" data-ad-format=\"fluid\" data-ad-client=\"ca-pub-9638064869561472\" data-ad-slot=\"6075996024\"></ins>\\n<script>(adsbygoogle=window.adsbygoogle||[]).push({});</script></div><h2><span id=\"Telkomsel_Indihome_dan_Kabel_Laut_JaSuKa\">Telkomsel, Indihome, dan Kabel Laut JaSuKa</span></h2>\\n<p>Pada hari Minggu lalu (19 September 2021), terjadi gangguan jaringan internet pada Telkomsel dan Indihome. Gangguan tersebut menyebabkan penurunan kualitas layanan TelkomGroup baik <em>fixed</em> maupun <em>mobile broadband</em> di beberapa wilayah Indonesia. Di masa pandemi yang menuntut orang untuk berada di rumah seperti ini, gangguan internet tentu menjadi masalah besar. Berbagai kegiatan penting seperti Seleksi Kompetensi Dasar (SKD) CPNS mengalami penundaan. Netizen pun banyak berkomentar negatif terkait hal ini. Saat artikel ini dirilis, gangguan tersebut mungkin belum benar-benar terselesaikan.</p>\\n<p>Gangguan tersebut disebabkan oleh masalah pada sistem komunikasi kabel laut JaSuKa (Jawa, Sumatera dan Kalimantan) ruas Batam-Pontianak. Telkom memperkirakan proses perbaikan kabel laut yang terganggu akan berlangsung sekitar sebulan. Meski begitu, Telkom mencoba berbagai alternatif agar jaringan internet tetap dapat berjalan sebaik mungkin, meski tentu tidak sebaik ketika kondisi normal. </p>\\n<p>Bagaimana pun juga, gangguan ini membuat banyak orang bertanya-tanya, â\\x80\\x9cApa hubungannya kabel di laut dengan internet?â\\x80\\x9d, â\\x80\\x9cKenapa jaringan internet itu malah lewat kabel laut?â\\x80\\x9d, â\\x80\\x9cKenapa nggak pakai satelit aja?â\\x80\\x9d, â\\x80\\x9cKenapa jaringannya tidak segera membaik?â\\x80\\x9d, dan lainnya. Artikel singkat ini akan mencoba membahas sedikit terkait hal itu. </p>\\n<div class=\"quads-location quads-ad3\" id=\"quads-ad3\" style=\"float:none;margin:0px 0 0px 0;text-align:center;\">\\n<script async src=\"//pagead2.googlesyndication.com/pagead/js/adsbygoogle.js\"></script>\\n<ins class=\"adsbygoogle\" style=\"display:block; text-align:center;\" data-ad-layout=\"in-article\" data-ad-format=\"fluid\" data-ad-client=\"ca-pub-9638064869561472\" data-ad-slot=\"6075996024\"></ins>\\n<script>(adsbygoogle=window.adsbygoogle||[]).push({});</script></div><h2><span id=\"Ya_Internet_itu_ada_di_Bawah_Laut\">Ya, Internet itu ada di Bawah Laut</span></h2>\\n<p>Internet sering diasosiasikan dengan kata <em>cloud</em> atau <em>wireless </em>sehingga kita merasa bahwa internet itu dibawa oleh udara di sekitar kita. Ketika kita mendengar kata â\\x80\\x9cjaringan internetâ\\x80\\x9d, yang terbayang mungkin gelombang antara menara pemancar di Bumi dengan satelit di angkasa. Itu tidak sepenuhnya salah. Internet memang ada di sekitar kita dan satelit memegang peran penting untuk itu. Namun, persepsi itu membuat kita melupakan bagian lain dari internet. Bagian terpenting yang sangat vital namun tidak akan pernah kita lihat, yaitu kabel laut. Sebelumnya, perlu kita ketahui bersama bahwa:</p>\\n<blockquote class=\"wp-block-quote has-text-align-center\"><p>99% Komunikasi Data Internasional itu Melalui Kabel Laut</p></blockquote>\\n<p>Itu adalah kalimat yang sudah banyak disampaikan di berbagai media massa, namun sepertinya masih belum banyak diketahui masyarakat umum. Lebih detailnya lagi, hanya sekitar 300 kabel bawah laut yang bertanggung jawab terhadap 99% lalu lintas komunikasi data internasional. </p>\\n<figure class=\"wp-block-image size-full\"><img onload=\"Wpfcll.r(this,true);\" src=\"https://warstek.com/wp-content/plugins/wp-fastest-cache-premium/pro/images/blank.gif\" loading=\"lazy\" width=\"979\" height=\"582\" data-wpfc-original-src=\"https://warstek.com/wp-content/uploads/2021/09/image-10.png\" alt=\"Jaringan Kabel Laut di Dunia - https://www.submarinecablemap.com\" class=\"wp-image-53060\" data-wpfc-original-srcset=\"https://warstek.com/wp-content/uploads/2021/09/image-10.png 979w, https://warstek.com/wp-content/uploads/2021/09/image-10-300x178.png 300w, https://warstek.com/wp-content/uploads/2021/09/image-10-768x457.png 768w\" data-wpfc-original-sizes=\"(max-width: 979px) 100vw, 979px\"><figcaption>Jaringan Kabel Laut di Dunia â\\x80\\x93 <a href=\"https://www.submarinecablemap.com\">www.submarinecablemap.com</a></figcaption></figure>\\n<p>Gambar di atas merupakan jaringan kabel laut di dunia yang dapat diakses di <a href=\"https://www.submarinecablemap.com/\">www.submarinecablemap.com</a>. Di sana, kita tidak hanya bisa melihat jaringan kabel secara keseluruhan, namun juga melihat lebih detail terkait salah satu kabel yang ada. Dari gambar di atas, jaringannya memang terlihat sangat banyak dan sangat rumit. Namun, kita perlu ingat bahwa komunikasi yang senantiasa terjadi di internet itu juga sangat banyak dan sangat rumit, jauh lebih banyak dan lebih rumit dari yang bisa kita bayangkan. </p>\\n<p>Ketika kita mengirim satu chat ke teman di samping kita misalnya. Bisa jadi chat kita akan menempuh perjalanan yang amat sangat jauh. Mulai dari puluhan kilometer jalur darat secara <em>wireless</em>, kemudian melalui ribuan kilometer kabel laut, menuju ke <em>data center </em>di China atau Amerika, lalu kembali lagi ke Indonesia melalui kabel laut, dan sampai ke teman di samping kita  secara <em>wireless</em>. Itu salah satu skenario yang mungkin terjadi, bisa saja jauh lebih pendek atau jauh lebih panjang. Sebagai mahasiswa Teknik Elektro yang pernah sedikit mendalami internet, yang bisa penulis katakan terkait internet adalah <em>â\\x80\\x9cItâ\\x80\\x99s never been simpleâ\\x80\\x9d</em></p>\\n<h2><span id=\"Mengenal_Kabel_Laut\">Mengenal Kabel Laut</span></h2>\\n<p>Ketika mendengar bahwa 99% internet itu melewati kabel laut, apa bayangan kita terkait bentuk fisik dari kabel laut itu? Ukurannya mungkin memang sangat bervariasi, namun gambar berikut bisa memberikan gambaran bahwa ukuran kabelnya bisa jadi hanya sekecil ini</p>\\n<figure class=\"wp-block-image size-full\"><img onload=\"Wpfcll.r(this,true);\" src=\"https://warstek.com/wp-content/plugins/wp-fastest-cache-premium/pro/images/blank.gif\" loading=\"lazy\" width=\"841\" height=\"555\" data-wpfc-original-src=\"https://warstek.com/wp-content/uploads/2021/09/image-11.png\" alt=\"Mengenal Kabel Laut - Bagian Utama dari Internet\" class=\"wp-image-53061\" data-wpfc-original-srcset=\"https://warstek.com/wp-content/uploads/2021/09/image-11.png 841w, https://warstek.com/wp-content/uploads/2021/09/image-11-300x198.png 300w, https://warstek.com/wp-content/uploads/2021/09/image-11-768x507.png 768w\" data-wpfc-original-sizes=\"(max-width: 841px) 100vw, 841px\"><figcaption>Isi dari Kabel Laut â\\x80\\x93 <a href=\"https://99percentinvisible.org/article/underwater-cloud-inside-cables-carrying-99-international-data-traffic/\">99percentinvisible.org</a></figcaption></figure>\\n<p>Hampir seluruh luasannya digunakan sebagai pelindung. Bagian yang mengalirkan informasi adalah fiber optik yang ukurannya tidak berbeda jauh dari sehelai rambut kita. Meski sangat kecil, dia mampu membawa informasi dengan sangat cepat, mendekati kecepatan cahaya. Itu karena informasi dibawa bukan sebagai sinyal listrik seperti kabel di rumah, namun sebagai sinyal cahaya. Kapasitasnya juga sangat besar, satu helai saja bisa memiliki kapasitas 100 gigabit per sekon. [Baca: <a href=\"https://warstek.com/ftth/\">Dasar Komunikasi Fiber Optik dan FTTH (Fiber To The Home)</a>]</p>\\n<p>Dengan itu semua, kabel laut jauh lebih cepat daripada satelit. Itu karena satelit yang biasanya digunakan untuk internet berada puluhan ribu kilometer di atas kita. Sementara itu, jalur melalui laut tidak akan lebih dari belasan ribu kilometer saja. Kapasitas transfer data dari satelit juga jauh lebih sulit untuk ditingkatkan dibanding kabel laut. Maka, meski keduanya memanfaatkan kecepatan cahaya, secara umum kabel laut tetap jauh lebih cepat daripada satelit. (Baca: <a href=\"https://warstek.com/starlink/\">SpaceX Luncurkan 60 Satelit Penyedia Internet Starlink</a>)</p>\\n<p>Namun, kabel laut juga memiliki banyak masalah. Banyak pihak yang menyebutkan bahwa kabel laut yang menjadi tulang punggung internet kita ini sebenarnya sangatlah rentan. Kabel laut dapat mengalami masalah akibat faktor alam, namun ini hanya mencakup 14 persen saja.  <em>Association of Sea Cable Communication Systems</em> menyebutkan bahwa sebanyak 47% gangguan kabel laut disebabkan oleh jangkar kapal. Sementara itu, 28% disebabkan oleh sektor perikanan yang menggunakan FAD (<em>fish aggregating devices</em>). Di Indonesia pun, jangkar juga menjadi penyebab gangguan kabel terbesar. Hal itu mengingat lautan Indonesia juga sering dilewati banyak kapal. </p>\\n<h2><span id=\"Jaringan_Kabel_Laut_di_Indonesia\">Jaringan Kabel Laut di Indonesia</span></h2>\\n<p>Kabel laut yang ada di negeri kita juga cukup banyak. Hal itu dapat dilihat pada Gambar berikut yang juga didapatkan dari  <a href=\"https://www.submarinecablemap.com\">www.submarinecablemap.com</a>. Pada Gambar ini, jaringan kabel JaSuKa yang dimiliki Telkom Indonesia terlihat berwarna biru tua dan menghubungkan berbagai titik di Jawa, Sumatera, dan Kalimantan. JaSuKa memiliki total panjang hampir 11 ribu kilometer dan disebut menjadi salah satu yang terpanjang di dunia. </p>\\n<figure class=\"wp-block-image size-full\"><img onload=\"Wpfcll.r(this,true);\" src=\"https://warstek.com/wp-content/plugins/wp-fastest-cache-premium/pro/images/blank.gif\" loading=\"lazy\" width=\"982\" height=\"360\" data-wpfc-original-src=\"https://warstek.com/wp-content/uploads/2021/09/image-12.png\" alt=\"Jaringan Kabel Laut di Indonesia - www.submarinecablemap.com\" class=\"wp-image-53064\" data-wpfc-original-srcset=\"https://warstek.com/wp-content/uploads/2021/09/image-12.png 982w, https://warstek.com/wp-content/uploads/2021/09/image-12-300x110.png 300w, https://warstek.com/wp-content/uploads/2021/09/image-12-768x282.png 768w\" data-wpfc-original-sizes=\"(max-width: 982px) 100vw, 982px\"><figcaption> Jaringan Kabel Laut di Indonesia â\\x80\\x93 <a href=\"https://www.submarinecablemap.com\">www.submarinecablemap.com</a> </figcaption></figure>\\n<p>Kabel laut memang jauh lebih murah daripada satelit, namun tetap saja tidak mudah dan tidak sederhana. Baik perencanaan maupun pengelolaannya memerlukan banyak pengorbanan. Ini wajar saja mengingat dunia bawah laut sangatlah kompleks dan penuh dengan berbagai hal yang tak terduga. Perlu diketahui pula bahwa setiap beberapa puluh kilometer, perlu terdapat <em>repeater </em>untuk menguatkan kembali sinyal cahaya yang telah melemah. Melihat kompleksitas itu, wajar saja jika perbaikan gangguan tidak bisa selesai dalam satu malam. </p>\\n<p>Meski demikian, sistem yang besar umumnya memiliki berbagai alternatif jika sistem utamanya gagal. Hal ini juga kita dengar dari pihak Telkom, bahwa jalur backup dan alternatif telah diaktifkan untuk destinasi utama tertentu. Berbagai hal teknis yang tidak akan dipahami masyarakat umum pasti juga telah dilakukan. </p>\\n<div class=\"quads-location quads-ad5\" id=\"quads-ad5\" style=\"float:none;margin:0px 0 0px 0;text-align:center;\">\\n<script async src=\"//pagead2.googlesyndication.com/pagead/js/adsbygoogle.js\"></script>\\n<ins class=\"adsbygoogle\" style=\"display:block; text-align:center;\" data-ad-layout=\"in-article\" data-ad-format=\"fluid\" data-ad-client=\"ca-pub-9638064869561472\" data-ad-slot=\"6075996024\"></ins>\\n<script>(adsbygoogle=window.adsbygoogle||[]).push({});</script></div><p>Bagaimana pun juga, gangguan ini menunjukan pada kita semua bahwa sistem internet di Indonesia sebenarnya masih belum kuat dan sangat rentan, apalagi jika kita meninjau Indonesia Timur. Di satu sisi, masyarakat umum perlu menyadari bahwa sistem internet secara fisiknya memang sangat kompleks dan sangat rentan terhadap berbagai gangguan serta tidak bisa diperbaiki dengan mudah. Di sisi lain, berbagai pihak yang berpartisipasi langsung di dalamnya perlu terus melakukan evaluasi dan pengembangan agar sistem internet di negeri kita dapat menjadi lebih handal. (Baca: <a href=\"https://warstek.com/internet/\">Analisis terhadap Kualitas Jaringan Internet Indonesia yang Memburuk</a>)</p>\\n<h2><span id=\"Referensi\">Referensi</span></h2>\\n<ul><li>Nur Fitriatus Shalihah, Sari Hardiyanto. <em>Kronologi Gangguan Indihome dan Telkomsel Selama Beberapa Hari</em>. Diakses dari Kompas: <a href=\"https://www.kompas.com/tren/read/2021/09/22/100958665/kronologi-gangguan-indihome-dan-telkomsel-selama-beberapa-hari?page=all\">https://www.kompas.com/tren/read/2021/09/22/100958665/kronologi-gangguan-indihome-dan-telkomsel-selama-beberapa-hari?page=all</a></li><li>Conney Stephanie, Oik Yusuf. <em>Telkom Sebut Perbaikan Kabel Laut Jasuka Butuh Waktu Sebulan. </em>Diakses dari Kompas: <a href=\"https://tekno.kompas.com/read/2021/09/22/19534287/telkom-sebut-perbaikan-kabel-laut-jasuka-butuh-waktu-sebulan\">https://tekno.kompas.com/read/2021/09/22/19534287/telkom-sebut-perbaikan-kabel-laut-jasuka-butuh-waktu-sebulan</a></li><li>Submarine Cable Map. <a href=\"https://www.submarinecablemap.com/\">https://www.submarinecablemap.com</a></li><li>Kurt Kohlstedt. <em>Underwater Cloud: Inside the Cables Carrying 99% of Transoceanic Data Traffic</em>. Diakses dari 99% Invisible: <a href=\"https://99percentinvisible.org/article/underwater-cloud-inside-cables-carrying-99-international-data-traffic\">https://99percentinvisible.org/article/underwater-cloud-inside-cables-carrying-99-international-data-traffic</a></li><li>Dedi Dinarto. <em>The Security Challenges Facing Indonesiaâ\\x80\\x99s Submarine Cable Communication System</em>. Diakses dari The Diplomat: <a href=\"https://thediplomat.com/2021/06/the-security-challenges-facing-indonesias-submarine-cable-communication-system\">https://thediplomat.com/2021/06/the-security-challenges-facing-indonesias-submarine-cable-communication-system</a></li></ul>\\n<div class=\"rmp-widgets-container rmp-wp-plugin rmp-main-container js-rmp-widgets-container js-rmp-widgets-container--53058\" data-post-id=\"53058\">      <div class=\"rmp-rating-widget js-rmp-rating-widget\">          <p class=\"rmp-heading rmp-heading--title\">        Setelah selesai membaca, yuk berikan artikel ini penilaian!      </p>              <p class=\"rmp-heading rmp-heading--subtitle\">        Klik berdasarkan jumlah bintang untuk menilai!      </p>        <div class=\"rmp-rating-widget__icons\"> <ul class=\"rmp-rating-widget__icons-list js-rmp-rating-icons-list\"> <li class=\"rmp-rating-widget__icons-list__icon js-rmp-rating-item\" data-descriptive-rating=\"Artikel Menyesatkan\" data-value=\"1\"> <i class=\"js-rmp-rating-icon rmp-icon rmp-icon--ratings rmp-icon--star rmp-icon--full-highlight\"></i> </li> <li class=\"rmp-rating-widget__icons-list__icon js-rmp-rating-item\" data-descriptive-rating=\"Artikel Kurang Berkualitas\" data-value=\"2\"> <i class=\"js-rmp-rating-icon rmp-icon rmp-icon--ratings rmp-icon--star rmp-icon--full-highlight\"></i> </li> <li class=\"rmp-rating-widget__icons-list__icon js-rmp-rating-item\" data-descriptive-rating=\"Artikel Biasa Saja\" data-value=\"3\"> <i class=\"js-rmp-rating-icon rmp-icon rmp-icon--ratings rmp-icon--star rmp-icon--full-highlight\"></i> </li> <li class=\"rmp-rating-widget__icons-list__icon js-rmp-rating-item\" data-descriptive-rating=\"Artikel Bermanfaat\" data-value=\"4\"> <i class=\"js-rmp-rating-icon rmp-icon rmp-icon--ratings rmp-icon--star rmp-icon--full-highlight\"></i> </li> <li class=\"rmp-rating-widget__icons-list__icon js-rmp-rating-item\" data-descriptive-rating=\"Artikel Sangat Bermanfaat\" data-value=\"5\"> <i class=\"js-rmp-rating-icon rmp-icon rmp-icon--ratings rmp-icon--star rmp-icon--full-highlight\"></i> </li> </ul></div><p class=\"rmp-rating-widget__hover-text js-rmp-hover-text\"></p>    <button class=\"rmp-rating-widget__submit-btn rmp-btn js-submit-rating-btn\">      Berikan penilaian    </button>    <p class=\"rmp-rating-widget__results js-rmp-results\">      Rata-rata nilai <span class=\"rmp-rating-widget__results__rating js-rmp-avg-rating\">5</span> / 5. Banyaknya vote: <span class=\"rmp-rating-widget__results__votes js-rmp-vote-count\">3</span>    </p>    <p class=\"rmp-rating-widget__not-rated js-rmp-not-rated rmp-rating-widget__not-rated--hidden\">      Belum ada yang menilai! Yuk jadi yang pertama kali menilai!    </p>    <p class=\"rmp-rating-widget__msg js-rmp-msg\">\\n</p><div class=\"quads-location quads-ad4\" id=\"quads-ad4\" style=\"float:none;margin:0px 0 0px 0;text-align:center;\">\\nBaca juga:\\n<br>\\n<script async src=\"//pagead2.googlesyndication.com/pagead/js/adsbygoogle.js\"></script>\\n<ins class=\"adsbygoogle\" style=\"display:inline-block;width:100%;height:150px\" data-ad-client=\"ca-pub-9638064869561472\" data-ad-slot=\"5198682179\"></ins>\\n<script>(adsbygoogle=window.adsbygoogle||[]).push({});</script></div></div></div><div class=\"abh_box abh_box_down abh_box_business\"><ul class=\"abh_tabs\"> <li class=\"abh_about abh_active\"><a href=\"#abh_about\">About</a></li> <li class=\"abh_posts\"><a href=\"#abh_posts\">Latest Posts</a></li></ul><div class=\"abh_tab_content\"><section class=\"vcard author abh_about_tab abh_tab\" itemscope itemprop=\"author\" itemtype=\"http://schema.org/Person\" style=\"display:block\"><div class=\"abh_image\" itemscope itemtype=\"http://schema.org/ImageObject\"><a href=\"http://pandegaaz101.blogspot.com\" class=\"url\" target=\"_blank\" title=\"Pandega Abyan Zumarsyah\" rel=\"nofollow\"> <img onload=\"Wpfcll.r(this,true);\" src=\"https://warstek.com/wp-content/plugins/wp-fastest-cache-premium/pro/images/blank.gif\" data-wpfc-original-src=\"https://warstek.com/wp-content/uploads/2017/12/logo-warstek-bulat.png\" class=\"gravatar avatar avatar-250 um-avatar um-avatar-default\" width=\"250\" height=\"250\" alt=\"Pandega Abyan Zumarsyah\" data-default=\"https://warstek.com/wp-content/uploads/2017/12/logo-warstek-bulat.png\" onerror=\"if ( ! this.getAttribute(\\'data-load-error\\') ){ this.setAttribute(\\'data-load-error\\',\\'1\\');this.setAttribute(\\'src\\', this.getAttribute(\\'data-default\\'));}\"></a></div><div class=\"abh_social\"></div><div class=\"abh_text\"><div class=\"abh_name fn name\" itemprop=\"name\"><a href=\"http://pandegaaz101.blogspot.com\" class=\"url\" target=\"_blank\" rel=\"nofollow\">Pandega Abyan Zumarsyah</a></div><div class=\"abh_job\"><span class=\"title\">Mahasiswa</span> at <span class=\"org\">Universitas Gadjah Mada</span></div><div class=\"description note abh_description\" itemprop=\"description\">Mahasiswa S-1 Teknik Elektro di Universitas Gadjah Mada. Tertarik pada semua bidang sains dan teknologi secara umum; terutama bidang Fisika, Sejarah Sains, dan Teknik Elektro</div></div></section><section class=\"abh_posts_tab abh_tab\"><div class=\"abh_image\"><a href=\"http://pandegaaz101.blogspot.com\" class=\"url\" target=\"_blank\" title=\"Pandega Abyan Zumarsyah\" rel=\"nofollow\"><img onload=\"Wpfcll.r(this,true);\" src=\"https://warstek.com/wp-content/plugins/wp-fastest-cache-premium/pro/images/blank.gif\" data-wpfc-original-src=\"https://warstek.com/wp-content/uploads/2017/12/logo-warstek-bulat.png\" class=\"gravatar avatar avatar-250 um-avatar um-avatar-default\" width=\"250\" height=\"250\" alt=\"Pandega Abyan Zumarsyah\" data-default=\"https://warstek.com/wp-content/uploads/2017/12/logo-warstek-bulat.png\" onerror=\"if ( ! this.getAttribute(\\'data-load-error\\') ){ this.setAttribute(\\'data-load-error\\',\\'1\\');this.setAttribute(\\'src\\', this.getAttribute(\\'data-default\\'));}\"></a></div><div class=\"abh_social\"></div><div class=\"abh_text\"><div class=\"abh_name\">Latest posts by Pandega Abyan Zumarsyah <span class=\"abh_allposts\">(<a href=\"https://warstek.com/author/pandegaabyan/\">see all</a>)</span></div><div class=\"abh_description note\"><ul> <li> <a href=\"https://warstek.com/kabel-laut/\">Mengenal Kabel Laut â\\x80\\x93 Bagian Utama dari Internet</a><span> - 25 September 2021</span> </li> <li> <a href=\"https://warstek.com/observasi-luar-angkasa-2/\">Observasi Luar Angkasa: Meninjau â\\x80\\x9cMasa Laluâ\\x80\\x9d untuk Mengembangkan Masa Depan</a><span> - 23 September 2021</span> </li> <li> <a href=\"https://warstek.com/observasi-luar-angkasa/\">Observasi Luar Angkasa: Meninjau Masa Lalu dan Mengembangkan Masa Depan</a><span> - 06 Agustus 2021</span> </li></ul></div></div></section></div></div><div class=\"sharedaddy sd-sharing-enabled\"><div class=\"robots-nocontent sd-block sd-social sd-social-icon-text sd-sharing\"><h3 class=\"sd-title\"><span id=\"Bagikan_ini\">Bagikan ini:</span></h3><div class=\"sd-content\"><ul><li class=\"share-print\"><a rel=\"nofollow noopener noreferrer\" data-shared=\"\" class=\"share-print sd-button share-icon\" href=\"https://warstek.com/kabel-laut/#print\" target=\"_blank\" title=\"Klik untuk mencetak\"><span>Cetak</span></a></li><li class=\"share-jetpack-whatsapp\"><a rel=\"nofollow noopener noreferrer\" data-shared=\"\" class=\"share-jetpack-whatsapp sd-button share-icon\" href=\"https://warstek.com/kabel-laut/?share=jetpack-whatsapp\" target=\"_blank\" title=\"Klik untuk berbagi di WhatsApp\"><span>WhatsApp</span></a></li><li class=\"share-facebook\"><a rel=\"nofollow noopener noreferrer\" data-shared=\"sharing-facebook-53058\" class=\"share-facebook sd-button share-icon\" href=\"https://warstek.com/kabel-laut/?share=facebook\" target=\"_blank\" title=\"Klik untuk membagikan di Facebook\"><span>Facebook</span></a></li><li class=\"share-twitter\"><a rel=\"nofollow noopener noreferrer\" data-shared=\"sharing-twitter-53058\" class=\"share-twitter sd-button share-icon\" href=\"https://warstek.com/kabel-laut/?share=twitter\" target=\"_blank\" title=\"Klik untuk berbagi pada Twitter\"><span>Twitter</span></a></li><li class=\"share-telegram\"><a rel=\"nofollow noopener noreferrer\" data-shared=\"\" class=\"share-telegram sd-button share-icon\" href=\"https://warstek.com/kabel-laut/?share=telegram\" target=\"_blank\" title=\"Klik untuk berbagi di Telegram\"><span>Telegram</span></a></li><li class=\"share-end\"></ul></div></div></div><div class=\"quads-location quads-ad2\" id=\"quads-ad2\" style=\"float:none;margin:0px 0 0px 0;text-align:center;\">\\nArtikel Berhubungan:\\n<script async src=\"//pagead2.googlesyndication.com/pagead/js/adsbygoogle.js\"></script>\\n<ins class=\"adsbygoogle\" style=\"display:block\" data-ad-format=\"autorelaxed\" data-ad-client=\"ca-pub-9638064869561472\" data-ad-slot=\"4368873124\"></ins>\\n<script>(adsbygoogle=window.adsbygoogle||[]).push({});</script>\\n<br>\\n<br> <style>div#btm_banner{width:100%;bottom:0;left:0;position:fixed;opacity:0.9;}div#btm_banner img{border:0;cursor:pointer;}</style><div style=\"height: 0px;\"></div><div align=\"center\" id=\"btm_banner\" style=\"height: 100px; z-index: 9999;\"><div style=\"text-align: right; width: 320px; height: 6px;\"></div><div style=\"clear: both;\"></div><p></p><p></p><center>\\n<center><div style=\"position:fixed;bottom:0; width:100%;\"><ins class=\"adsbyadop\" _adop_zon=\"6e6a8d7b-22fe-46c3-896b-2b87c25df83b\" _adop_type=\"rs\" style=\"display:inline-block;width:320px;height:50px;\" _page_url=\"\" _over_size=\"auto\" _over_zone=\\'{\"728x90\":\"68af245d-5c6b-41b8-8d8f-df928265291d\"}\\'></ins></div></center>\\n</center></div><div id=\"ADOP_V_c1RqTHa2x8\" style=\"height:0;\"></div></div></div><div class=\"nv-tags-list\"><span>Tag:</span><a href=https://warstek.com/tag/fiber-optic/ title=\"fiber optic\" class=fiber-optic rel=\"tag\">fiber optic</a><a href=https://warstek.com/tag/internet/ title=\"Internet\" class=internet rel=\"tag\">Internet</a><a href=https://warstek.com/tag/jasuka/ title=\"JaSuKa\" class=jasuka rel=\"tag\">JaSuKa</a><a href=https://warstek.com/tag/kabel-laut/ title=\"kabel laut\" class=kabel-laut rel=\"tag\">kabel laut</a><a href=https://warstek.com/tag/telkomsel/ title=\"Telkomsel\" class=telkomsel rel=\"tag\">Telkomsel</a></div><div id=\"comments\" class=\"comments-area\">\\n<div id=\"respond\" class=\"comment-respond\">\\n<h3 id=\"reply-title\" class=\"comment-reply-title\">Tinggalkan Balasan <small><a rel=\"nofollow\" id=\"cancel-comment-reply-link\" href=\"/kabel-laut/#respond\" style=\"display:none;\">Batalkan balasan</a></small></h3><form action=\"https://warstek.com/wp-comments-post.php\" method=\"post\" id=\"commentform\" class=\"comment-form\"><p class=\"comment-notes\"><span id=\"email-notes\">Alamat email Anda tidak akan dipublikasikan.</span> Ruas yang wajib ditandai <span class=\"required\">*</span></p><p class=\"comment-form-comment\"><label for=\"comment\">Komentar</label> <textarea id=\"comment\" name=\"comment\" cols=\"45\" rows=\"8\" maxlength=\"65525\" required=\"required\"></textarea></p><p class=\"comment-form-author\"><label for=\"author\">Nama <span class=\"required\">*</span></label> <input id=\"author\" name=\"author\" type=\"text\" value=\"\" size=\"30\" maxlength=\"245\" required=\\'required\\' /></p>\\n<p class=\"comment-form-email\"><label for=\"email\">Email <span class=\"required\">*</span></label> <input id=\"email\" name=\"email\" type=\"text\" value=\"\" size=\"30\" maxlength=\"100\" aria-describedby=\"email-notes\" required=\\'required\\' /></p>\\n<p class=\"comment-form-url\"><label for=\"url\">Situs Web</label> <input id=\"url\" name=\"url\" type=\"text\" value=\"\" size=\"30\" maxlength=\"200\" /></p>\\n<p class=\"form-submit\"><input name=\"submit\" type=\"submit\" id=\"submit\" class=\"submit\" value=\"Kirim Komentar\" /> <input type=\\'hidden\\' name=\\'comment_post_ID\\' value=\\'53058\\' id=\\'comment_post_ID\\' />\\n<input type=\\'hidden\\' name=\\'comment_parent\\' id=\\'comment_parent\\' value=\\'0\\' />\\n</p></form></div></div></article>\\n<div class=\"nv-sidebar-wrap col-sm-12 nv-right blog-sidebar\">\\n<aside id=\"secondary\" role=\"complementary\">\\n<div id=\"search-3\" class=\"widget widget_search\"><p class=\"widget-title\">Cari Artikel</p><form role=\"search\" method=\"get\" class=\"search-form\" action=\"https://warstek.com/\">\\n<label>\\n<span class=\"screen-reader-text\">Cari untuk:</span>\\n<input type=\"search\" class=\"search-field\" placeholder=\"Cari &hellip;\" value=\"\" name=\"s\" />\\n</label>\\n<input type=\"submit\" class=\"search-submit\" value=\"Cari\" />\\n<div class=\"nv-search-icon-wrap\"><div class=\"nv-icon nv-search\"> <svg width=\"15\" height=\"15\" viewBox=\"0 0 1792 1792\" xmlns=\"http://www.w3.org/2000/svg\"><path d=\"M1216 832q0-185-131.5-316.5t-316.5-131.5-316.5 131.5-131.5 316.5 131.5 316.5 316.5 131.5 316.5-131.5 131.5-316.5zm512 832q0 52-38 90t-90 38q-54 0-90-38l-343-342q-179 124-399 124-143 0-273.5-55.5t-225-150-150-225-55.5-273.5 55.5-273.5 150-225 225-150 273.5-55.5 273.5 55.5 225 150 150 225 55.5 273.5q0 220-124 399l343 343q37 37 37 90z\"/></svg></div></div></form></div><div id=\"custom_html-49\" class=\"widget_text widget widget_custom_html\"><p class=\"widget-title\">Langganan via Email</p><div class=\"textwidget custom-html-widget\"><form style=\"border:0px solid #ccc;padding:0px;text-align:center;\" action=\"https://feedburner.google.com/fb/a/mailverify\" method=\"post\" target=\"popupwindow\" onsubmit=\"window.open(\\'https://feedburner.google.com/fb/a/mailverify?uri=warstek/EOtr\\', \\'popupwindow\\', \\'scrollbars=yes,width=550,height=520\\');return true\"><p>Masukkan Email Anda:</p><p><input type=\"text\" style=\"width:180px\" name=\"email\"/></p><input type=\"hidden\" value=\"warstek/EOtr\" name=\"uri\"/><input type=\"hidden\" name=\"loc\" value=\"en_US\"/><input type=\"submit\" value=\"Langganan\" /></form></div></div><div id=\"eaw-recent-posts-plus-2\" class=\"widget widget_recent_posts_plus\"><p class=\"widget-title\">Artikel Pilihan Editor</p>\\t\\t\\t\\t<div class=\"eaw-recent-posts\">\\n<img onload=\"Wpfcll.r(this,true);\" src=\"https://warstek.com/wp-content/plugins/wp-fastest-cache-premium/pro/images/blank.gif\" width=\"300\" height=\"185\" data-wpfc-original-src=\"https://warstek.com/wp-content/uploads/2021/10/15-juni-obat-san-prima-300x185.jpg\" class=\"attachment-medium size-medium wp-post-image\" alt=\"blank\" loading=\"lazy\" data-wpfc-original-srcset=\"https://warstek.com/wp-content/uploads/2021/10/15-juni-obat-san-prima-300x185.jpg 300w, https://warstek.com/wp-content/uploads/2021/10/15-juni-obat-san-prima-768x474.jpg 768w, https://warstek.com/wp-content/uploads/2021/10/15-juni-obat-san-prima.jpg 1003w\" data-wpfc-original-sizes=\"(max-width: 300px) 100vw, 300px\"/>\\t\\t\\t\\t\\t<div class=\"eaw-content\"> <h3><a href=\"https://warstek.com/obat-2/\">Benarkah Obat Dapat Menyebabkan Gagal Ginjal dan Kerusakan Fungsi Hati?</a> </h3> <p> Berdasarkan DJ International Journal of Medical Research, obat merupakan hal pertama yang di pertimbangkan saat suatu penyakit menyerang. Dari zaman &hellip; </p></div></div><div class=\"eaw-recent-posts\">\\n<img onload=\"Wpfcll.r(this,true);\" src=\"https://warstek.com/wp-content/plugins/wp-fastest-cache-premium/pro/images/blank.gif\" width=\"300\" height=\"168\" data-wpfc-original-src=\"https://warstek.com/wp-content/uploads/2021/10/flyby-300x168.jpg\" class=\"attachment-medium size-medium wp-post-image\" alt=\"foto yang diambil oleh wahana BepiColombo sesaat setelah flyby\" loading=\"lazy\" data-wpfc-original-srcset=\"https://warstek.com/wp-content/uploads/2021/10/flyby-300x168.jpg 300w, https://warstek.com/wp-content/uploads/2021/10/flyby-1024x573.jpg 1024w, https://warstek.com/wp-content/uploads/2021/10/flyby-768x430.jpg 768w, https://warstek.com/wp-content/uploads/2021/10/flyby-1536x860.jpg 1536w, https://warstek.com/wp-content/uploads/2021/10/flyby.jpg 1929w\" data-wpfc-original-sizes=\"(max-width: 300px) 100vw, 300px\"/>\\t\\t\\t\\t\\t<div class=\"eaw-content\"> <h3><a href=\"https://warstek.com/bepicolombo/\">BepiColombo: Misi Satelit ke Planet Neraka, Merkurius</a> </h3> <p> BepiColombo sedang di perjalanan sebelum mengorbit Merkurius tahun 2025. Bertemu dengan Merkurius minggu lalu, wahana buatan Eropa dan Jepang ini &hellip; </p></div></div><div class=\"eaw-recent-posts\">\\n<img onload=\"Wpfcll.r(this,true);\" src=\"https://warstek.com/wp-content/plugins/wp-fastest-cache-premium/pro/images/blank.gif\" width=\"300\" height=\"168\" data-wpfc-original-src=\"https://warstek.com/wp-content/uploads/2021/09/9696d4bdf9-300x168.jpg\" class=\"attachment-medium size-medium wp-post-image\" alt=\"blank\" loading=\"lazy\" data-wpfc-original-srcset=\"https://warstek.com/wp-content/uploads/2021/09/9696d4bdf9-300x168.jpg 300w, https://warstek.com/wp-content/uploads/2021/09/9696d4bdf9-1024x574.jpg 1024w, https://warstek.com/wp-content/uploads/2021/09/9696d4bdf9-768x431.jpg 768w, https://warstek.com/wp-content/uploads/2021/09/9696d4bdf9.jpg 1280w\" data-wpfc-original-sizes=\"(max-width: 300px) 100vw, 300px\"/>\\t\\t\\t\\t\\t<div class=\"eaw-content\"> <h3><a href=\"https://warstek.com/komet-raksasa/\">Penemuan Komet Raksasa, Diameternya Ratusan Kilometer</a> </h3> <p> Komet Komet&nbsp;adalah benda&nbsp;langit&nbsp;yang mengelilingi&nbsp;matahari&nbsp;dengan&nbsp;garis edar&nbsp;berbentuk&nbsp;lonjong,&nbsp;parabolis, atau&nbsp;hiperbolis. Istilah â\\x80\\x9ckometâ\\x80\\x9d berasal dari&nbsp;bahasa Yunani,&nbsp;kometes&nbsp;(ÎºÎ¿Î¼Î®Ï\\x84Î·Ï\\x82) yang berarti â\\x80\\x9crambut panjangâ\\x80\\x9d.&nbsp;Istilah lainnya adalah&nbsp;bintang berekor yang tidak &hellip; </p></div></div></div><div id=\"rate-my-post-top-rated-widget-2\" class=\"widget widget_rate-my-post-top-rated-widget\"><p class=\"widget-title\">Artikel Terpopuler</p>        \\n<div class=\"rmp-tr-posts-widget\">\\n<div class=\"rmp-tr-posts-widget__post\">\\n<div class=\"rmp-tr-posts-widget__img-container\"> <a href=\"https://warstek.com/bepicolombo/\"> <img onload=\"Wpfcll.r(this,true);\" src=\"https://warstek.com/wp-content/plugins/wp-fastest-cache-premium/pro/images/blank.gif\" class=\"rmp-tr-posts-widget__img\" data-wpfc-original-src=\"https://warstek.com/wp-content/uploads/2021/10/flyby.jpg\" alt=\"BepiColombo: Misi Satelit ke Planet Neraka, Merkurius\"/> </a></div><div class=\"rmp-tr-posts-widget__star-rating\"> <i class=\"rmp-icon rmp-icon--ratings rmp-icon--star rmp-icon--full-highlight\"></i><i class=\"rmp-icon rmp-icon--ratings rmp-icon--star rmp-icon--full-highlight\"></i><i class=\"rmp-icon rmp-icon--ratings rmp-icon--star rmp-icon--full-highlight\"></i><i class=\"rmp-icon rmp-icon--ratings rmp-icon--star rmp-icon--full-highlight\"></i><i class=\"rmp-icon rmp-icon--ratings rmp-icon--star rmp-icon--full-highlight\"></i> <span class=\"rmp-tr-posts-widget__avg-rating\">5</span> <span class=\"rmp-tr-posts-widget__num-votes\">(1)</span></div><p>\\n<a class=\"rmp-tr-posts-widget__link\" href=\"https://warstek.com/bepicolombo/\">BepiColombo: Misi Satelit ke Planet Neraka, Merkurius</a>\\n</p></div><div class=\"rmp-tr-posts-widget__post\">\\n<div class=\"rmp-tr-posts-widget__img-container\"> <a href=\"https://warstek.com/sebelum-big-bang/\"> <img onload=\"Wpfcll.r(this,true);\" src=\"https://warstek.com/wp-content/plugins/wp-fastest-cache-premium/pro/images/blank.gif\" class=\"rmp-tr-posts-widget__img\" data-wpfc-original-src=\"https://warstek.com/wp-content/uploads/2018/04/big-bang-sound-1jpg.jpg\" alt=\"Ada Apa Sebelum Big Bang? Ini Jawaban Peraih Nobel Fisika, Roger Penrose\"/> </a></div><div class=\"rmp-tr-posts-widget__star-rating\"> <i class=\"rmp-icon rmp-icon--ratings rmp-icon--star rmp-icon--full-highlight\"></i><i class=\"rmp-icon rmp-icon--ratings rmp-icon--star rmp-icon--full-highlight\"></i><i class=\"rmp-icon rmp-icon--ratings rmp-icon--star rmp-icon--full-highlight\"></i><i class=\"rmp-icon rmp-icon--ratings rmp-icon--star rmp-icon--full-highlight\"></i><i class=\"rmp-icon rmp-icon--ratings rmp-icon--star rmp-icon--full-highlight\"></i> <span class=\"rmp-tr-posts-widget__avg-rating\">5</span> <span class=\"rmp-tr-posts-widget__num-votes\">(1)</span></div><p>\\n<a class=\"rmp-tr-posts-widget__link\" href=\"https://warstek.com/sebelum-big-bang/\">Ada Apa Sebelum Big Bang? Ini Jawaban Peraih Nobel Fisika, Roger Penrose</a>\\n</p></div><div class=\"rmp-tr-posts-widget__post\">\\n<div class=\"rmp-tr-posts-widget__img-container\"> <a href=\"https://warstek.com/manajemen-bencana/\"> <img onload=\"Wpfcll.r(this,true);\" src=\"https://warstek.com/wp-content/plugins/wp-fastest-cache-premium/pro/images/blank.gif\" class=\"rmp-tr-posts-widget__img\" data-wpfc-original-src=\"https://warstek.com/wp-content/uploads/2020/10/mister.enviro-20201003-0001.jpg\" alt=\"Manajemen Bencana Dalam Perspektif Kesehatan Lingkungan dan Masyarakat\"/> </a></div><div class=\"rmp-tr-posts-widget__star-rating\"> <i class=\"rmp-icon rmp-icon--ratings rmp-icon--star rmp-icon--full-highlight\"></i><i class=\"rmp-icon rmp-icon--ratings rmp-icon--star rmp-icon--full-highlight\"></i><i class=\"rmp-icon rmp-icon--ratings rmp-icon--star rmp-icon--full-highlight\"></i><i class=\"rmp-icon rmp-icon--ratings rmp-icon--star rmp-icon--full-highlight\"></i><i class=\"rmp-icon rmp-icon--ratings rmp-icon--star rmp-icon--full-highlight\"></i> <span class=\"rmp-tr-posts-widget__avg-rating\">5</span> <span class=\"rmp-tr-posts-widget__num-votes\">(1)</span></div><p>\\n<a class=\"rmp-tr-posts-widget__link\" href=\"https://warstek.com/manajemen-bencana/\">Manajemen Bencana Dalam Perspektif Kesehatan Lingkungan dan Masyarakat</a>\\n</p></div><div class=\"rmp-tr-posts-widget__post\">\\n<div class=\"rmp-tr-posts-widget__img-container\"> <a href=\"https://warstek.com/bioinformatika-apa-sih-bioinformatika-itu/\"> <img onload=\"Wpfcll.r(this,true);\" src=\"https://warstek.com/wp-content/plugins/wp-fastest-cache-premium/pro/images/blank.gif\" class=\"rmp-tr-posts-widget__img\" data-wpfc-original-src=\"https://warstek.com/wp-content/uploads/2020/10/istockphoto-533906136-1024x1024-1.jpg\" alt=\"Bioinformatika, apa sih Bioinformatika itu?\"/> </a></div><div class=\"rmp-tr-posts-widget__star-rating\"> <i class=\"rmp-icon rmp-icon--ratings rmp-icon--star rmp-icon--full-highlight\"></i><i class=\"rmp-icon rmp-icon--ratings rmp-icon--star rmp-icon--full-highlight\"></i><i class=\"rmp-icon rmp-icon--ratings rmp-icon--star rmp-icon--full-highlight\"></i><i class=\"rmp-icon rmp-icon--ratings rmp-icon--star rmp-icon--full-highlight\"></i><i class=\"rmp-icon rmp-icon--ratings rmp-icon--star rmp-icon--full-highlight\"></i> <span class=\"rmp-tr-posts-widget__avg-rating\">5</span> <span class=\"rmp-tr-posts-widget__num-votes\">(1)</span></div><p>\\n<a class=\"rmp-tr-posts-widget__link\" href=\"https://warstek.com/bioinformatika-apa-sih-bioinformatika-itu/\">Bioinformatika, apa sih Bioinformatika itu?</a>\\n</p></div><div class=\"rmp-tr-posts-widget__post\">\\n<div class=\"rmp-tr-posts-widget__img-container\"> <a href=\"https://warstek.com/pancasila/\"> <img onload=\"Wpfcll.r(this,true);\" src=\"https://warstek.com/wp-content/plugins/wp-fastest-cache-premium/pro/images/blank.gif\" class=\"rmp-tr-posts-widget__img\" data-wpfc-original-src=\"https://warstek.com/wp-content/uploads/2020/11/Untitled-3.jpg\" alt=\"Pancasila: Pengertian, Sejarah, Butir, Nilai, dan Dasar Pandangan Hidup [Lengkap + Contoh Soal]\"/> </a></div><div class=\"rmp-tr-posts-widget__star-rating\"> <i class=\"rmp-icon rmp-icon--ratings rmp-icon--star rmp-icon--full-highlight\"></i><i class=\"rmp-icon rmp-icon--ratings rmp-icon--star rmp-icon--full-highlight\"></i><i class=\"rmp-icon rmp-icon--ratings rmp-icon--star rmp-icon--full-highlight\"></i><i class=\"rmp-icon rmp-icon--ratings rmp-icon--star rmp-icon--full-highlight\"></i><i class=\"rmp-icon rmp-icon--ratings rmp-icon--star rmp-icon--full-highlight\"></i> <span class=\"rmp-tr-posts-widget__avg-rating\">5</span> <span class=\"rmp-tr-posts-widget__num-votes\">(1)</span></div><p>\\n<a class=\"rmp-tr-posts-widget__link\" href=\"https://warstek.com/pancasila/\">Pancasila:  Pengertian, Sejarah, Butir, Nilai, dan Dasar Pandangan Hidup [Lengkap + Contoh Soal]</a>\\n</p></div></div></div><div id=\"custom_html-50\" class=\"widget_text widget widget_custom_html\"><p class=\"widget-title\">Artikel yang Terkait</p><div class=\"textwidget custom-html-widget\">\\n<script async src=\"//pagead2.googlesyndication.com/pagead/js/adsbygoogle.js\"></script>\\n<ins class=\"adsbygoogle\"\\nstyle=\"display:block\"\\ndata-ad-format=\"autorelaxed\"\\ndata-ad-client=\"ca-pub-9638064869561472\"\\ndata-ad-slot=\"4368873124\"></ins>\\n<script>(adsbygoogle=window.adsbygoogle||[]).push({});</script>\\n<br/>\\n<ins class=\\'adsbyadop\\' _adop_zon = \\'6dc5bcbb-1006-49b8-9ffd-eb8a5e464239\\' _adop_type = \\'re\\' style=\\'display:inline-block;width:300px;height:250px;\\' _page_url=\\'\\'></ins></div></div></aside></div></div></div></main>\\n<footer class=\"site-footer\" id=\"site-footer\">\\n<div class=\"hfg_footer\">\\n<div class=\"footer--row footer-top layout-full-contained\" id=\"cb-row--footer-top\" data-row-id=\"top\" data-show-on=\"desktop\">\\n<div class=\"footer--row-inner footer-top-inner footer-content-wrap\">\\n<div class=\"container\">\\n<div class=\"hfg-grid nv-footer-content hfg-grid-top row--wrapper row\" data-section=\"hfg_footer_layout_top\">\\n<div class=\"builder-item hfg-item-last hfg-item-first col-12 desktop-center tablet-center mobile-center hfg-item-v-middle\"><div class=\"item--inner builder-item--footer_copyright\" data-section=\"footer_copyright\" data-item-id=\"footer_copyright\">\\n<div class=\"component-wrap\"> <p>Didesain dengan hati | Copyright Warstek.com 2021 </p></div></div></div></div></div></div></div><div class=\"footer--row footer-bottom layout-full-contained\" id=\"cb-row--footer-bottom\" data-row-id=\"bottom\" data-show-on=\"desktop\">\\n<div class=\"footer--row-inner footer-bottom-inner footer-content-wrap\">\\n<div class=\"container\">\\n<div class=\"hfg-grid nv-footer-content hfg-grid-bottom row--wrapper row\" data-section=\"hfg_footer_layout_bottom\">\\n<div class=\"builder-item hfg-item-first col-6 desktop-left tablet-left mobile-left hfg-item-v-middle\"><div class=\"item--inner builder-item--footer-one-widgets\" data-section=\"sidebar-widgets-footer-one-widgets\" data-item-id=\"footer-one-widgets\">\\n<div class=\"widget-area\">\\n<div id=\"text-7\" class=\"widget widget_text\">\\t\\t\\t<div class=\"textwidget\"><p><img onload=\"Wpfcll.r(this,true);\" src=\"https://warstek.com/wp-content/plugins/wp-fastest-cache-premium/pro/images/blank.gif\" loading=\"lazy\" data-wpfc-original-src=\"http://warstek.com/wp-content/uploads/2017/12/footer-logo-copy-min.png\" alt=\"blank\" width=\"163\" height=\"50\"/></p>\\n<div><strong>UP TO DATE | TERPERCAYAÂ\\xa0| SERU</strong></div><div></div><div style=\"margin: 0px 0 0px 0;\">Warstek adalah media SAINS POPULER yang dibuat untuk seluruh masyarakat Indonesia baik kalangan akademisi, masyarakat sipil, atau industri.</div></div></div></div></div></div><div class=\"builder-item hfg-item-last col-6 desktop-left tablet-left mobile-left hfg-item-v-middle\"><div class=\"item--inner builder-item--footer-two-widgets\" data-section=\"sidebar-widgets-footer-two-widgets\" data-item-id=\"footer-two-widgets\">\\n<div class=\"widget-area\">\\n<div id=\"text-4\" class=\"widget widget_text\"><p class=\"widget-title\">Kontak</p>\\t\\t\\t<div class=\"textwidget\"><p>Address: Jl. Sukolilo Baru gg. VI no 10 | Surabaya | Indonesia<br /> Phone: (+62)87750118140<br /> Email: warstek.jurnal@gmail.com<br /> Office Hour: 08.00 WIB Â\\xa0&#8211; 15.00 WIB (Monday &#8211; Friday)</p></div></div></div></div></div></div></div></div></div></div></footer></div><div id=\"um_upload_single\" style=\"display:none\"></div><div id=\"um_view_photo\" style=\"display:none\">\\n<a href=\"javascript:void(0);\" data-action=\"um_remove_modal\" class=\"um-modal-close\" aria-label=\"Close view photo modal\">\\n<i class=\"um-faicon-times\"></i>\\n</a>\\n<div class=\"um-modal-body photo\">\\n<div class=\"um-modal-photo\"></div></div></div><ul class=\"obfx-sharing obfx-sharing-right obfx-sharing-bottom\">\\n<li> <a class =\"facebook\" href=\"https://www.facebook.com/sharer.php?u=https://warstek.com/kabel-laut/\"> <i class=\"socicon-facebook\"></i> </a> </li>\\n<li> <a class =\"twitter\" href=\"https://twitter.com/intent/tweet?url=https://warstek.com/kabel-laut/&#038;text=Mengenal%20Kabel%20Laut%20&#8211;%20Bagian%20Utama%20dari%20Internet&#038;hashtags=Pilihan%20Editor,Teknologi\"> <i class=\"socicon-twitter\"></i> </a> </li>\\n<li> <a class =\"whatsapp\" href=\"whatsapp://send?text=https://warstek.com/kabel-laut/\"> <i class=\"socicon-whatsapp\"></i> </a> </li>\\n</ul>\\n<div class=\"wp-dark-mode-switcher wp-dark-mode-ignore style-1 floating right_bottom\">\\n<label for=\"wp-dark-mode-switch\" class=\"wp-dark-mode-ignore wp-dark-mode-wobble\">\\n<div class=\"modes wp-dark-mode-ignore\"> <img onload=\"Wpfcll.r(this,true);\" src=\"https://warstek.com/wp-content/plugins/wp-fastest-cache-premium/pro/images/blank.gif\" class=\"light\" data-wpfc-original-src=\"https://warstek.com/wp-content/plugins/wp-dark-mode//assets/images/btn-1/light.png\" alt=\"Light\"> <img onload=\"Wpfcll.r(this,true);\" src=\"https://warstek.com/wp-content/plugins/wp-fastest-cache-premium/pro/images/blank.gif\" class=\"dark\" data-wpfc-original-src=\"https://warstek.com/wp-content/plugins/wp-dark-mode//assets/images/btn-1/dark.png\" alt=\"Dark\"></div></label></div><script id=\\'rate-my-post-js-extra\\'>var rmp_frontend={\"admin_ajax\":\"https:\\\\/\\\\/warstek.com\\\\/wp-admin\\\\/admin-ajax.php\",\"postID\":\"53058\",\"noVotes\":\"Belum ada yang menilai! Yuk jadi yang pertama kali menilai!\",\"cookie\":\"Anda telah memberikan penilaian.\",\"afterVote\":\"Terima kasih telah menilai post ini :)\",\"notShowRating\":\"1\",\"social\":\"1\",\"feedback\":\"1\",\"cookieDisable\":\"1\",\"emptyFeedback\":\"Please insert your feedback in the box above!\",\"hoverTexts\":\"2\",\"preventAccidental\":\"2\",\"grecaptcha\":\"1\",\"siteKey\":\"\",\"votingPriv\":\"1\",\"loggedIn\":\"\",\"positiveThreshold\":\"2\",\"ajaxLoad\":\"1\",\"nonce\":\"9adb6e4ebb\"};</script>\\n<script id=\\'wp-util-js-extra\\'>var _wpUtilSettings={\"ajax\":{\"url\":\"\\\\/wp-admin\\\\/admin-ajax.php\"}};</script>\\n<script id=\\'wp-dark-mode-frontend-js-extra\\'>var wpDarkMode={\"config\":{\"brightness\":100,\"contrast\":90,\"sepia\":10},\"enable_preset\":\"\",\"customize_colors\":\"\",\"colors\":{\"bg\":\"#000\",\"text\":\"#dfdedb\",\"link\":\"#e58c17\"},\"enable_frontend\":\"1\",\"enable_backend\":\"\",\"enable_os_mode\":\"1\",\"excludes\":\"rs-fullwidth-wrap,.mejs-container\",\"includes\":\"\",\"is_excluded\":\"\",\"remember_darkmode\":\"\",\"default_mode\":\"1\",\"keyboard_shortcut\":\"1\",\"images\":\"\",\"videos\":\"\",\"is_pro_active\":\"\",\"is_ultimate_active\":\"\",\"pro_version\":\"0\",\"is_elementor_editor\":\"\",\"is_block_editor\":\"\",\"frontend_mode\":\"\"};</script>\\n<script id=\\'neve-script-js-extra\\'>var NeveProperties={\"ajaxurl\":\"https:\\\\/\\\\/warstek.com\\\\/wp-admin\\\\/admin-ajax.php\",\"nonce\":\"ceb08bac55\",\"isRTL\":\"\",\"isCustomize\":\"\"};</script>\\n<script id=\\'um_scripts-js-extra\\'>var um_scripts={\"max_upload_size\":\"134217728\",\"nonce\":\"72f098fd80\"};</script>\\n<script id=\\'sharing-js-js-extra\\'>var sharing_js_options={\"lang\":\"en\",\"counts\":\"1\",\"is_stats_active\":\"1\"};</script>\\n<script async src=\\'https://propsid.b-cdn.net/gpt/warstek.js\\'></script>\\n<script src=\\'//warstek.com/wp-content/cache/wpfc-minified/1pd75ehe/e4tew.js\\'></script>\\n<script>(function (){\\nwindow.wpDarkMode={\"config\":{\"brightness\":100,\"contrast\":90,\"sepia\":10},\"enable_preset\":false,\"customize_colors\":false,\"colors\":{\"bg\":\"#000\",\"text\":\"#dfdedb\",\"link\":\"#e58c17\"},\"enable_frontend\":true,\"enable_backend\":false,\"enable_os_mode\":true,\"excludes\":\"rs-fullwidth-wrap,.mejs-container\",\"includes\":\"\",\"is_excluded\":false,\"remember_darkmode\":false,\"default_mode\":true,\"keyboard_shortcut\":true,\"images\":\"\",\"videos\":\"\",\"is_pro_active\":false,\"is_ultimate_active\":false,\"pro_version\":0,\"is_elementor_editor\":false,\"is_block_editor\":false,\"frontend_mode\":false};\\nwindow.checkOsDarkMode=()=> {\\nif(!wpDarkMode.enable_os_mode||localStorage.getItem(\\'wp_dark_mode_active\\')){\\nreturn false;\\n}\\nconst darkMediaQuery=window.matchMedia(\\'(prefers-color-scheme: dark)\\');\\nif(darkMediaQuery.matches) return true;\\ntry {\\ndarkMediaQuery.addEventListener(\\'change\\', function (e){\\nconst newColorScheme=e.matches ? \\'dark\\':\\'light\\';\\nconst isDark=\\'dark\\'===newColorScheme;\\nreturn isDark;\\n});\\n} catch (e1){\\ntry {\\ndarkMediaQuery.addListener(function (e){\\nconst newColorScheme=e.matches ? \\'dark\\':\\'light\\';\\nconst isDark=\\'dark\\'===newColorScheme;\\nreturn isDark\\n});\\n} catch (e2){\\nconsole.error(e2);\\nreturn false;\\n}}\\nreturn false;\\n}\\nconst is_saved=localStorage.getItem(\\'wp_dark_mode_active\\');\\nconst isCustomColor=parseInt(\"\");\\nconst shouldDarkMode=is_saved==\\'1\\'||(!is_saved&&wpDarkMode.default_mode)||checkOsDarkMode();\\nif(shouldDarkMode){\\ndocument.querySelector(\\'html\\').classList.add(\\'wp-dark-mode-active\\');\\nconst isPerformanceMode=Boolean();\\nif(!isCustomColor&&!isPerformanceMode){\\nvar css=`body, div, section, header, article, main, aside{background-color: #2B2D2D !important;}`;\\nvar head=document.head||document.getElementsByTagName(\\'head\\')[0],\\nstyle=document.createElement(\\'style\\');\\nstyle.setAttribute(\\'id\\', \\'pre_css\\');\\nhead.appendChild(style);\\nstyle.type=\\'text/css\\';\\nif(style.styleSheet){\\nstyle.styleSheet.cssText=css;\\n}else{\\nstyle.appendChild(document.createTextNode(css));\\n}}\\n}})();</script>\\n<script>document.cookie=\\'quads_browser_width=\\'+screen.width;</script>\\n<script async src=\\'//ajax.googleapis.com/ajax/libs/jquery/1.4.2/jquery.min.js\\'></script>\\n<script async src=\\'//compass.adop.cc/assets/js/adop/adop.js?v=10\\'></script>\\n<script src=\\'https://compasscdn.adop.cc/js/adop_new_collapse_width100_0.0.1.js\\' data-id=\\'ADOP_V_c1RqTHa2x8\\' data-width=\\'336\\' data-height=\\'280\\' data-type=\\'re\\' data-zone=\\'29afe64a-216e-40c3-b40e-db77f972d773\\' data-fl=\\'Y\\' data-margin=\\'0,0,0,0\\' data-fl-width=\\'400\\' data-loc=\\'rt\\'></script>\\n<script async src=\\'//compass.adop.cc/assets/js/adop/adopJ.js?v=10\\'></script>\\n<script>;(function (){\\nif(\\'\\'!==`rs-fullwidth-wrap,.mejs-container`){\\nconst elements=document.querySelectorAll(`rs-fullwidth-wrap,.mejs-container`);\\nelements.forEach((element)=> {\\nelement.classList.add(\\'wp-dark-mode-ignore\\');\\nconst children=element.querySelectorAll(\\'*\\');\\nchildren.forEach((child)=> {\\nchild.classList.add(\\'wp-dark-mode-ignore\\');\\n});\\n});\\n}\\nif(\\'\\'!==``){\\nconst elements=document.querySelectorAll(``);\\nelements.forEach((element)=> {\\nelement.classList.add(\\'wp-dark-mode-include\\');\\nconst children=element.querySelectorAll(\\'*\\');\\nchildren.forEach((child)=> {\\nchild.classList.add(\\'wp-dark-mode-include\\');\\n})\\n});\\n}})();</script>\\n<script>;(function (){\\nwindow.wpDarkMode={\"config\":{\"brightness\":100,\"contrast\":90,\"sepia\":10},\"enable_preset\":false,\"customize_colors\":false,\"colors\":{\"bg\":\"#000\",\"text\":\"#dfdedb\",\"link\":\"#e58c17\"},\"enable_frontend\":true,\"enable_backend\":false,\"enable_os_mode\":true,\"excludes\":\"rs-fullwidth-wrap,.mejs-container\",\"includes\":\"\",\"is_excluded\":false,\"remember_darkmode\":false,\"default_mode\":true,\"keyboard_shortcut\":true,\"images\":\"\",\"videos\":\"\",\"is_pro_active\":false,\"is_ultimate_active\":false,\"pro_version\":0,\"is_elementor_editor\":false,\"is_block_editor\":false,\"frontend_mode\":false};\\nconst is_saved=localStorage.getItem(\\'wp_dark_mode_active\\');\\nconst shouldDarkMode=is_saved==\\'1\\'||(!is_saved&&wpDarkMode.default_mode)||checkOsDarkMode();\\nif(shouldDarkMode){\\nconst isCustomColor=parseInt(\"\");\\nconst isPerformanceMode=Boolean();\\nif(!isCustomColor&&!isPerformanceMode){\\nif(document.getElementById(\\'pre_css\\')){\\ndocument.getElementById(\\'pre_css\\').remove();\\n}\\nif(\\'\\'===``){\\nDarkMode.enable();\\n}}\\n}})();</script>\\n<script>window.WPCOM_sharing_counts={\"https:\\\\/\\\\/warstek.com\\\\/kabel-laut\\\\/\":53058};</script>\\n<script src=\\'//warstek.com/wp-content/cache/wpfc-minified/6ojeht00/e4tew.js\\'></script>\\n<script id=\\'wp-i18n-js-after\\'>wp.i18n.setLocaleData({ \\'text direction\\\\u0004ltr\\': [ \\'ltr\\' ] });</script>\\n<script src=\\'//warstek.com/wp-content/cache/wpfc-minified/8mnw8w79/dx2m4.js\\'></script>\\n<script id=\\'sharing-js-js-after\\'>var windowOpen;\\n(function (){\\nfunction matches(el, sel){\\nreturn !! (\\nel.matches&&el.matches(sel) ||\\nel.msMatchesSelector&&el.msMatchesSelector(sel)\\n);\\n}\\ndocument.body.addEventListener(\\'click\\', function(event){\\nif(! event.target){\\nreturn;\\n}\\nvar el;\\nif(matches(event.target, \\'a.share-facebook\\')){\\nel=event.target;\\n}else if(event.target.parentNode&&matches(event.target.parentNode, \\'a.share-facebook\\')){\\nel=event.target.parentNode;\\n}\\nif(el){\\nevent.preventDefault();\\nif(typeof windowOpen!==\\'undefined\\'){\\nwindowOpen.close();\\n}\\nwindowOpen=window.open(el.getAttribute(\\'href\\'), \\'wpcomfacebook\\', \\'menubar=1,resizable=1,width=600,height=400\\');\\nreturn false;\\n}});\\n})();\\nvar windowOpen;\\n(function (){\\nfunction matches(el, sel){\\nreturn !! (\\nel.matches&&el.matches(sel) ||\\nel.msMatchesSelector&&el.msMatchesSelector(sel)\\n);\\n}\\ndocument.body.addEventListener(\\'click\\', function(event){\\nif(! event.target){\\nreturn;\\n}\\nvar el;\\nif(matches(event.target, \\'a.share-twitter\\')){\\nel=event.target;\\n}else if(event.target.parentNode&&matches(event.target.parentNode, \\'a.share-twitter\\')){\\nel=event.target.parentNode;\\n}\\nif(el){\\nevent.preventDefault();\\nif(typeof windowOpen!==\\'undefined\\'){\\nwindowOpen.close();\\n}\\nwindowOpen=window.open(el.getAttribute(\\'href\\'), \\'wpcomtwitter\\', \\'menubar=1,resizable=1,width=600,height=350\\');\\nreturn false;\\n}});\\n})();\\nvar windowOpen;\\n(function (){\\nfunction matches(el, sel){\\nreturn !! (\\nel.matches&&el.matches(sel) ||\\nel.msMatchesSelector&&el.msMatchesSelector(sel)\\n);\\n}\\ndocument.body.addEventListener(\\'click\\', function(event){\\nif(! event.target){\\nreturn;\\n}\\nvar el;\\nif(matches(event.target, \\'a.share-telegram\\')){\\nel=event.target;\\n}else if(event.target.parentNode&&matches(event.target.parentNode, \\'a.share-telegram\\')){\\nel=event.target.parentNode;\\n}\\nif(el){\\nevent.preventDefault();\\nif(typeof windowOpen!==\\'undefined\\'){\\nwindowOpen.close();\\n}\\nwindowOpen=window.open(el.getAttribute(\\'href\\'), \\'wpcomtelegram\\', \\'menubar=1,resizable=1,width=450,height=450\\');\\nreturn false;\\n}});\\n})();</script>\\n<script defer src=\\'https://stats.wp.com/e-202142.js\\' defer></script>\\n<script>_stq=window._stq||[];\\n_stq.push([ \\'view\\', {v:\\'ext\\',j:\\'1:10.2\\',blog:\\'139897316\\',post:\\'53058\\',tz:\\'7\\',srv:\\'warstek.com\\'} ]);\\n_stq.push([ \\'clickTrackerInit\\', \\'139897316\\', \\'53058\\' ]);</script>\\n<script>document.addEventListener(\\'DOMContentLoaded\\',function(){\\njQuery(window).on(\\'load\\', function(){\\njQuery(\\'input[name=\"um_request\"]\\').val(\\'\\');\\n});});</script>\\n</body>\\n</html><!-- WP Fastest Cache file was created in 1.5774228572845 seconds, on 21-10-21 8:13:04 -->'"
            ]
          },
          "metadata": {},
          "execution_count": 3
        }
      ]
    },
    {
      "cell_type": "code",
      "metadata": {
        "colab": {
          "base_uri": "https://localhost:8080/",
          "height": 35
        },
        "id": "4PBxcJMTQSIr",
        "outputId": "35c75418-9c0d-471e-fcd1-998ff0e05984"
      },
      "source": [
        "# Mengubah Encoding menjadi utf-8 | Jika tidak dikonversi ke utf-8 untuk karakter khusus \n",
        "# seperti \",'/- dll akan menjadi karakter yang sulit dipahami\n",
        "result.encoding = result.apparent_encoding\n",
        "result.encoding"
      ],
      "id": "4PBxcJMTQSIr",
      "execution_count": null,
      "outputs": [
        {
          "output_type": "execute_result",
          "data": {
            "application/vnd.google.colaboratory.intrinsic+json": {
              "type": "string"
            },
            "text/plain": [
              "'utf-8'"
            ]
          },
          "metadata": {},
          "execution_count": 4
        }
      ]
    },
    {
      "cell_type": "code",
      "metadata": {
        "id": "rxX4v4Rs8vQ7"
      },
      "source": [
        "wp = BeautifulSoup(result.text, \"html.parser\")"
      ],
      "id": "rxX4v4Rs8vQ7",
      "execution_count": null,
      "outputs": []
    },
    {
      "cell_type": "code",
      "metadata": {
        "colab": {
          "base_uri": "https://localhost:8080/"
        },
        "id": "LNAkCy6VEHra",
        "outputId": "2e97ca61-0d5d-4602-f652-03f1ce21dbb5"
      },
      "source": [
        "# Mengambil bagian html dengan tag p paling awal (paragraph)\n",
        "wp.find(\"p\")"
      ],
      "id": "LNAkCy6VEHra",
      "execution_count": null,
      "outputs": [
        {
          "output_type": "execute_result",
          "data": {
            "text/plain": [
              "<p>Sains dan Teknologi yang Seru dan Menyenangkan</p>"
            ]
          },
          "metadata": {},
          "execution_count": 6
        }
      ]
    },
    {
      "cell_type": "code",
      "metadata": {
        "colab": {
          "base_uri": "https://localhost:8080/",
          "height": 35
        },
        "id": "NSAsJ6F_EMnc",
        "outputId": "4f23bfbf-2f8f-46b6-f599-a803fc3ad2f9"
      },
      "source": [
        "# Mengambil bagian html dengan tag p paling awal, tapi hanya value-nya saja.\n",
        "wp.find(\"p\").string"
      ],
      "id": "NSAsJ6F_EMnc",
      "execution_count": null,
      "outputs": [
        {
          "output_type": "execute_result",
          "data": {
            "application/vnd.google.colaboratory.intrinsic+json": {
              "type": "string"
            },
            "text/plain": [
              "'Sains dan Teknologi yang Seru dan Menyenangkan'"
            ]
          },
          "metadata": {},
          "execution_count": 7
        }
      ]
    },
    {
      "cell_type": "code",
      "metadata": {
        "colab": {
          "base_uri": "https://localhost:8080/",
          "height": 35
        },
        "id": "MZiW6vlpuyz5",
        "outputId": "4c4e4d68-4edb-41e3-ece3-699a59d29661"
      },
      "source": [
        "wp.find('p').string"
      ],
      "id": "MZiW6vlpuyz5",
      "execution_count": null,
      "outputs": [
        {
          "output_type": "execute_result",
          "data": {
            "application/vnd.google.colaboratory.intrinsic+json": {
              "type": "string"
            },
            "text/plain": [
              "'Sains dan Teknologi yang Seru dan Menyenangkan'"
            ]
          },
          "metadata": {},
          "execution_count": 9
        }
      ]
    },
    {
      "cell_type": "code",
      "metadata": {
        "colab": {
          "base_uri": "https://localhost:8080/"
        },
        "id": "P1_uWk_e-MWD",
        "outputId": "effb7b4f-a90e-480f-88a0-69863feeeeb7"
      },
      "source": [
        "# Mengambil bagian html dengan tag p (secara keseluruhan)\n",
        "wp.find_all(\"p\")"
      ],
      "id": "P1_uWk_e-MWD",
      "execution_count": null,
      "outputs": [
        {
          "output_type": "execute_result",
          "data": {
            "text/plain": [
              "[<p>Sains dan Teknologi yang Seru dan Menyenangkan</p>,\n",
              " <p>Pada hari Minggu lalu (19 September 2021), terjadi gangguan jaringan internet pada Telkomsel dan Indihome. Gangguan tersebut menyebabkan penurunan kualitas layanan TelkomGroup baik <em>fixed</em> maupun <em>mobile broadband</em> di beberapa wilayah Indonesia. Di masa pandemi yang menuntut orang untuk berada di rumah seperti ini, gangguan internet tentu menjadi masalah besar. Berbagai kegiatan penting seperti Seleksi Kompetensi Dasar (SKD) CPNS mengalami penundaan. Netizen pun banyak berkomentar negatif terkait hal ini. Saat artikel ini dirilis, gangguan tersebut mungkin belum benar-benar terselesaikan.</p>,\n",
              " <p>Gangguan tersebut disebabkan oleh masalah pada sistem komunikasi kabel laut JaSuKa (Jawa, Sumatera dan Kalimantan) ruas Batam-Pontianak. Telkom memperkirakan proses perbaikan kabel laut yang terganggu akan berlangsung sekitar sebulan. Meski begitu, Telkom mencoba berbagai alternatif agar jaringan internet tetap dapat berjalan sebaik mungkin, meski tentu tidak sebaik ketika kondisi normal. </p>,\n",
              " <p>Bagaimana pun juga, gangguan ini membuat banyak orang bertanya-tanya, “Apa hubungannya kabel di laut dengan internet?”, “Kenapa jaringan internet itu malah lewat kabel laut?”, “Kenapa nggak pakai satelit aja?”, “Kenapa jaringannya tidak segera membaik?”, dan lainnya. Artikel singkat ini akan mencoba membahas sedikit terkait hal itu. </p>,\n",
              " <p>Internet sering diasosiasikan dengan kata <em>cloud</em> atau <em>wireless </em>sehingga kita merasa bahwa internet itu dibawa oleh udara di sekitar kita. Ketika kita mendengar kata “jaringan internet”, yang terbayang mungkin gelombang antara menara pemancar di Bumi dengan satelit di angkasa. Itu tidak sepenuhnya salah. Internet memang ada di sekitar kita dan satelit memegang peran penting untuk itu. Namun, persepsi itu membuat kita melupakan bagian lain dari internet. Bagian terpenting yang sangat vital namun tidak akan pernah kita lihat, yaitu kabel laut. Sebelumnya, perlu kita ketahui bersama bahwa:</p>,\n",
              " <p>99% Komunikasi Data Internasional itu Melalui Kabel Laut</p>,\n",
              " <p>Itu adalah kalimat yang sudah banyak disampaikan di berbagai media massa, namun sepertinya masih belum banyak diketahui masyarakat umum. Lebih detailnya lagi, hanya sekitar 300 kabel bawah laut yang bertanggung jawab terhadap 99% lalu lintas komunikasi data internasional. </p>,\n",
              " <p>Gambar di atas merupakan jaringan kabel laut di dunia yang dapat diakses di <a href=\"https://www.submarinecablemap.com/\">www.submarinecablemap.com</a>. Di sana, kita tidak hanya bisa melihat jaringan kabel secara keseluruhan, namun juga melihat lebih detail terkait salah satu kabel yang ada. Dari gambar di atas, jaringannya memang terlihat sangat banyak dan sangat rumit. Namun, kita perlu ingat bahwa komunikasi yang senantiasa terjadi di internet itu juga sangat banyak dan sangat rumit, jauh lebih banyak dan lebih rumit dari yang bisa kita bayangkan. </p>,\n",
              " <p>Ketika kita mengirim satu chat ke teman di samping kita misalnya. Bisa jadi chat kita akan menempuh perjalanan yang amat sangat jauh. Mulai dari puluhan kilometer jalur darat secara <em>wireless</em>, kemudian melalui ribuan kilometer kabel laut, menuju ke <em>data center </em>di China atau Amerika, lalu kembali lagi ke Indonesia melalui kabel laut, dan sampai ke teman di samping kita  secara <em>wireless</em>. Itu salah satu skenario yang mungkin terjadi, bisa saja jauh lebih pendek atau jauh lebih panjang. Sebagai mahasiswa Teknik Elektro yang pernah sedikit mendalami internet, yang bisa penulis katakan terkait internet adalah <em>“It’s never been simple”</em></p>,\n",
              " <p>Ketika mendengar bahwa 99% internet itu melewati kabel laut, apa bayangan kita terkait bentuk fisik dari kabel laut itu? Ukurannya mungkin memang sangat bervariasi, namun gambar berikut bisa memberikan gambaran bahwa ukuran kabelnya bisa jadi hanya sekecil ini</p>,\n",
              " <p>Hampir seluruh luasannya digunakan sebagai pelindung. Bagian yang mengalirkan informasi adalah fiber optik yang ukurannya tidak berbeda jauh dari sehelai rambut kita. Meski sangat kecil, dia mampu membawa informasi dengan sangat cepat, mendekati kecepatan cahaya. Itu karena informasi dibawa bukan sebagai sinyal listrik seperti kabel di rumah, namun sebagai sinyal cahaya. Kapasitasnya juga sangat besar, satu helai saja bisa memiliki kapasitas 100 gigabit per sekon. [Baca: <a href=\"https://warstek.com/ftth/\">Dasar Komunikasi Fiber Optik dan FTTH (Fiber To The Home)</a>]</p>,\n",
              " <p>Dengan itu semua, kabel laut jauh lebih cepat daripada satelit. Itu karena satelit yang biasanya digunakan untuk internet berada puluhan ribu kilometer di atas kita. Sementara itu, jalur melalui laut tidak akan lebih dari belasan ribu kilometer saja. Kapasitas transfer data dari satelit juga jauh lebih sulit untuk ditingkatkan dibanding kabel laut. Maka, meski keduanya memanfaatkan kecepatan cahaya, secara umum kabel laut tetap jauh lebih cepat daripada satelit. (Baca: <a href=\"https://warstek.com/starlink/\">SpaceX Luncurkan 60 Satelit Penyedia Internet Starlink</a>)</p>,\n",
              " <p>Namun, kabel laut juga memiliki banyak masalah. Banyak pihak yang menyebutkan bahwa kabel laut yang menjadi tulang punggung internet kita ini sebenarnya sangatlah rentan. Kabel laut dapat mengalami masalah akibat faktor alam, namun ini hanya mencakup 14 persen saja.  <em>Association of Sea Cable Communication Systems</em> menyebutkan bahwa sebanyak 47% gangguan kabel laut disebabkan oleh jangkar kapal. Sementara itu, 28% disebabkan oleh sektor perikanan yang menggunakan FAD (<em>fish aggregating devices</em>). Di Indonesia pun, jangkar juga menjadi penyebab gangguan kabel terbesar. Hal itu mengingat lautan Indonesia juga sering dilewati banyak kapal. </p>,\n",
              " <p>Kabel laut yang ada di negeri kita juga cukup banyak. Hal itu dapat dilihat pada Gambar berikut yang juga didapatkan dari  <a href=\"https://www.submarinecablemap.com\">www.submarinecablemap.com</a>. Pada Gambar ini, jaringan kabel JaSuKa yang dimiliki Telkom Indonesia terlihat berwarna biru tua dan menghubungkan berbagai titik di Jawa, Sumatera, dan Kalimantan. JaSuKa memiliki total panjang hampir 11 ribu kilometer dan disebut menjadi salah satu yang terpanjang di dunia. </p>,\n",
              " <p>Kabel laut memang jauh lebih murah daripada satelit, namun tetap saja tidak mudah dan tidak sederhana. Baik perencanaan maupun pengelolaannya memerlukan banyak pengorbanan. Ini wajar saja mengingat dunia bawah laut sangatlah kompleks dan penuh dengan berbagai hal yang tak terduga. Perlu diketahui pula bahwa setiap beberapa puluh kilometer, perlu terdapat <em>repeater </em>untuk menguatkan kembali sinyal cahaya yang telah melemah. Melihat kompleksitas itu, wajar saja jika perbaikan gangguan tidak bisa selesai dalam satu malam. </p>,\n",
              " <p>Meski demikian, sistem yang besar umumnya memiliki berbagai alternatif jika sistem utamanya gagal. Hal ini juga kita dengar dari pihak Telkom, bahwa jalur backup dan alternatif telah diaktifkan untuk destinasi utama tertentu. Berbagai hal teknis yang tidak akan dipahami masyarakat umum pasti juga telah dilakukan. </p>,\n",
              " <p>Bagaimana pun juga, gangguan ini menunjukan pada kita semua bahwa sistem internet di Indonesia sebenarnya masih belum kuat dan sangat rentan, apalagi jika kita meninjau Indonesia Timur. Di satu sisi, masyarakat umum perlu menyadari bahwa sistem internet secara fisiknya memang sangat kompleks dan sangat rentan terhadap berbagai gangguan serta tidak bisa diperbaiki dengan mudah. Di sisi lain, berbagai pihak yang berpartisipasi langsung di dalamnya perlu terus melakukan evaluasi dan pengembangan agar sistem internet di negeri kita dapat menjadi lebih handal. (Baca: <a href=\"https://warstek.com/internet/\">Analisis terhadap Kualitas Jaringan Internet Indonesia yang Memburuk</a>)</p>,\n",
              " <p class=\"rmp-heading rmp-heading--title\">        Setelah selesai membaca, yuk berikan artikel ini penilaian!      </p>,\n",
              " <p class=\"rmp-heading rmp-heading--subtitle\">        Klik berdasarkan jumlah bintang untuk menilai!      </p>,\n",
              " <p class=\"rmp-rating-widget__hover-text js-rmp-hover-text\"></p>,\n",
              " <p class=\"rmp-rating-widget__results js-rmp-results\">      Rata-rata nilai <span class=\"rmp-rating-widget__results__rating js-rmp-avg-rating\">5</span> / 5. Banyaknya vote: <span class=\"rmp-rating-widget__results__votes js-rmp-vote-count\">3</span> </p>,\n",
              " <p class=\"rmp-rating-widget__not-rated js-rmp-not-rated rmp-rating-widget__not-rated--hidden\">      Belum ada yang menilai! Yuk jadi yang pertama kali menilai!    </p>,\n",
              " <p class=\"rmp-rating-widget__msg js-rmp-msg\">\n",
              " </p>,\n",
              " <p></p>,\n",
              " <p></p>,\n",
              " <p class=\"comment-notes\"><span id=\"email-notes\">Alamat email Anda tidak akan dipublikasikan.</span> Ruas yang wajib ditandai <span class=\"required\">*</span></p>,\n",
              " <p class=\"comment-form-comment\"><label for=\"comment\">Komentar</label> <textarea cols=\"45\" id=\"comment\" maxlength=\"65525\" name=\"comment\" required=\"required\" rows=\"8\"></textarea></p>,\n",
              " <p class=\"comment-form-author\"><label for=\"author\">Nama <span class=\"required\">*</span></label> <input id=\"author\" maxlength=\"245\" name=\"author\" required=\"required\" size=\"30\" type=\"text\" value=\"\"/></p>,\n",
              " <p class=\"comment-form-email\"><label for=\"email\">Email <span class=\"required\">*</span></label> <input aria-describedby=\"email-notes\" id=\"email\" maxlength=\"100\" name=\"email\" required=\"required\" size=\"30\" type=\"text\" value=\"\"/></p>,\n",
              " <p class=\"comment-form-url\"><label for=\"url\">Situs Web</label> <input id=\"url\" maxlength=\"200\" name=\"url\" size=\"30\" type=\"text\" value=\"\"/></p>,\n",
              " <p class=\"form-submit\"><input class=\"submit\" id=\"submit\" name=\"submit\" type=\"submit\" value=\"Kirim Komentar\"/> <input id=\"comment_post_ID\" name=\"comment_post_ID\" type=\"hidden\" value=\"53058\"/>\n",
              " <input id=\"comment_parent\" name=\"comment_parent\" type=\"hidden\" value=\"0\"/>\n",
              " </p>,\n",
              " <p class=\"widget-title\">Cari Artikel</p>,\n",
              " <p class=\"widget-title\">Langganan via Email</p>,\n",
              " <p>Masukkan Email Anda:</p>,\n",
              " <p><input name=\"email\" style=\"width:180px\" type=\"text\"/></p>,\n",
              " <p class=\"widget-title\">Artikel Pilihan Editor</p>,\n",
              " <p> Berdasarkan DJ International Journal of Medical Research, obat merupakan hal pertama yang di pertimbangkan saat suatu penyakit menyerang. Dari zaman … </p>,\n",
              " <p> BepiColombo sedang di perjalanan sebelum mengorbit Merkurius tahun 2025. Bertemu dengan Merkurius minggu lalu, wahana buatan Eropa dan Jepang ini … </p>,\n",
              " <p> Komet Komet adalah benda langit yang mengelilingi matahari dengan garis edar berbentuk lonjong, parabolis, atau hiperbolis. Istilah “komet” berasal dari bahasa Yunani, kometes (κομήτης) yang berarti “rambut panjang”. Istilah lainnya adalah bintang berekor yang tidak … </p>,\n",
              " <p class=\"widget-title\">Artikel Terpopuler</p>,\n",
              " <p>\n",
              " <a class=\"rmp-tr-posts-widget__link\" href=\"https://warstek.com/bepicolombo/\">BepiColombo: Misi Satelit ke Planet Neraka, Merkurius</a>\n",
              " </p>,\n",
              " <p>\n",
              " <a class=\"rmp-tr-posts-widget__link\" href=\"https://warstek.com/sebelum-big-bang/\">Ada Apa Sebelum Big Bang? Ini Jawaban Peraih Nobel Fisika, Roger Penrose</a>\n",
              " </p>,\n",
              " <p>\n",
              " <a class=\"rmp-tr-posts-widget__link\" href=\"https://warstek.com/manajemen-bencana/\">Manajemen Bencana Dalam Perspektif Kesehatan Lingkungan dan Masyarakat</a>\n",
              " </p>,\n",
              " <p>\n",
              " <a class=\"rmp-tr-posts-widget__link\" href=\"https://warstek.com/bioinformatika-apa-sih-bioinformatika-itu/\">Bioinformatika, apa sih Bioinformatika itu?</a>\n",
              " </p>,\n",
              " <p>\n",
              " <a class=\"rmp-tr-posts-widget__link\" href=\"https://warstek.com/pancasila/\">Pancasila:  Pengertian, Sejarah, Butir, Nilai, dan Dasar Pandangan Hidup [Lengkap + Contoh Soal]</a>\n",
              " </p>,\n",
              " <p class=\"widget-title\">Artikel yang Terkait</p>,\n",
              " <p>Didesain dengan hati | Copyright Warstek.com 2021 </p>,\n",
              " <p><img alt=\"blank\" data-wpfc-original-src=\"http://warstek.com/wp-content/uploads/2017/12/footer-logo-copy-min.png\" height=\"50\" loading=\"lazy\" onload=\"Wpfcll.r(this,true);\" src=\"https://warstek.com/wp-content/plugins/wp-fastest-cache-premium/pro/images/blank.gif\" width=\"163\"/></p>,\n",
              " <p class=\"widget-title\">Kontak</p>,\n",
              " <p>Address: Jl. Sukolilo Baru gg. VI no 10 | Surabaya | Indonesia<br> Phone: (+62)87750118140<br> Email: warstek.jurnal@gmail.com<br/> Office Hour: 08.00 WIB  – 15.00 WIB (Monday – Friday)</br></br></p>]"
            ]
          },
          "metadata": {},
          "execution_count": 8
        }
      ]
    },
    {
      "cell_type": "code",
      "metadata": {
        "colab": {
          "base_uri": "https://localhost:8080/"
        },
        "id": "vOj-fv1ZDdCo",
        "outputId": "0aed455c-f8c2-4c3d-dda3-9dc0304e72c0"
      },
      "source": [
        "full_text = []\n",
        "for paragraf in wp.find_all('p'):\n",
        "  full_text.append(paragraf.string)\n",
        "\n",
        "full_text"
      ],
      "id": "vOj-fv1ZDdCo",
      "execution_count": null,
      "outputs": [
        {
          "output_type": "execute_result",
          "data": {
            "text/plain": [
              "['Sains dan Teknologi yang Seru dan Menyenangkan',\n",
              " None,\n",
              " 'Gangguan tersebut disebabkan oleh masalah pada sistem komunikasi kabel laut JaSuKa (Jawa, Sumatera dan Kalimantan) ruas Batam-Pontianak. Telkom memperkirakan proses perbaikan kabel laut yang terganggu akan berlangsung sekitar sebulan. Meski begitu, Telkom mencoba berbagai alternatif agar jaringan internet tetap dapat berjalan sebaik mungkin, meski tentu tidak sebaik ketika kondisi normal. ',\n",
              " 'Bagaimana pun juga, gangguan ini membuat banyak orang bertanya-tanya, “Apa hubungannya kabel di laut dengan internet?”, “Kenapa jaringan internet itu malah lewat kabel laut?”, “Kenapa nggak pakai satelit aja?”, “Kenapa jaringannya tidak segera membaik?”, dan lainnya. Artikel singkat ini akan mencoba membahas sedikit terkait hal itu. ',\n",
              " None,\n",
              " '99% Komunikasi Data Internasional itu Melalui Kabel Laut',\n",
              " 'Itu adalah kalimat yang sudah banyak disampaikan di berbagai media massa, namun sepertinya masih belum banyak diketahui masyarakat umum. Lebih detailnya lagi, hanya sekitar 300 kabel bawah laut yang bertanggung jawab terhadap 99% lalu lintas komunikasi data internasional. ',\n",
              " None,\n",
              " None,\n",
              " 'Ketika mendengar bahwa 99% internet itu melewati kabel laut, apa bayangan kita terkait bentuk fisik dari kabel laut itu? Ukurannya mungkin memang sangat bervariasi, namun gambar berikut bisa memberikan gambaran bahwa ukuran kabelnya bisa jadi hanya sekecil ini',\n",
              " None,\n",
              " None,\n",
              " None,\n",
              " None,\n",
              " None,\n",
              " 'Meski demikian, sistem yang besar umumnya memiliki berbagai alternatif jika sistem utamanya gagal. Hal ini juga kita dengar dari pihak Telkom, bahwa jalur backup dan alternatif telah diaktifkan untuk destinasi utama tertentu. Berbagai hal teknis yang tidak akan dipahami masyarakat umum pasti juga telah dilakukan. ',\n",
              " None,\n",
              " '        Setelah selesai membaca, yuk berikan artikel ini penilaian!      ',\n",
              " '        Klik berdasarkan jumlah bintang untuk menilai!      ',\n",
              " None,\n",
              " None,\n",
              " '      Belum ada yang menilai! Yuk jadi yang pertama kali menilai!    ',\n",
              " '\\n',\n",
              " None,\n",
              " None,\n",
              " None,\n",
              " None,\n",
              " None,\n",
              " None,\n",
              " None,\n",
              " None,\n",
              " 'Cari Artikel',\n",
              " 'Langganan via Email',\n",
              " 'Masukkan Email Anda:',\n",
              " None,\n",
              " 'Artikel Pilihan Editor',\n",
              " ' Berdasarkan DJ International Journal of Medical Research, obat merupakan hal pertama yang di pertimbangkan saat suatu penyakit menyerang. Dari zaman … ',\n",
              " ' BepiColombo sedang di perjalanan sebelum mengorbit Merkurius tahun 2025. Bertemu dengan Merkurius minggu lalu, wahana buatan Eropa dan Jepang ini … ',\n",
              " ' Komet Komet\\xa0adalah benda\\xa0langit\\xa0yang mengelilingi\\xa0matahari\\xa0dengan\\xa0garis edar\\xa0berbentuk\\xa0lonjong,\\xa0parabolis, atau\\xa0hiperbolis. Istilah “komet” berasal dari\\xa0bahasa Yunani,\\xa0kometes\\xa0(κομήτης) yang berarti “rambut panjang”.\\xa0Istilah lainnya adalah\\xa0bintang berekor yang tidak … ',\n",
              " 'Artikel Terpopuler',\n",
              " None,\n",
              " None,\n",
              " None,\n",
              " None,\n",
              " None,\n",
              " 'Artikel yang Terkait',\n",
              " 'Didesain dengan hati | Copyright Warstek.com 2021 ',\n",
              " None,\n",
              " 'Kontak',\n",
              " None]"
            ]
          },
          "metadata": {},
          "execution_count": 10
        }
      ]
    },
    {
      "cell_type": "code",
      "metadata": {
        "colab": {
          "base_uri": "https://localhost:8080/"
        },
        "id": "B-SE-CBOGGsi",
        "outputId": "62606d7a-eb3f-4384-d32b-8ce44bcdfb69"
      },
      "source": [
        "# Menghapus None dari list full_text sekaligus membersihkan elemen list dari whitespace menggunakan fungsi strip()\n",
        "# List Comprehension\n",
        "full_text = [paragraf.strip() for paragraf in full_text if paragraf != None]\n",
        "full_text"
      ],
      "id": "B-SE-CBOGGsi",
      "execution_count": null,
      "outputs": [
        {
          "output_type": "execute_result",
          "data": {
            "text/plain": [
              "['Sains dan Teknologi yang Seru dan Menyenangkan',\n",
              " 'Gangguan tersebut disebabkan oleh masalah pada sistem komunikasi kabel laut JaSuKa (Jawa, Sumatera dan Kalimantan) ruas Batam-Pontianak. Telkom memperkirakan proses perbaikan kabel laut yang terganggu akan berlangsung sekitar sebulan. Meski begitu, Telkom mencoba berbagai alternatif agar jaringan internet tetap dapat berjalan sebaik mungkin, meski tentu tidak sebaik ketika kondisi normal.',\n",
              " 'Bagaimana pun juga, gangguan ini membuat banyak orang bertanya-tanya, “Apa hubungannya kabel di laut dengan internet?”, “Kenapa jaringan internet itu malah lewat kabel laut?”, “Kenapa nggak pakai satelit aja?”, “Kenapa jaringannya tidak segera membaik?”, dan lainnya. Artikel singkat ini akan mencoba membahas sedikit terkait hal itu.',\n",
              " '99% Komunikasi Data Internasional itu Melalui Kabel Laut',\n",
              " 'Itu adalah kalimat yang sudah banyak disampaikan di berbagai media massa, namun sepertinya masih belum banyak diketahui masyarakat umum. Lebih detailnya lagi, hanya sekitar 300 kabel bawah laut yang bertanggung jawab terhadap 99% lalu lintas komunikasi data internasional.',\n",
              " 'Ketika mendengar bahwa 99% internet itu melewati kabel laut, apa bayangan kita terkait bentuk fisik dari kabel laut itu? Ukurannya mungkin memang sangat bervariasi, namun gambar berikut bisa memberikan gambaran bahwa ukuran kabelnya bisa jadi hanya sekecil ini',\n",
              " 'Meski demikian, sistem yang besar umumnya memiliki berbagai alternatif jika sistem utamanya gagal. Hal ini juga kita dengar dari pihak Telkom, bahwa jalur backup dan alternatif telah diaktifkan untuk destinasi utama tertentu. Berbagai hal teknis yang tidak akan dipahami masyarakat umum pasti juga telah dilakukan.',\n",
              " 'Setelah selesai membaca, yuk berikan artikel ini penilaian!',\n",
              " 'Klik berdasarkan jumlah bintang untuk menilai!',\n",
              " 'Belum ada yang menilai! Yuk jadi yang pertama kali menilai!',\n",
              " '',\n",
              " 'Cari Artikel',\n",
              " 'Langganan via Email',\n",
              " 'Masukkan Email Anda:',\n",
              " 'Artikel Pilihan Editor',\n",
              " 'Berdasarkan DJ International Journal of Medical Research, obat merupakan hal pertama yang di pertimbangkan saat suatu penyakit menyerang. Dari zaman …',\n",
              " 'BepiColombo sedang di perjalanan sebelum mengorbit Merkurius tahun 2025. Bertemu dengan Merkurius minggu lalu, wahana buatan Eropa dan Jepang ini …',\n",
              " 'Komet Komet\\xa0adalah benda\\xa0langit\\xa0yang mengelilingi\\xa0matahari\\xa0dengan\\xa0garis edar\\xa0berbentuk\\xa0lonjong,\\xa0parabolis, atau\\xa0hiperbolis. Istilah “komet” berasal dari\\xa0bahasa Yunani,\\xa0kometes\\xa0(κομήτης) yang berarti “rambut panjang”.\\xa0Istilah lainnya adalah\\xa0bintang berekor yang tidak …',\n",
              " 'Artikel Terpopuler',\n",
              " 'Artikel yang Terkait',\n",
              " 'Didesain dengan hati | Copyright Warstek.com 2021',\n",
              " 'Kontak']"
            ]
          },
          "metadata": {},
          "execution_count": 11
        }
      ]
    },
    {
      "cell_type": "code",
      "metadata": {
        "colab": {
          "base_uri": "https://localhost:8080/",
          "height": 238
        },
        "id": "xXqugg_jGojg",
        "outputId": "e3de8f3b-291d-4572-e525-321b6efda65e"
      },
      "source": [
        "full_text = ' '.join(full_text)\n",
        "full_text"
      ],
      "id": "xXqugg_jGojg",
      "execution_count": null,
      "outputs": [
        {
          "output_type": "execute_result",
          "data": {
            "application/vnd.google.colaboratory.intrinsic+json": {
              "type": "string"
            },
            "text/plain": [
              "'Sains dan Teknologi yang Seru dan Menyenangkan Gangguan tersebut disebabkan oleh masalah pada sistem komunikasi kabel laut JaSuKa (Jawa, Sumatera dan Kalimantan) ruas Batam-Pontianak. Telkom memperkirakan proses perbaikan kabel laut yang terganggu akan berlangsung sekitar sebulan. Meski begitu, Telkom mencoba berbagai alternatif agar jaringan internet tetap dapat berjalan sebaik mungkin, meski tentu tidak sebaik ketika kondisi normal. Bagaimana pun juga, gangguan ini membuat banyak orang bertanya-tanya, “Apa hubungannya kabel di laut dengan internet?”, “Kenapa jaringan internet itu malah lewat kabel laut?”, “Kenapa nggak pakai satelit aja?”, “Kenapa jaringannya tidak segera membaik?”, dan lainnya. Artikel singkat ini akan mencoba membahas sedikit terkait hal itu. 99% Komunikasi Data Internasional itu Melalui Kabel Laut Itu adalah kalimat yang sudah banyak disampaikan di berbagai media massa, namun sepertinya masih belum banyak diketahui masyarakat umum. Lebih detailnya lagi, hanya sekitar 300 kabel bawah laut yang bertanggung jawab terhadap 99% lalu lintas komunikasi data internasional. Ketika mendengar bahwa 99% internet itu melewati kabel laut, apa bayangan kita terkait bentuk fisik dari kabel laut itu? Ukurannya mungkin memang sangat bervariasi, namun gambar berikut bisa memberikan gambaran bahwa ukuran kabelnya bisa jadi hanya sekecil ini Meski demikian, sistem yang besar umumnya memiliki berbagai alternatif jika sistem utamanya gagal. Hal ini juga kita dengar dari pihak Telkom, bahwa jalur backup dan alternatif telah diaktifkan untuk destinasi utama tertentu. Berbagai hal teknis yang tidak akan dipahami masyarakat umum pasti juga telah dilakukan. Setelah selesai membaca, yuk berikan artikel ini penilaian! Klik berdasarkan jumlah bintang untuk menilai! Belum ada yang menilai! Yuk jadi yang pertama kali menilai!  Cari Artikel Langganan via Email Masukkan Email Anda: Artikel Pilihan Editor Berdasarkan DJ International Journal of Medical Research, obat merupakan hal pertama yang di pertimbangkan saat suatu penyakit menyerang. Dari zaman … BepiColombo sedang di perjalanan sebelum mengorbit Merkurius tahun 2025. Bertemu dengan Merkurius minggu lalu, wahana buatan Eropa dan Jepang ini … Komet Komet\\xa0adalah benda\\xa0langit\\xa0yang mengelilingi\\xa0matahari\\xa0dengan\\xa0garis edar\\xa0berbentuk\\xa0lonjong,\\xa0parabolis, atau\\xa0hiperbolis. Istilah “komet” berasal dari\\xa0bahasa Yunani,\\xa0kometes\\xa0(κομήτης) yang berarti “rambut panjang”.\\xa0Istilah lainnya adalah\\xa0bintang berekor yang tidak … Artikel Terpopuler Artikel yang Terkait Didesain dengan hati | Copyright Warstek.com 2021 Kontak'"
            ]
          },
          "metadata": {},
          "execution_count": 12
        }
      ]
    },
    {
      "cell_type": "markdown",
      "metadata": {
        "id": "sEypVV3KS3Lj"
      },
      "source": [
        "---"
      ],
      "id": "sEypVV3KS3Lj"
    },
    {
      "cell_type": "code",
      "metadata": {
        "id": "TmDcEBQ3qCOj"
      },
      "source": [
        "# NLTK, library NLP di bahasa pemrograman python\n",
        "import nltk\n",
        "\n",
        "# Regex (re), library untuk mengenali dan memanipulasi pola text\n",
        "import re\n",
        "\n",
        "from nltk.corpus import stopwords\n",
        "from nltk.stem import PorterStemmer\n",
        "from nltk.stem import WordNetLemmatizer\n",
        "from nltk import word_tokenize\n",
        "import requests\n"
      ],
      "id": "TmDcEBQ3qCOj",
      "execution_count": null,
      "outputs": []
    },
    {
      "cell_type": "code",
      "metadata": {
        "colab": {
          "base_uri": "https://localhost:8080/"
        },
        "id": "9W5Kzmqtn4rV",
        "outputId": "ca8d315f-51cc-48e0-eff3-7feac6c53cc2"
      },
      "source": [
        "nltk.download('punkt')\n",
        "nltk.download('stopwords')\n",
        "nltk.download('wordnet')"
      ],
      "id": "9W5Kzmqtn4rV",
      "execution_count": null,
      "outputs": [
        {
          "output_type": "stream",
          "name": "stdout",
          "text": [
            "[nltk_data] Downloading package punkt to /root/nltk_data...\n",
            "[nltk_data]   Unzipping tokenizers/punkt.zip.\n",
            "[nltk_data] Downloading package stopwords to /root/nltk_data...\n",
            "[nltk_data]   Unzipping corpora/stopwords.zip.\n",
            "[nltk_data] Downloading package wordnet to /root/nltk_data...\n",
            "[nltk_data]   Unzipping corpora/wordnet.zip.\n"
          ]
        },
        {
          "output_type": "execute_result",
          "data": {
            "text/plain": [
              "True"
            ]
          },
          "metadata": {},
          "execution_count": 14
        }
      ]
    },
    {
      "cell_type": "code",
      "metadata": {
        "id": "v0VsnQuRfhZx",
        "colab": {
          "base_uri": "https://localhost:8080/",
          "height": 238
        },
        "outputId": "2fd3370d-452d-437d-e277-361d6821d47e"
      },
      "source": [
        "# f = open(\"at_school.txt\", \"r\")\n",
        "# text = f.read()\n",
        "# f.close()\n",
        "\n",
        "text = requests.get('https://github.com/rasyidev/well-known-datasets/raw/main/at_school.txt').text\n",
        "text"
      ],
      "id": "v0VsnQuRfhZx",
      "execution_count": null,
      "outputs": [
        {
          "output_type": "execute_result",
          "data": {
            "application/vnd.google.colaboratory.intrinsic+json": {
              "type": "string"
            },
            "text/plain": [
              "'At school\\r\\nLucas goes to school every day of the week. He has many subjects to go to each school day: English, art, science, mathematics, gym, and history. His mother packs a big backpack full of books and lunch for Lucas.\\r\\n\\r\\nHis first class is English, and he likes that teacher very much. His English teacher says that he is a good pupil, which Lucas knows means that she thinks he is a good student.\\r\\n\\r\\nHis next class is art. He draws on paper with crayons and pencils and sometimes uses a ruler. Lucas likes art. It is his favorite class.\\r\\n\\r\\nHis third class is science. This class is very hard for Lucas to figure out, but he gets to work with his classmates a lot, which he likes to do. His friend, Kyle, works with Lucas in science class, and they have fun.\\r\\n\\r\\nThen Lucas gets his break for lunch. He sits with Kyle while he eats. The principal, or the headmaster as some call him, likes to walk around and talk to students during lunch to check that they are all behaving.\\r\\n\\r\\nThe next class is mathematics, which most of the students just call math. Kyle has trouble getting a good grade in mathematics, but the teacher is very nice and helpful.\\r\\n\\r\\nHis fourth class is gym. It is just exercising.\\r\\n\\r\\nHistory is his last class of the day Lucas has a hard time staying awake. Many lessons are boring, and he is very tired after doing gym.'"
            ]
          },
          "metadata": {},
          "execution_count": 15
        }
      ]
    },
    {
      "cell_type": "code",
      "metadata": {
        "colab": {
          "base_uri": "https://localhost:8080/",
          "height": 238
        },
        "id": "qlvXwB0Rg8oc",
        "outputId": "2fa90ef8-794d-4f5c-9a49-2719d53b0e17"
      },
      "source": [
        "# Print text\n",
        "text"
      ],
      "id": "qlvXwB0Rg8oc",
      "execution_count": null,
      "outputs": [
        {
          "output_type": "execute_result",
          "data": {
            "application/vnd.google.colaboratory.intrinsic+json": {
              "type": "string"
            },
            "text/plain": [
              "'At school\\r\\nLucas goes to school every day of the week. He has many subjects to go to each school day: English, art, science, mathematics, gym, and history. His mother packs a big backpack full of books and lunch for Lucas.\\r\\n\\r\\nHis first class is English, and he likes that teacher very much. His English teacher says that he is a good pupil, which Lucas knows means that she thinks he is a good student.\\r\\n\\r\\nHis next class is art. He draws on paper with crayons and pencils and sometimes uses a ruler. Lucas likes art. It is his favorite class.\\r\\n\\r\\nHis third class is science. This class is very hard for Lucas to figure out, but he gets to work with his classmates a lot, which he likes to do. His friend, Kyle, works with Lucas in science class, and they have fun.\\r\\n\\r\\nThen Lucas gets his break for lunch. He sits with Kyle while he eats. The principal, or the headmaster as some call him, likes to walk around and talk to students during lunch to check that they are all behaving.\\r\\n\\r\\nThe next class is mathematics, which most of the students just call math. Kyle has trouble getting a good grade in mathematics, but the teacher is very nice and helpful.\\r\\n\\r\\nHis fourth class is gym. It is just exercising.\\r\\n\\r\\nHistory is his last class of the day Lucas has a hard time staying awake. Many lessons are boring, and he is very tired after doing gym.'"
            ]
          },
          "metadata": {},
          "execution_count": 16
        }
      ]
    },
    {
      "cell_type": "code",
      "metadata": {
        "colab": {
          "base_uri": "https://localhost:8080/",
          "height": 238
        },
        "id": "k13br1PEgpiK",
        "outputId": "993e5f95-2697-490e-ddbf-ea07e7c5e756"
      },
      "source": [
        "text = text.lower()\n",
        "text"
      ],
      "id": "k13br1PEgpiK",
      "execution_count": null,
      "outputs": [
        {
          "output_type": "execute_result",
          "data": {
            "application/vnd.google.colaboratory.intrinsic+json": {
              "type": "string"
            },
            "text/plain": [
              "'at school\\r\\nlucas goes to school every day of the week. he has many subjects to go to each school day: english, art, science, mathematics, gym, and history. his mother packs a big backpack full of books and lunch for lucas.\\r\\n\\r\\nhis first class is english, and he likes that teacher very much. his english teacher says that he is a good pupil, which lucas knows means that she thinks he is a good student.\\r\\n\\r\\nhis next class is art. he draws on paper with crayons and pencils and sometimes uses a ruler. lucas likes art. it is his favorite class.\\r\\n\\r\\nhis third class is science. this class is very hard for lucas to figure out, but he gets to work with his classmates a lot, which he likes to do. his friend, kyle, works with lucas in science class, and they have fun.\\r\\n\\r\\nthen lucas gets his break for lunch. he sits with kyle while he eats. the principal, or the headmaster as some call him, likes to walk around and talk to students during lunch to check that they are all behaving.\\r\\n\\r\\nthe next class is mathematics, which most of the students just call math. kyle has trouble getting a good grade in mathematics, but the teacher is very nice and helpful.\\r\\n\\r\\nhis fourth class is gym. it is just exercising.\\r\\n\\r\\nhistory is his last class of the day lucas has a hard time staying awake. many lessons are boring, and he is very tired after doing gym.'"
            ]
          },
          "metadata": {},
          "execution_count": 17
        }
      ]
    },
    {
      "cell_type": "markdown",
      "metadata": {
        "id": "zAOpm-VPqnIy"
      },
      "source": [
        "## Menghilangkan karakter khusus pada text"
      ],
      "id": "zAOpm-VPqnIy"
    },
    {
      "cell_type": "code",
      "metadata": {
        "colab": {
          "base_uri": "https://localhost:8080/",
          "height": 238
        },
        "id": "NPud9rhdqNTM",
        "outputId": "790b0f68-f836-4941-bc0a-9986fab3fb66"
      },
      "source": [
        "text = re.sub(r\"[-()\\\"#/@;:<>{}`+=~|.!?,]\", \"\", text)\n",
        "text\n",
        "\n",
        "# Untuk karakter new line (\\n) akan diproses pada proses tokenisasi"
      ],
      "id": "NPud9rhdqNTM",
      "execution_count": null,
      "outputs": [
        {
          "output_type": "execute_result",
          "data": {
            "application/vnd.google.colaboratory.intrinsic+json": {
              "type": "string"
            },
            "text/plain": [
              "'at school\\r\\nlucas goes to school every day of the week he has many subjects to go to each school day english art science mathematics gym and history his mother packs a big backpack full of books and lunch for lucas\\r\\n\\r\\nhis first class is english and he likes that teacher very much his english teacher says that he is a good pupil which lucas knows means that she thinks he is a good student\\r\\n\\r\\nhis next class is art he draws on paper with crayons and pencils and sometimes uses a ruler lucas likes art it is his favorite class\\r\\n\\r\\nhis third class is science this class is very hard for lucas to figure out but he gets to work with his classmates a lot which he likes to do his friend kyle works with lucas in science class and they have fun\\r\\n\\r\\nthen lucas gets his break for lunch he sits with kyle while he eats the principal or the headmaster as some call him likes to walk around and talk to students during lunch to check that they are all behaving\\r\\n\\r\\nthe next class is mathematics which most of the students just call math kyle has trouble getting a good grade in mathematics but the teacher is very nice and helpful\\r\\n\\r\\nhis fourth class is gym it is just exercising\\r\\n\\r\\nhistory is his last class of the day lucas has a hard time staying awake many lessons are boring and he is very tired after doing gym'"
            ]
          },
          "metadata": {},
          "execution_count": 18
        }
      ]
    },
    {
      "cell_type": "code",
      "metadata": {
        "colab": {
          "base_uri": "https://localhost:8080/"
        },
        "id": "hLJ3gTu1igKO",
        "outputId": "173434c5-1966-42a7-e6f7-60a6d80e9ef9"
      },
      "source": [
        "# word_tokenize: memisahkan karakter khusus pada kata (,./@#$%&* dll) dan memisahkan kata pada text\n",
        "\n",
        "tokens = word_tokenize(text)\n",
        "print(tokens)"
      ],
      "id": "hLJ3gTu1igKO",
      "execution_count": null,
      "outputs": [
        {
          "output_type": "stream",
          "name": "stdout",
          "text": [
            "['at', 'school', 'lucas', 'goes', 'to', 'school', 'every', 'day', 'of', 'the', 'week', 'he', 'has', 'many', 'subjects', 'to', 'go', 'to', 'each', 'school', 'day', 'english', 'art', 'science', 'mathematics', 'gym', 'and', 'history', 'his', 'mother', 'packs', 'a', 'big', 'backpack', 'full', 'of', 'books', 'and', 'lunch', 'for', 'lucas', 'his', 'first', 'class', 'is', 'english', 'and', 'he', 'likes', 'that', 'teacher', 'very', 'much', 'his', 'english', 'teacher', 'says', 'that', 'he', 'is', 'a', 'good', 'pupil', 'which', 'lucas', 'knows', 'means', 'that', 'she', 'thinks', 'he', 'is', 'a', 'good', 'student', 'his', 'next', 'class', 'is', 'art', 'he', 'draws', 'on', 'paper', 'with', 'crayons', 'and', 'pencils', 'and', 'sometimes', 'uses', 'a', 'ruler', 'lucas', 'likes', 'art', 'it', 'is', 'his', 'favorite', 'class', 'his', 'third', 'class', 'is', 'science', 'this', 'class', 'is', 'very', 'hard', 'for', 'lucas', 'to', 'figure', 'out', 'but', 'he', 'gets', 'to', 'work', 'with', 'his', 'classmates', 'a', 'lot', 'which', 'he', 'likes', 'to', 'do', 'his', 'friend', 'kyle', 'works', 'with', 'lucas', 'in', 'science', 'class', 'and', 'they', 'have', 'fun', 'then', 'lucas', 'gets', 'his', 'break', 'for', 'lunch', 'he', 'sits', 'with', 'kyle', 'while', 'he', 'eats', 'the', 'principal', 'or', 'the', 'headmaster', 'as', 'some', 'call', 'him', 'likes', 'to', 'walk', 'around', 'and', 'talk', 'to', 'students', 'during', 'lunch', 'to', 'check', 'that', 'they', 'are', 'all', 'behaving', 'the', 'next', 'class', 'is', 'mathematics', 'which', 'most', 'of', 'the', 'students', 'just', 'call', 'math', 'kyle', 'has', 'trouble', 'getting', 'a', 'good', 'grade', 'in', 'mathematics', 'but', 'the', 'teacher', 'is', 'very', 'nice', 'and', 'helpful', 'his', 'fourth', 'class', 'is', 'gym', 'it', 'is', 'just', 'exercising', 'history', 'is', 'his', 'last', 'class', 'of', 'the', 'day', 'lucas', 'has', 'a', 'hard', 'time', 'staying', 'awake', 'many', 'lessons', 'are', 'boring', 'and', 'he', 'is', 'very', 'tired', 'after', 'doing', 'gym']\n"
          ]
        }
      ]
    },
    {
      "cell_type": "code",
      "metadata": {
        "id": "U87NTXIZ4URR"
      },
      "source": [
        "mahasiswa = {\n",
        "    \"nama\": \"Qowim\",\n",
        "    \"NIM\": \"1910631150029\",\n",
        "    \"Alamat\": \"Jl. Palm_Raja_4\"\n",
        "}"
      ],
      "id": "U87NTXIZ4URR",
      "execution_count": null,
      "outputs": []
    },
    {
      "cell_type": "code",
      "metadata": {
        "colab": {
          "base_uri": "https://localhost:8080/"
        },
        "id": "Qwnund0f6Oia",
        "outputId": "2ac2ecc7-d4d5-4f74-9621-304c627e83b8"
      },
      "source": [
        "len(mahasiswa.keys())"
      ],
      "id": "Qwnund0f6Oia",
      "execution_count": null,
      "outputs": [
        {
          "output_type": "execute_result",
          "data": {
            "text/plain": [
              "4"
            ]
          },
          "metadata": {},
          "execution_count": 24
        }
      ]
    },
    {
      "cell_type": "code",
      "metadata": {
        "id": "f8AFF-W55XMd"
      },
      "source": [
        "for kata in tokens:\n",
        "  print(kata)"
      ],
      "id": "f8AFF-W55XMd",
      "execution_count": null,
      "outputs": []
    },
    {
      "cell_type": "code",
      "metadata": {
        "id": "5ulG1UI75FeT"
      },
      "source": [
        "if \"usia\" not in mahasiswa:\n",
        "  mahasiswa[\"usia\"] = 20"
      ],
      "id": "5ulG1UI75FeT",
      "execution_count": null,
      "outputs": []
    },
    {
      "cell_type": "code",
      "metadata": {
        "colab": {
          "base_uri": "https://localhost:8080/"
        },
        "id": "iOHjtb275Q_n",
        "outputId": "0766169e-7b51-40ac-845c-1b0beb4e38e0"
      },
      "source": [
        "mahasiswa"
      ],
      "id": "iOHjtb275Q_n",
      "execution_count": null,
      "outputs": [
        {
          "output_type": "execute_result",
          "data": {
            "text/plain": [
              "{'Alamat': 'Jl. Palm_Raja_4',\n",
              " 'NIM': '1910631150029',\n",
              " 'nama': 'Qowim',\n",
              " 'usia': 20}"
            ]
          },
          "metadata": {},
          "execution_count": 23
        }
      ]
    },
    {
      "cell_type": "code",
      "metadata": {
        "colab": {
          "base_uri": "https://localhost:8080/"
        },
        "id": "Yx0wVZAmhR5k",
        "outputId": "4845a568-8f16-4ab0-926d-547cf7828af4"
      },
      "source": [
        "frekuensi_kata = {} # dictionary\n",
        "for kata in tokens:\n",
        "  if kata not in frekuensi_kata:\n",
        "    frekuensi_kata[kata] = 1\n",
        "  else:\n",
        "    frekuensi_kata[kata] += 1\n",
        "\n",
        "print(frekuensi_kata)"
      ],
      "id": "Yx0wVZAmhR5k",
      "execution_count": null,
      "outputs": [
        {
          "output_type": "stream",
          "name": "stdout",
          "text": [
            "{'at': 1, 'school': 3, 'lucas': 8, 'goes': 1, 'to': 9, 'every': 1, 'day': 3, 'of': 4, 'the': 7, 'week': 1, 'he': 10, 'has': 3, 'many': 2, 'subjects': 1, 'go': 1, 'each': 1, 'english': 3, 'art': 3, 'science': 3, 'mathematics': 3, 'gym': 3, 'and': 9, 'history': 2, 'his': 11, 'mother': 1, 'packs': 1, 'a': 7, 'big': 1, 'backpack': 1, 'full': 1, 'books': 1, 'lunch': 3, 'for': 3, 'first': 1, 'class': 9, 'is': 13, 'likes': 4, 'that': 4, 'teacher': 3, 'very': 4, 'much': 1, 'says': 1, 'good': 3, 'pupil': 1, 'which': 3, 'knows': 1, 'means': 1, 'she': 1, 'thinks': 1, 'student': 1, 'next': 2, 'draws': 1, 'on': 1, 'paper': 1, 'with': 4, 'crayons': 1, 'pencils': 1, 'sometimes': 1, 'uses': 1, 'ruler': 1, 'it': 2, 'favorite': 1, 'third': 1, 'this': 1, 'hard': 2, 'figure': 1, 'out': 1, 'but': 2, 'gets': 2, 'work': 1, 'classmates': 1, 'lot': 1, 'do': 1, 'friend': 1, 'kyle': 3, 'works': 1, 'in': 2, 'they': 2, 'have': 1, 'fun': 1, 'then': 1, 'break': 1, 'sits': 1, 'while': 1, 'eats': 1, 'principal': 1, 'or': 1, 'headmaster': 1, 'as': 1, 'some': 1, 'call': 2, 'him': 1, 'walk': 1, 'around': 1, 'talk': 1, 'students': 2, 'during': 1, 'check': 1, 'are': 2, 'all': 1, 'behaving': 1, 'most': 1, 'just': 2, 'math': 1, 'trouble': 1, 'getting': 1, 'grade': 1, 'nice': 1, 'helpful': 1, 'fourth': 1, 'exercising': 1, 'last': 1, 'time': 1, 'staying': 1, 'awake': 1, 'lessons': 1, 'boring': 1, 'tired': 1, 'after': 1, 'doing': 1}\n"
          ]
        }
      ]
    },
    {
      "cell_type": "code",
      "metadata": {
        "colab": {
          "base_uri": "https://localhost:8080/"
        },
        "id": "tlzbvDf5uy_G",
        "outputId": "94213e8d-519d-49e2-daf5-5557e55ff3ec"
      },
      "source": [
        "# Cetak total kata unik (tanpa duplikat)\n",
        "len(frekuensi_kata.keys())"
      ],
      "id": "tlzbvDf5uy_G",
      "execution_count": null,
      "outputs": [
        {
          "output_type": "execute_result",
          "data": {
            "text/plain": [
              "120"
            ]
          },
          "metadata": {},
          "execution_count": 25
        }
      ]
    },
    {
      "cell_type": "code",
      "metadata": {
        "colab": {
          "base_uri": "https://localhost:8080/"
        },
        "id": "KWlo6KpKst3k",
        "outputId": "8eac0d93-a340-4173-ad10-834f9c2ca250"
      },
      "source": [
        "# Print daftar stop words dalam bahasa inggris\n",
        "# Stop word ini untuk setiap project dapat disesuaikan\n",
        "print(stopwords.words('english'))"
      ],
      "id": "KWlo6KpKst3k",
      "execution_count": null,
      "outputs": [
        {
          "output_type": "stream",
          "name": "stdout",
          "text": [
            "['i', 'me', 'my', 'myself', 'we', 'our', 'ours', 'ourselves', 'you', \"you're\", \"you've\", \"you'll\", \"you'd\", 'your', 'yours', 'yourself', 'yourselves', 'he', 'him', 'his', 'himself', 'she', \"she's\", 'her', 'hers', 'herself', 'it', \"it's\", 'its', 'itself', 'they', 'them', 'their', 'theirs', 'themselves', 'what', 'which', 'who', 'whom', 'this', 'that', \"that'll\", 'these', 'those', 'am', 'is', 'are', 'was', 'were', 'be', 'been', 'being', 'have', 'has', 'had', 'having', 'do', 'does', 'did', 'doing', 'a', 'an', 'the', 'and', 'but', 'if', 'or', 'because', 'as', 'until', 'while', 'of', 'at', 'by', 'for', 'with', 'about', 'against', 'between', 'into', 'through', 'during', 'before', 'after', 'above', 'below', 'to', 'from', 'up', 'down', 'in', 'out', 'on', 'off', 'over', 'under', 'again', 'further', 'then', 'once', 'here', 'there', 'when', 'where', 'why', 'how', 'all', 'any', 'both', 'each', 'few', 'more', 'most', 'other', 'some', 'such', 'no', 'nor', 'not', 'only', 'own', 'same', 'so', 'than', 'too', 'very', 's', 't', 'can', 'will', 'just', 'don', \"don't\", 'should', \"should've\", 'now', 'd', 'll', 'm', 'o', 're', 've', 'y', 'ain', 'aren', \"aren't\", 'couldn', \"couldn't\", 'didn', \"didn't\", 'doesn', \"doesn't\", 'hadn', \"hadn't\", 'hasn', \"hasn't\", 'haven', \"haven't\", 'isn', \"isn't\", 'ma', 'mightn', \"mightn't\", 'mustn', \"mustn't\", 'needn', \"needn't\", 'shan', \"shan't\", 'shouldn', \"shouldn't\", 'wasn', \"wasn't\", 'weren', \"weren't\", 'won', \"won't\", 'wouldn', \"wouldn't\"]\n"
          ]
        }
      ]
    },
    {
      "cell_type": "code",
      "metadata": {
        "id": "YRwpgSNIwXB-"
      },
      "source": [
        "en_stop_words = stopwords.words('english')"
      ],
      "id": "YRwpgSNIwXB-",
      "execution_count": null,
      "outputs": []
    },
    {
      "cell_type": "code",
      "metadata": {
        "colab": {
          "base_uri": "https://localhost:8080/"
        },
        "id": "iivJbn4F7cTY",
        "outputId": "5be1f33e-95ed-460d-b34d-9b59008ffd27"
      },
      "source": [
        "\"me\" in en_stop_words"
      ],
      "id": "iivJbn4F7cTY",
      "execution_count": null,
      "outputs": [
        {
          "output_type": "execute_result",
          "data": {
            "text/plain": [
              "True"
            ]
          },
          "metadata": {},
          "execution_count": 28
        }
      ]
    },
    {
      "cell_type": "code",
      "metadata": {
        "id": "x6hG3I2nv0u8"
      },
      "source": [
        "# Menghapus kata yang termasuk ke dalam stopwords bahasa inggris\n",
        "kata_unik = list(frekuensi_kata.keys())\n",
        "for kata in kata_unik:\n",
        "  if kata in en_stop_words:\n",
        "    del frekuensi_kata[kata]\n",
        "\n",
        "# Update kata unik setelah penghapusan stopwords\n",
        "kata_unik = list(frekuensi_kata.keys())"
      ],
      "id": "x6hG3I2nv0u8",
      "execution_count": null,
      "outputs": []
    },
    {
      "cell_type": "code",
      "metadata": {
        "colab": {
          "base_uri": "https://localhost:8080/"
        },
        "id": "R8SxS3LexJEJ",
        "outputId": "8398368d-f05c-40c6-de74-86a83048c2e9"
      },
      "source": [
        "len(frekuensi_kata.keys())"
      ],
      "id": "R8SxS3LexJEJ",
      "execution_count": null,
      "outputs": [
        {
          "output_type": "execute_result",
          "data": {
            "text/plain": [
              "81"
            ]
          },
          "metadata": {},
          "execution_count": 30
        }
      ]
    },
    {
      "cell_type": "code",
      "metadata": {
        "id": "oBrbj80nxnTa"
      },
      "source": [
        "# Instansiasi objek dari Class PorterStemmer dan WordNetLemmatizer\n",
        "stemmer = PorterStemmer()\n",
        "lemmatizer = WordNetLemmatizer()\n"
      ],
      "id": "oBrbj80nxnTa",
      "execution_count": null,
      "outputs": []
    },
    {
      "cell_type": "code",
      "metadata": {
        "colab": {
          "base_uri": "https://localhost:8080/"
        },
        "id": "8EwyG4tb-Uhx",
        "outputId": "f28ef43a-daff-4158-9461-55e5079b0dcc"
      },
      "source": [
        "for kata in kata_unik:\n",
        "  print(kata, '|', lemmatizer.lemmatize(kata), '|', lemmatizer.lemmatize(stemmer.stem(kata)), '|', stemmer.stem(lemmatizer.lemmatize(kata)))"
      ],
      "id": "8EwyG4tb-Uhx",
      "execution_count": null,
      "outputs": [
        {
          "output_type": "stream",
          "name": "stdout",
          "text": [
            "school | school | school | school\n",
            "lucas | lucas | luca | luca\n",
            "goes | go | goe | go\n",
            "every | every | everi | everi\n",
            "day | day | day | day\n",
            "week | week | week | week\n",
            "many | many | mani | mani\n",
            "subjects | subject | subject | subject\n",
            "go | go | go | go\n",
            "english | english | english | english\n",
            "art | art | art | art\n",
            "science | science | scienc | scienc\n",
            "mathematics | mathematics | mathemat | mathemat\n",
            "gym | gym | gym | gym\n",
            "history | history | histori | histori\n",
            "mother | mother | mother | mother\n",
            "packs | pack | pack | pack\n",
            "big | big | big | big\n",
            "backpack | backpack | backpack | backpack\n",
            "full | full | full | full\n",
            "books | book | book | book\n",
            "lunch | lunch | lunch | lunch\n",
            "first | first | first | first\n",
            "class | class | class | class\n",
            "likes | like | like | like\n",
            "teacher | teacher | teacher | teacher\n",
            "much | much | much | much\n",
            "says | say | say | say\n",
            "good | good | good | good\n",
            "pupil | pupil | pupil | pupil\n",
            "knows | know | know | know\n",
            "means | mean | mean | mean\n",
            "thinks | think | think | think\n",
            "student | student | student | student\n",
            "next | next | next | next\n",
            "draws | draw | draw | draw\n",
            "paper | paper | paper | paper\n",
            "crayons | crayon | crayon | crayon\n",
            "pencils | pencil | pencil | pencil\n",
            "sometimes | sometimes | sometim | sometim\n",
            "uses | us | use | us\n",
            "ruler | ruler | ruler | ruler\n",
            "favorite | favorite | favorit | favorit\n",
            "third | third | third | third\n",
            "hard | hard | hard | hard\n",
            "figure | figure | figur | figur\n",
            "gets | get | get | get\n",
            "work | work | work | work\n",
            "classmates | classmate | classmat | classmat\n",
            "lot | lot | lot | lot\n",
            "friend | friend | friend | friend\n",
            "kyle | kyle | kyle | kyle\n",
            "works | work | work | work\n",
            "fun | fun | fun | fun\n",
            "break | break | break | break\n",
            "sits | sits | sit | sit\n",
            "eats | eats | eat | eat\n",
            "principal | principal | princip | princip\n",
            "headmaster | headmaster | headmast | headmast\n",
            "call | call | call | call\n",
            "walk | walk | walk | walk\n",
            "around | around | around | around\n",
            "talk | talk | talk | talk\n",
            "students | student | student | student\n",
            "check | check | check | check\n",
            "behaving | behaving | behav | behav\n",
            "math | math | math | math\n",
            "trouble | trouble | troubl | troubl\n",
            "getting | getting | get | get\n",
            "grade | grade | grade | grade\n",
            "nice | nice | nice | nice\n",
            "helpful | helpful | help | help\n",
            "fourth | fourth | fourth | fourth\n",
            "exercising | exercising | exercis | exercis\n",
            "last | last | last | last\n",
            "time | time | time | time\n",
            "staying | staying | stay | stay\n",
            "awake | awake | awak | awak\n",
            "lessons | lesson | lesson | lesson\n",
            "boring | boring | bore | bore\n",
            "tired | tired | tire | tire\n"
          ]
        }
      ]
    },
    {
      "cell_type": "code",
      "metadata": {
        "colab": {
          "base_uri": "https://localhost:8080/"
        },
        "id": "FhlFlGg2B-Rh",
        "outputId": "75c523bb-470b-45c0-aa1f-22175caf740b"
      },
      "source": [
        "# Menggunakan pos pada lemmatizer untuk menentukan part of speech atau kategori kata\n",
        "print(lemmatizer.lemmatize('exercising'))\n",
        "print(lemmatizer.lemmatize('exercising', pos = 'v'))"
      ],
      "id": "FhlFlGg2B-Rh",
      "execution_count": null,
      "outputs": [
        {
          "output_type": "stream",
          "name": "stdout",
          "text": [
            "exercising\n",
            "exercise\n"
          ]
        }
      ]
    },
    {
      "cell_type": "code",
      "metadata": {
        "colab": {
          "base_uri": "https://localhost:8080/"
        },
        "id": "CGMSkVC-WKth",
        "outputId": "f388c29e-a057-4011-b02f-48570da5885c"
      },
      "source": [
        "token_no_stop_words = [kata for kata in tokens if kata not in en_stop_words]\n",
        "token_lemmatized = [lemmatizer.lemmatize(kata) for kata in token_no_stop_words]\n",
        "\n",
        "frekuensi_kata_postprocessing = {}\n",
        "for kata in token_lemmatized:\n",
        "  if kata not in frekuensi_kata_postprocessing:\n",
        "    frekuensi_kata_postprocessing[kata] = 1\n",
        "  else:\n",
        "    frekuensi_kata_postprocessing[kata] += 1\n",
        "\n",
        "\n",
        "frekuensi_kata_postprocessing.keys()"
      ],
      "id": "CGMSkVC-WKth",
      "execution_count": null,
      "outputs": [
        {
          "output_type": "execute_result",
          "data": {
            "text/plain": [
              "dict_keys(['school', 'lucas', 'go', 'every', 'day', 'week', 'many', 'subject', 'english', 'art', 'science', 'mathematics', 'gym', 'history', 'mother', 'pack', 'big', 'backpack', 'full', 'book', 'lunch', 'first', 'class', 'like', 'teacher', 'much', 'say', 'good', 'pupil', 'know', 'mean', 'think', 'student', 'next', 'draw', 'paper', 'crayon', 'pencil', 'sometimes', 'us', 'ruler', 'favorite', 'third', 'hard', 'figure', 'get', 'work', 'classmate', 'lot', 'friend', 'kyle', 'fun', 'break', 'sits', 'eats', 'principal', 'headmaster', 'call', 'walk', 'around', 'talk', 'check', 'behaving', 'math', 'trouble', 'getting', 'grade', 'nice', 'helpful', 'fourth', 'exercising', 'last', 'time', 'staying', 'awake', 'lesson', 'boring', 'tired'])"
            ]
          },
          "metadata": {},
          "execution_count": 34
        }
      ]
    },
    {
      "cell_type": "code",
      "metadata": {
        "id": "N8KWZxizYi5H",
        "colab": {
          "base_uri": "https://localhost:8080/"
        },
        "outputId": "0febe4e1-3327-4a2f-f389-457ec8f3615d"
      },
      "source": [
        "# Membandingkan jumlah kata unik sebelum dan setelah preprocessing dengan melihat isi dari bag of words\n",
        "print(len(frekuensi_kata))\n",
        "print(len(frekuensi_kata_postprocessing))"
      ],
      "id": "N8KWZxizYi5H",
      "execution_count": null,
      "outputs": [
        {
          "output_type": "stream",
          "name": "stdout",
          "text": [
            "81\n",
            "78\n"
          ]
        }
      ]
    },
    {
      "cell_type": "code",
      "metadata": {
        "id": "TJy-RDJTVWgp",
        "colab": {
          "base_uri": "https://localhost:8080/",
          "height": 238
        },
        "outputId": "fb465df7-857c-41ae-f324-38925dcfe329"
      },
      "source": [
        "# f = open(\"rendang.txt\", \"r\")\n",
        "# text = f.read()\n",
        "# f.close()\n",
        "\n",
        "text = requests.get('https://github.com/rasyidev/well-known-datasets/raw/main/rendang.txt').text\n",
        "text"
      ],
      "id": "TJy-RDJTVWgp",
      "execution_count": null,
      "outputs": [
        {
          "output_type": "execute_result",
          "data": {
            "application/vnd.google.colaboratory.intrinsic+json": {
              "type": "string"
            },
            "text/plain": [
              "'Rendang dinobatkan menjadi salah satu makanan terenak di dunia. Makanan khas Sumatera Barat ini memang digemari banyak orang, baik di Indonesia maupun mancanegara. Rendang semula merupakan menu utama di rumah makan yang berasal dari Sumatera Barat yang dikenal dengan masakan Padang. Rendang khas Minang adalah yang paling enak dan mendunia. Masakan ini memiliki tampilan yang menyisakan potongan daging berwarna coklat kehitaman dan kering.\\r\\n\\r\\nDalam tradisi Minangkabau, rendang dianggap sebagai makanan kehormatan dalam acara adat seperti perayaan adat, pernikahan dan acara penting lainnya. Ketika istana negara sedang menerima kunjungan dari negara lain, rendang pun sering disajikan untuk para tamu. Bagi masyarakat Minang, rendang memiliki filosofi yang berarti kesabaran, kebijakan dan ketekunan. Hal inilah yang menjadi kebanggaan masyarakat minang di manapun mereka berpijak serta menjadi identitas sebagai makanan khas Indonesia di mata dunia.\\r\\n\\r\\nDalam proses pembuatannya, diolah dengan bahan daging sapi yang dimasak dengan santan dan rempah khas, perpaduan rasa gurih, manis, dan pedas yang mampu menggoyang lidah siapa pun. Beberapa bumbu khas yang digunakan seperti bawang putih, bawang merah, jahe, lengkuas, cabai merah, daun kunyit dan daun jeruk. Dimasak selama 7 jam sehingga menghasilkan daging sapi bertekstur empuk yang enak dinikmati. Proses memasaknya membutuhkan waktu lama hingga tidak adanya cairan pada masakan.\\r\\n\\r\\nMemiliki cita rasa yang khas, dengan daging yang empuk namun tidak mudah hancur dan mampu bertahan dalam waktu lama. Terlebih resep yang diperlukan sangat simple meski memasaknya dalam waktu yang lama. Rasanya yang enak tak hanya dikenal di Indonesia, namun juga telah diakui hingga ke mancanegara. Alasan tersebutlah yang membuat rendang menjadi favorit banyak orang dan terenak di dunia.\\r\\n\\r\\nTak mengherankan bila rendang dapat dengan mudah menembus pasar kuliner internasional dengan rasanya yang kaya rempah khas. Selain terenak, juga diyakini sebagai makanan halal. Hal ini secara tidak langsung membuktikan bahwa kuliner Nusantara mampu bersaing di kancah internasional.'"
            ]
          },
          "metadata": {},
          "execution_count": 36
        }
      ]
    },
    {
      "cell_type": "code",
      "metadata": {
        "id": "ziYe0TXlZQlh",
        "colab": {
          "base_uri": "https://localhost:8080/",
          "height": 238
        },
        "outputId": "2ee91bfa-fdfb-486c-eb94-398f0f7011a9"
      },
      "source": [
        "text = text.lower()\n",
        "text"
      ],
      "id": "ziYe0TXlZQlh",
      "execution_count": null,
      "outputs": [
        {
          "output_type": "execute_result",
          "data": {
            "application/vnd.google.colaboratory.intrinsic+json": {
              "type": "string"
            },
            "text/plain": [
              "'rendang dinobatkan menjadi salah satu makanan terenak di dunia. makanan khas sumatera barat ini memang digemari banyak orang, baik di indonesia maupun mancanegara. rendang semula merupakan menu utama di rumah makan yang berasal dari sumatera barat yang dikenal dengan masakan padang. rendang khas minang adalah yang paling enak dan mendunia. masakan ini memiliki tampilan yang menyisakan potongan daging berwarna coklat kehitaman dan kering.\\r\\n\\r\\ndalam tradisi minangkabau, rendang dianggap sebagai makanan kehormatan dalam acara adat seperti perayaan adat, pernikahan dan acara penting lainnya. ketika istana negara sedang menerima kunjungan dari negara lain, rendang pun sering disajikan untuk para tamu. bagi masyarakat minang, rendang memiliki filosofi yang berarti kesabaran, kebijakan dan ketekunan. hal inilah yang menjadi kebanggaan masyarakat minang di manapun mereka berpijak serta menjadi identitas sebagai makanan khas indonesia di mata dunia.\\r\\n\\r\\ndalam proses pembuatannya, diolah dengan bahan daging sapi yang dimasak dengan santan dan rempah khas, perpaduan rasa gurih, manis, dan pedas yang mampu menggoyang lidah siapa pun. beberapa bumbu khas yang digunakan seperti bawang putih, bawang merah, jahe, lengkuas, cabai merah, daun kunyit dan daun jeruk. dimasak selama 7 jam sehingga menghasilkan daging sapi bertekstur empuk yang enak dinikmati. proses memasaknya membutuhkan waktu lama hingga tidak adanya cairan pada masakan.\\r\\n\\r\\nmemiliki cita rasa yang khas, dengan daging yang empuk namun tidak mudah hancur dan mampu bertahan dalam waktu lama. terlebih resep yang diperlukan sangat simple meski memasaknya dalam waktu yang lama. rasanya yang enak tak hanya dikenal di indonesia, namun juga telah diakui hingga ke mancanegara. alasan tersebutlah yang membuat rendang menjadi favorit banyak orang dan terenak di dunia.\\r\\n\\r\\ntak mengherankan bila rendang dapat dengan mudah menembus pasar kuliner internasional dengan rasanya yang kaya rempah khas. selain terenak, juga diyakini sebagai makanan halal. hal ini secara tidak langsung membuktikan bahwa kuliner nusantara mampu bersaing di kancah internasional.'"
            ]
          },
          "metadata": {},
          "execution_count": 37
        }
      ]
    },
    {
      "cell_type": "code",
      "metadata": {
        "id": "NzCgTRvRaDZ3",
        "colab": {
          "base_uri": "https://localhost:8080/",
          "height": 238
        },
        "outputId": "037cab7f-2775-4141-d993-bc968adf33f0"
      },
      "source": [
        "text = re.sub(r\"[-()\\\"#/@;:<>{}`+=~|.!?,]\", \"\", text)\n",
        "text"
      ],
      "id": "NzCgTRvRaDZ3",
      "execution_count": null,
      "outputs": [
        {
          "output_type": "execute_result",
          "data": {
            "application/vnd.google.colaboratory.intrinsic+json": {
              "type": "string"
            },
            "text/plain": [
              "'rendang dinobatkan menjadi salah satu makanan terenak di dunia makanan khas sumatera barat ini memang digemari banyak orang baik di indonesia maupun mancanegara rendang semula merupakan menu utama di rumah makan yang berasal dari sumatera barat yang dikenal dengan masakan padang rendang khas minang adalah yang paling enak dan mendunia masakan ini memiliki tampilan yang menyisakan potongan daging berwarna coklat kehitaman dan kering\\r\\n\\r\\ndalam tradisi minangkabau rendang dianggap sebagai makanan kehormatan dalam acara adat seperti perayaan adat pernikahan dan acara penting lainnya ketika istana negara sedang menerima kunjungan dari negara lain rendang pun sering disajikan untuk para tamu bagi masyarakat minang rendang memiliki filosofi yang berarti kesabaran kebijakan dan ketekunan hal inilah yang menjadi kebanggaan masyarakat minang di manapun mereka berpijak serta menjadi identitas sebagai makanan khas indonesia di mata dunia\\r\\n\\r\\ndalam proses pembuatannya diolah dengan bahan daging sapi yang dimasak dengan santan dan rempah khas perpaduan rasa gurih manis dan pedas yang mampu menggoyang lidah siapa pun beberapa bumbu khas yang digunakan seperti bawang putih bawang merah jahe lengkuas cabai merah daun kunyit dan daun jeruk dimasak selama 7 jam sehingga menghasilkan daging sapi bertekstur empuk yang enak dinikmati proses memasaknya membutuhkan waktu lama hingga tidak adanya cairan pada masakan\\r\\n\\r\\nmemiliki cita rasa yang khas dengan daging yang empuk namun tidak mudah hancur dan mampu bertahan dalam waktu lama terlebih resep yang diperlukan sangat simple meski memasaknya dalam waktu yang lama rasanya yang enak tak hanya dikenal di indonesia namun juga telah diakui hingga ke mancanegara alasan tersebutlah yang membuat rendang menjadi favorit banyak orang dan terenak di dunia\\r\\n\\r\\ntak mengherankan bila rendang dapat dengan mudah menembus pasar kuliner internasional dengan rasanya yang kaya rempah khas selain terenak juga diyakini sebagai makanan halal hal ini secara tidak langsung membuktikan bahwa kuliner nusantara mampu bersaing di kancah internasional'"
            ]
          },
          "metadata": {},
          "execution_count": 38
        }
      ]
    },
    {
      "cell_type": "code",
      "metadata": {
        "id": "LhuEMqH8aNrr",
        "colab": {
          "base_uri": "https://localhost:8080/"
        },
        "outputId": "3d15eaad-bb6c-4ce2-94b6-64873c798645"
      },
      "source": [
        "tokens = word_tokenize(text)\n",
        "print(tokens)"
      ],
      "id": "LhuEMqH8aNrr",
      "execution_count": null,
      "outputs": [
        {
          "output_type": "stream",
          "name": "stdout",
          "text": [
            "['rendang', 'dinobatkan', 'menjadi', 'salah', 'satu', 'makanan', 'terenak', 'di', 'dunia', 'makanan', 'khas', 'sumatera', 'barat', 'ini', 'memang', 'digemari', 'banyak', 'orang', 'baik', 'di', 'indonesia', 'maupun', 'mancanegara', 'rendang', 'semula', 'merupakan', 'menu', 'utama', 'di', 'rumah', 'makan', 'yang', 'berasal', 'dari', 'sumatera', 'barat', 'yang', 'dikenal', 'dengan', 'masakan', 'padang', 'rendang', 'khas', 'minang', 'adalah', 'yang', 'paling', 'enak', 'dan', 'mendunia', 'masakan', 'ini', 'memiliki', 'tampilan', 'yang', 'menyisakan', 'potongan', 'daging', 'berwarna', 'coklat', 'kehitaman', 'dan', 'kering', 'dalam', 'tradisi', 'minangkabau', 'rendang', 'dianggap', 'sebagai', 'makanan', 'kehormatan', 'dalam', 'acara', 'adat', 'seperti', 'perayaan', 'adat', 'pernikahan', 'dan', 'acara', 'penting', 'lainnya', 'ketika', 'istana', 'negara', 'sedang', 'menerima', 'kunjungan', 'dari', 'negara', 'lain', 'rendang', 'pun', 'sering', 'disajikan', 'untuk', 'para', 'tamu', 'bagi', 'masyarakat', 'minang', 'rendang', 'memiliki', 'filosofi', 'yang', 'berarti', 'kesabaran', 'kebijakan', 'dan', 'ketekunan', 'hal', 'inilah', 'yang', 'menjadi', 'kebanggaan', 'masyarakat', 'minang', 'di', 'manapun', 'mereka', 'berpijak', 'serta', 'menjadi', 'identitas', 'sebagai', 'makanan', 'khas', 'indonesia', 'di', 'mata', 'dunia', 'dalam', 'proses', 'pembuatannya', 'diolah', 'dengan', 'bahan', 'daging', 'sapi', 'yang', 'dimasak', 'dengan', 'santan', 'dan', 'rempah', 'khas', 'perpaduan', 'rasa', 'gurih', 'manis', 'dan', 'pedas', 'yang', 'mampu', 'menggoyang', 'lidah', 'siapa', 'pun', 'beberapa', 'bumbu', 'khas', 'yang', 'digunakan', 'seperti', 'bawang', 'putih', 'bawang', 'merah', 'jahe', 'lengkuas', 'cabai', 'merah', 'daun', 'kunyit', 'dan', 'daun', 'jeruk', 'dimasak', 'selama', '7', 'jam', 'sehingga', 'menghasilkan', 'daging', 'sapi', 'bertekstur', 'empuk', 'yang', 'enak', 'dinikmati', 'proses', 'memasaknya', 'membutuhkan', 'waktu', 'lama', 'hingga', 'tidak', 'adanya', 'cairan', 'pada', 'masakan', 'memiliki', 'cita', 'rasa', 'yang', 'khas', 'dengan', 'daging', 'yang', 'empuk', 'namun', 'tidak', 'mudah', 'hancur', 'dan', 'mampu', 'bertahan', 'dalam', 'waktu', 'lama', 'terlebih', 'resep', 'yang', 'diperlukan', 'sangat', 'simple', 'meski', 'memasaknya', 'dalam', 'waktu', 'yang', 'lama', 'rasanya', 'yang', 'enak', 'tak', 'hanya', 'dikenal', 'di', 'indonesia', 'namun', 'juga', 'telah', 'diakui', 'hingga', 'ke', 'mancanegara', 'alasan', 'tersebutlah', 'yang', 'membuat', 'rendang', 'menjadi', 'favorit', 'banyak', 'orang', 'dan', 'terenak', 'di', 'dunia', 'tak', 'mengherankan', 'bila', 'rendang', 'dapat', 'dengan', 'mudah', 'menembus', 'pasar', 'kuliner', 'internasional', 'dengan', 'rasanya', 'yang', 'kaya', 'rempah', 'khas', 'selain', 'terenak', 'juga', 'diyakini', 'sebagai', 'makanan', 'halal', 'hal', 'ini', 'secara', 'tidak', 'langsung', 'membuktikan', 'bahwa', 'kuliner', 'nusantara', 'mampu', 'bersaing', 'di', 'kancah', 'internasional']\n"
          ]
        }
      ]
    },
    {
      "cell_type": "code",
      "metadata": {
        "id": "It1PY8v8bmvw",
        "colab": {
          "base_uri": "https://localhost:8080/"
        },
        "outputId": "82289b48-1ff9-402a-f007-90fa4a685025"
      },
      "source": [
        "!pip3 install Sastrawi"
      ],
      "id": "It1PY8v8bmvw",
      "execution_count": null,
      "outputs": [
        {
          "output_type": "stream",
          "name": "stdout",
          "text": [
            "Collecting Sastrawi\n",
            "  Downloading Sastrawi-1.0.1-py2.py3-none-any.whl (209 kB)\n",
            "\u001b[?25l\r\u001b[K     |█▋                              | 10 kB 18.7 MB/s eta 0:00:01\r\u001b[K     |███▏                            | 20 kB 24.5 MB/s eta 0:00:01\r\u001b[K     |████▊                           | 30 kB 29.8 MB/s eta 0:00:01\r\u001b[K     |██████▎                         | 40 kB 32.1 MB/s eta 0:00:01\r\u001b[K     |███████▉                        | 51 kB 34.0 MB/s eta 0:00:01\r\u001b[K     |█████████▍                      | 61 kB 28.1 MB/s eta 0:00:01\r\u001b[K     |███████████                     | 71 kB 25.0 MB/s eta 0:00:01\r\u001b[K     |████████████▌                   | 81 kB 26.1 MB/s eta 0:00:01\r\u001b[K     |██████████████                  | 92 kB 26.3 MB/s eta 0:00:01\r\u001b[K     |███████████████▋                | 102 kB 28.0 MB/s eta 0:00:01\r\u001b[K     |█████████████████▏              | 112 kB 28.0 MB/s eta 0:00:01\r\u001b[K     |██████████████████▊             | 122 kB 28.0 MB/s eta 0:00:01\r\u001b[K     |████████████████████▎           | 133 kB 28.0 MB/s eta 0:00:01\r\u001b[K     |█████████████████████▉          | 143 kB 28.0 MB/s eta 0:00:01\r\u001b[K     |███████████████████████▍        | 153 kB 28.0 MB/s eta 0:00:01\r\u001b[K     |█████████████████████████       | 163 kB 28.0 MB/s eta 0:00:01\r\u001b[K     |██████████████████████████▋     | 174 kB 28.0 MB/s eta 0:00:01\r\u001b[K     |████████████████████████████▏   | 184 kB 28.0 MB/s eta 0:00:01\r\u001b[K     |█████████████████████████████▊  | 194 kB 28.0 MB/s eta 0:00:01\r\u001b[K     |███████████████████████████████▎| 204 kB 28.0 MB/s eta 0:00:01\r\u001b[K     |████████████████████████████████| 209 kB 28.0 MB/s \n",
            "\u001b[?25hInstalling collected packages: Sastrawi\n",
            "Successfully installed Sastrawi-1.0.1\n"
          ]
        }
      ]
    },
    {
      "cell_type": "code",
      "metadata": {
        "id": "Nvu2QEMOa8Rr",
        "colab": {
          "base_uri": "https://localhost:8080/"
        },
        "outputId": "31da12c1-772a-4cc3-c509-2d8782f2697a"
      },
      "source": [
        "from Sastrawi.StopWordRemover.StopWordRemoverFactory import StopWordRemoverFactory\n",
        "from Sastrawi.Stemmer.StemmerFactory import StemmerFactory\n",
        "stopword_remover_factory = StopWordRemoverFactory()\n",
        "stemmer_factory = StemmerFactory()\n",
        "ina_stemmer = stemmer_factory.create_stemmer()\n",
        "ina_stopword = stopword_remover_factory.create_stop_word_remover()\n",
        "\n",
        "print(stopword_remover_factory.get_stop_words())"
      ],
      "id": "Nvu2QEMOa8Rr",
      "execution_count": null,
      "outputs": [
        {
          "output_type": "stream",
          "name": "stdout",
          "text": [
            "['yang', 'untuk', 'pada', 'ke', 'para', 'namun', 'menurut', 'antara', 'dia', 'dua', 'ia', 'seperti', 'jika', 'jika', 'sehingga', 'kembali', 'dan', 'tidak', 'ini', 'karena', 'kepada', 'oleh', 'saat', 'harus', 'sementara', 'setelah', 'belum', 'kami', 'sekitar', 'bagi', 'serta', 'di', 'dari', 'telah', 'sebagai', 'masih', 'hal', 'ketika', 'adalah', 'itu', 'dalam', 'bisa', 'bahwa', 'atau', 'hanya', 'kita', 'dengan', 'akan', 'juga', 'ada', 'mereka', 'sudah', 'saya', 'terhadap', 'secara', 'agar', 'lain', 'anda', 'begitu', 'mengapa', 'kenapa', 'yaitu', 'yakni', 'daripada', 'itulah', 'lagi', 'maka', 'tentang', 'demi', 'dimana', 'kemana', 'pula', 'sambil', 'sebelum', 'sesudah', 'supaya', 'guna', 'kah', 'pun', 'sampai', 'sedangkan', 'selagi', 'sementara', 'tetapi', 'apakah', 'kecuali', 'sebab', 'selain', 'seolah', 'seraya', 'seterusnya', 'tanpa', 'agak', 'boleh', 'dapat', 'dsb', 'dst', 'dll', 'dahulu', 'dulunya', 'anu', 'demikian', 'tapi', 'ingin', 'juga', 'nggak', 'mari', 'nanti', 'melainkan', 'oh', 'ok', 'seharusnya', 'sebetulnya', 'setiap', 'setidaknya', 'sesuatu', 'pasti', 'saja', 'toh', 'ya', 'walau', 'tolong', 'tentu', 'amat', 'apalagi', 'bagaimanapun']\n"
          ]
        }
      ]
    },
    {
      "cell_type": "code",
      "metadata": {
        "id": "i1ItbVS1cEzE",
        "colab": {
          "base_uri": "https://localhost:8080/"
        },
        "outputId": "232f11a9-d616-4c94-b9fc-7e74ec7a48c6"
      },
      "source": [
        "# Membuat kalimat baru dari token yang sudah dibuat sebagai parameter untuk dapat digunakan pada fungsi ina_stopword.remove()\n",
        "text_from_token = ' '.join(tokens)\n",
        "print(text_from_token)\n",
        "\n",
        "text_from_token_no_stop_words = ina_stopword.remove(text_from_token)\n",
        "\n",
        "# Mengubah kalimat yang sudah tidak terdapat stop words menjadi token lagi\n",
        "# token = word_tokenize(text_from_token_no_stop_words)\n",
        "# token"
      ],
      "id": "i1ItbVS1cEzE",
      "execution_count": null,
      "outputs": [
        {
          "output_type": "stream",
          "name": "stdout",
          "text": [
            "rendang dinobatkan menjadi salah satu makanan terenak di dunia makanan khas sumatera barat ini memang digemari banyak orang baik di indonesia maupun mancanegara rendang semula merupakan menu utama di rumah makan yang berasal dari sumatera barat yang dikenal dengan masakan padang rendang khas minang adalah yang paling enak dan mendunia masakan ini memiliki tampilan yang menyisakan potongan daging berwarna coklat kehitaman dan kering dalam tradisi minangkabau rendang dianggap sebagai makanan kehormatan dalam acara adat seperti perayaan adat pernikahan dan acara penting lainnya ketika istana negara sedang menerima kunjungan dari negara lain rendang pun sering disajikan untuk para tamu bagi masyarakat minang rendang memiliki filosofi yang berarti kesabaran kebijakan dan ketekunan hal inilah yang menjadi kebanggaan masyarakat minang di manapun mereka berpijak serta menjadi identitas sebagai makanan khas indonesia di mata dunia dalam proses pembuatannya diolah dengan bahan daging sapi yang dimasak dengan santan dan rempah khas perpaduan rasa gurih manis dan pedas yang mampu menggoyang lidah siapa pun beberapa bumbu khas yang digunakan seperti bawang putih bawang merah jahe lengkuas cabai merah daun kunyit dan daun jeruk dimasak selama 7 jam sehingga menghasilkan daging sapi bertekstur empuk yang enak dinikmati proses memasaknya membutuhkan waktu lama hingga tidak adanya cairan pada masakan memiliki cita rasa yang khas dengan daging yang empuk namun tidak mudah hancur dan mampu bertahan dalam waktu lama terlebih resep yang diperlukan sangat simple meski memasaknya dalam waktu yang lama rasanya yang enak tak hanya dikenal di indonesia namun juga telah diakui hingga ke mancanegara alasan tersebutlah yang membuat rendang menjadi favorit banyak orang dan terenak di dunia tak mengherankan bila rendang dapat dengan mudah menembus pasar kuliner internasional dengan rasanya yang kaya rempah khas selain terenak juga diyakini sebagai makanan halal hal ini secara tidak langsung membuktikan bahwa kuliner nusantara mampu bersaing di kancah internasional\n"
          ]
        }
      ]
    },
    {
      "cell_type": "code",
      "metadata": {
        "id": "Rrc4Uu6edffh",
        "colab": {
          "base_uri": "https://localhost:8080/",
          "height": 496
        },
        "outputId": "6a8c3aad-6ff1-4d80-fba7-23dbe27bc101"
      },
      "source": [
        "stemmed_text = ina_stemmer.stem(text_from_token_no_stop_words)\n",
        "stemmed_text"
      ],
      "id": "Rrc4Uu6edffh",
      "execution_count": null,
      "outputs": [
        {
          "output_type": "execute_result",
          "data": {
            "application/vnd.google.colaboratory.intrinsic+json": {
              "type": "string"
            },
            "text/plain": [
              "'rendang nobat jadi salah satu makan enak dunia makan khas sumatera barat memang gari banyak orang baik indonesia maupun mancanegara rendang mula rupa menu utama rumah makan asal sumatera barat kenal masakan padang rendang khas mang paling enak dunia masakan milik tampil sisa potong daging warna coklat hitam kering tradisi minangkabau rendang anggap makan hormat acara adat raya adat nikah acara penting lain istana negara sedang terima kunjung negara rendang sering saji para tamu masyarakat mang rendang milik filosofi arti sabar bijak tekun ini jadi bangga masyarakat mang mana pijak jadi identitas makan khas indonesia mata dunia proses buat olah bahan daging sapi masak santan rempah khas padu rasa gurih manis pedas mampu goyang lidah siapa beberapa bumbu khas guna bawang putih bawang merah jahe lengkuas cabai merah daun kunyit daun jeruk masak lama 7 jam hasil daging sapi tekstur empuk enak nikmat proses masak butuh waktu lama hingga ada cair masakan milik cita rasa khas daging empuk tidak mudah hancur mampu tahan waktu lama lebih resep perlu sangat simple meski masak waktu lama rasa enak tak kenal indonesia aku hingga mancanegara alas sebut buat rendang jadi favorit banyak orang enak dunia tak heran bila rendang mudah tembus pasar kuliner internasional dengan rasa yang kaya rempah khas enak juga yakin makan halal ini tidak langsung bukti kuliner nusantara mampu saing kancah internasional'"
            ]
          },
          "metadata": {},
          "execution_count": 36
        }
      ]
    },
    {
      "cell_type": "code",
      "metadata": {
        "id": "A5SeT7cxp3OM",
        "colab": {
          "base_uri": "https://localhost:8080/"
        },
        "outputId": "0cf1125e-2d7e-42ef-9f53-af6d39578c92"
      },
      "source": [
        "token_from_stemmed_text = word_tokenize(stemmed_text)\n",
        "print(token_from_stemmed_text)"
      ],
      "id": "A5SeT7cxp3OM",
      "execution_count": null,
      "outputs": [
        {
          "output_type": "stream",
          "name": "stdout",
          "text": [
            "['rendang', 'nobat', 'jadi', 'salah', 'satu', 'makan', 'enak', 'dunia', 'makan', 'khas', 'sumatera', 'barat', 'memang', 'gari', 'banyak', 'orang', 'baik', 'indonesia', 'maupun', 'mancanegara', 'rendang', 'mula', 'rupa', 'menu', 'utama', 'rumah', 'makan', 'asal', 'sumatera', 'barat', 'kenal', 'masakan', 'padang', 'rendang', 'khas', 'mang', 'paling', 'enak', 'dunia', 'masakan', 'milik', 'tampil', 'sisa', 'potong', 'daging', 'warna', 'coklat', 'hitam', 'kering', 'tradisi', 'minangkabau', 'rendang', 'anggap', 'makan', 'hormat', 'acara', 'adat', 'raya', 'adat', 'nikah', 'acara', 'penting', 'lain', 'istana', 'negara', 'sedang', 'terima', 'kunjung', 'negara', 'rendang', 'sering', 'saji', 'para', 'tamu', 'masyarakat', 'mang', 'rendang', 'milik', 'filosofi', 'arti', 'sabar', 'bijak', 'tekun', 'ini', 'jadi', 'bangga', 'masyarakat', 'mang', 'mana', 'pijak', 'jadi', 'identitas', 'makan', 'khas', 'indonesia', 'mata', 'dunia', 'proses', 'buat', 'olah', 'bahan', 'daging', 'sapi', 'masak', 'santan', 'rempah', 'khas', 'padu', 'rasa', 'gurih', 'manis', 'pedas', 'mampu', 'goyang', 'lidah', 'siapa', 'beberapa', 'bumbu', 'khas', 'guna', 'bawang', 'putih', 'bawang', 'merah', 'jahe', 'lengkuas', 'cabai', 'merah', 'daun', 'kunyit', 'daun', 'jeruk', 'masak', 'lama', '7', 'jam', 'hasil', 'daging', 'sapi', 'tekstur', 'empuk', 'enak', 'nikmat', 'proses', 'masak', 'butuh', 'waktu', 'lama', 'hingga', 'ada', 'cair', 'masakan', 'milik', 'cita', 'rasa', 'khas', 'daging', 'empuk', 'tidak', 'mudah', 'hancur', 'mampu', 'tahan', 'waktu', 'lama', 'lebih', 'resep', 'perlu', 'sangat', 'simple', 'meski', 'masak', 'waktu', 'lama', 'rasa', 'enak', 'tak', 'kenal', 'indonesia', 'aku', 'hingga', 'mancanegara', 'alas', 'sebut', 'buat', 'rendang', 'jadi', 'favorit', 'banyak', 'orang', 'enak', 'dunia', 'tak', 'heran', 'bila', 'rendang', 'mudah', 'tembus', 'pasar', 'kuliner', 'internasional', 'dengan', 'rasa', 'yang', 'kaya', 'rempah', 'khas', 'enak', 'juga', 'yakin', 'makan', 'halal', 'ini', 'tidak', 'langsung', 'bukti', 'kuliner', 'nusantara', 'mampu', 'saing', 'kancah', 'internasional']\n"
          ]
        }
      ]
    },
    {
      "cell_type": "code",
      "metadata": {
        "id": "sX3OXUCdrDX7",
        "colab": {
          "base_uri": "https://localhost:8080/"
        },
        "outputId": "5766fc72-e415-46dc-952f-d6542e0ffc92"
      },
      "source": [
        "frekuensi_kata_ina = {}\n",
        "for kata in token_from_stemmed_text:\n",
        "  if kata not in frekuensi_kata_ina:\n",
        "    frekuensi_kata_ina[kata] = 1\n",
        "  else:\n",
        "    frekuensi_kata_ina[kata] += 1\n",
        "\n",
        "print(frekuensi_kata_ina)"
      ],
      "id": "sX3OXUCdrDX7",
      "execution_count": null,
      "outputs": [
        {
          "output_type": "stream",
          "name": "stdout",
          "text": [
            "{'rendang': 8, 'nobat': 1, 'jadi': 4, 'salah': 1, 'satu': 1, 'makan': 6, 'enak': 6, 'dunia': 4, 'khas': 7, 'sumatera': 2, 'barat': 2, 'memang': 1, 'gari': 1, 'banyak': 2, 'orang': 2, 'baik': 1, 'indonesia': 3, 'maupun': 1, 'mancanegara': 2, 'mula': 1, 'rupa': 1, 'menu': 1, 'utama': 1, 'rumah': 1, 'asal': 1, 'kenal': 2, 'masakan': 3, 'padang': 1, 'mang': 3, 'paling': 1, 'milik': 3, 'tampil': 1, 'sisa': 1, 'potong': 1, 'daging': 4, 'warna': 1, 'coklat': 1, 'hitam': 1, 'kering': 1, 'tradisi': 1, 'minangkabau': 1, 'anggap': 1, 'hormat': 1, 'acara': 2, 'adat': 2, 'raya': 1, 'nikah': 1, 'penting': 1, 'lain': 1, 'istana': 1, 'negara': 2, 'sedang': 1, 'terima': 1, 'kunjung': 1, 'sering': 1, 'saji': 1, 'para': 1, 'tamu': 1, 'masyarakat': 2, 'filosofi': 1, 'arti': 1, 'sabar': 1, 'bijak': 1, 'tekun': 1, 'ini': 2, 'bangga': 1, 'mana': 1, 'pijak': 1, 'identitas': 1, 'mata': 1, 'proses': 2, 'buat': 2, 'olah': 1, 'bahan': 1, 'sapi': 2, 'masak': 4, 'santan': 1, 'rempah': 2, 'padu': 1, 'rasa': 4, 'gurih': 1, 'manis': 1, 'pedas': 1, 'mampu': 3, 'goyang': 1, 'lidah': 1, 'siapa': 1, 'beberapa': 1, 'bumbu': 1, 'guna': 1, 'bawang': 2, 'putih': 1, 'merah': 2, 'jahe': 1, 'lengkuas': 1, 'cabai': 1, 'daun': 2, 'kunyit': 1, 'jeruk': 1, 'lama': 4, '7': 1, 'jam': 1, 'hasil': 1, 'tekstur': 1, 'empuk': 2, 'nikmat': 1, 'butuh': 1, 'waktu': 3, 'hingga': 2, 'ada': 1, 'cair': 1, 'cita': 1, 'tidak': 2, 'mudah': 2, 'hancur': 1, 'tahan': 1, 'lebih': 1, 'resep': 1, 'perlu': 1, 'sangat': 1, 'simple': 1, 'meski': 1, 'tak': 2, 'aku': 1, 'alas': 1, 'sebut': 1, 'favorit': 1, 'heran': 1, 'bila': 1, 'tembus': 1, 'pasar': 1, 'kuliner': 2, 'internasional': 2, 'dengan': 1, 'yang': 1, 'kaya': 1, 'juga': 1, 'yakin': 1, 'halal': 1, 'langsung': 1, 'bukti': 1, 'nusantara': 1, 'saing': 1, 'kancah': 1}\n"
          ]
        }
      ]
    }
  ]
}